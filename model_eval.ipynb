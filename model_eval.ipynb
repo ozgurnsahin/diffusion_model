{
 "cells": [
  {
   "cell_type": "code",
   "execution_count": 42,
   "id": "6a1c0028",
   "metadata": {},
   "outputs": [],
   "source": [
    "# Imports\n",
    "import torch\n",
    "import pickle\n",
    "import numpy as np\n",
    "import matplotlib.pyplot as plt\n",
    "from torch_fidelity import calculate_metrics\n",
    "import os\n",
    "from pathlib import Path\n",
    "import shutil\n",
    "import tempfile\n",
    "from PIL import Image"
   ]
  },
  {
   "cell_type": "code",
   "execution_count": 28,
   "id": "dbd785e9",
   "metadata": {},
   "outputs": [
    {
     "name": "stdout",
     "output_type": "stream",
     "text": [
      "Using device: cpu\n"
     ]
    }
   ],
   "source": [
    "# Set device\n",
    "device = torch.device('cuda' if torch.cuda.is_available() else 'cpu')\n",
    "print(f\"Using device: {device}\")"
   ]
  },
  {
   "cell_type": "code",
   "execution_count": 29,
   "id": "35d24722",
   "metadata": {},
   "outputs": [],
   "source": [
    "with open('processed_datasets.pkl', 'rb') as f:\n",
    "    processed_datasets = pickle.load(f)"
   ]
  },
  {
   "cell_type": "code",
   "execution_count": 30,
   "id": "3a765880",
   "metadata": {},
   "outputs": [],
   "source": [
    "# Load trained model\n",
    "def load_trained_model(model_path, device):\n",
    "    checkpoint = torch.load(model_path, map_location=device, weights_only=False)\n",
    "    \n",
    "    model_components = checkpoint['model_components']\n",
    "    noise_schedule = checkpoint['noise_schedule']\n",
    "    training_info = checkpoint['training_info']\n",
    "    \n",
    "    for name, component in model_components.items():\n",
    "        component.to(device)\n",
    "        component.eval()\n",
    "    \n",
    "    print(f\"Category: {training_info['category']}\")\n",
    "    print(f\"Training epochs: {training_info['num_epochs']}\")\n",
    "    print(f\"Final loss: {training_info['final_loss']:.4f}\")\n",
    "    print(f\"Model components: {list(model_components.keys())}\")\n",
    "    \n",
    "    return model_components, noise_schedule, training_info"
   ]
  },
  {
   "cell_type": "code",
   "execution_count": 37,
   "id": "8be298b9",
   "metadata": {},
   "outputs": [],
   "source": [
    "# Helper function to generate sketches\n",
    "def model_forward_training(sequences, model_components, categories, timesteps):\n",
    "    # Get components\n",
    "    stroke_embedder = model_components['stroke_embedder']\n",
    "    category_embedder = model_components['category_embedder']\n",
    "    temporal_encoder = model_components['temporal_encoder']\n",
    "    noise_predictor = model_components['noise_predictor']\n",
    "    #attention_layer = model_components['attention_layer']\n",
    "    \n",
    "    batch_size, seq_len, _ = sequences.shape\n",
    "    \n",
    "    # Embded stroke sequences\n",
    "    stroke_embeddings = stroke_embedder(sequences) # [batch, seq_len, embedding_dim]\n",
    "    \n",
    "    # Embed categories and inject into sequence\n",
    "    category_embeddings = category_embedder(categories)  # [batch, embedding_dim]\n",
    "    category_expanded = category_embeddings.unsqueeze(1).expand(-1, seq_len, -1)\n",
    "    \n",
    "    # Combine stroke and category embeddings\n",
    "    conditioned_embeddings = stroke_embeddings + category_expanded\n",
    "    \n",
    "    # Process through LSTM\n",
    "    lstm_output, _ = temporal_encoder(conditioned_embeddings)  # [batch, seq_len, hidden_dim]\n",
    "    \n",
    "    # Self attention\n",
    "    #final_output, _ = attention_layer(lstm_output, lstm_output, lstm_output)\n",
    "    \n",
    "    # Predict noise\n",
    "    predicted_noise = noise_predictor(lstm_output)\n",
    "    \n",
    "    return predicted_noise"
   ]
  },
  {
   "cell_type": "code",
   "execution_count": 32,
   "id": "39c8d8dd",
   "metadata": {},
   "outputs": [],
   "source": [
    "# Generate samples from the model\n",
    "def generate_samples(model_components, noise_schedule, num_samples, seq_length, device, num_steps=500, category_id=1):\n",
    "    generated_samples = []\n",
    "    \n",
    "    # Set all model components to eval mode\n",
    "    for component in model_components.values():\n",
    "        component.eval()\n",
    "    \n",
    "    with torch.no_grad():\n",
    "        for i in range(num_samples):\n",
    "            # Start with random noise\n",
    "            sketch = torch.randn(1, seq_length, 3, device=device)\n",
    "            sketch[0, :, 2] = 2.0  # Start with pen down\n",
    "            \n",
    "            # Category for conditioning\n",
    "            category = torch.tensor([category_id], device=device)\n",
    "            \n",
    "            # Simple denoising loop (same as your generate_simple_sketch)\n",
    "            for step in range(num_steps):\n",
    "                # Current timestep (going from high noise to low noise)\n",
    "                t = torch.tensor([num_steps - step - 1], device=device)\n",
    "                \n",
    "                # Predict noise using your model (using your model_forward_training function)\n",
    "                predicted_noise = model_forward_training(sketch, model_components, category, t)\n",
    "                \n",
    "                # PROPER DDPM denoising step (exactly like your function)\n",
    "                if step < num_steps - 1:\n",
    "                    # Get noise schedule values\n",
    "                    alpha_t = noise_schedule['alphas'][t]\n",
    "                    beta_t = noise_schedule['betas'][t]\n",
    "                    alpha_cumprod_t = noise_schedule['alphas_cumprod'][t]\n",
    "                    \n",
    "                    # DDPM formula\n",
    "                    noise = torch.randn_like(sketch) if step < num_steps - 1 else torch.zeros_like(sketch)\n",
    "                    coeff1 = 1 / torch.sqrt(alpha_t)\n",
    "                    coeff2 = beta_t / torch.sqrt(1 - alpha_cumprod_t)\n",
    "                    \n",
    "                    # Apply to coordinates only\n",
    "                    sketch[:, :, :2] = coeff1 * (sketch[:, :, :2] - coeff2 * predicted_noise[:, :, :2]) + torch.sqrt(beta_t) * noise[:, :, :2]\n",
    "                    \n",
    "                    # For pen states, use gentler denoising\n",
    "                    pen_noise_scale = 0.01 * (num_steps - step) / num_steps\n",
    "                    sketch[:, :, 2] = sketch[:, :, 2] - pen_noise_scale * predicted_noise[:, :, 2]\n",
    "                \n",
    "                # Keep pen states reasonable\n",
    "                sketch[:, :, 2] = torch.clamp(sketch[:, :, 2], 0, 3)\n",
    "            \n",
    "            # Add the generated sketch to samples\n",
    "            generated_samples.append(sketch[0].cpu().numpy())\n",
    "            \n",
    "            # Progress tracking\n",
    "            if (i + 1) % 50 == 0:\n",
    "                print(f\"Generated {i + 1}/{num_samples} samples\")\n",
    "    return np.array(generated_samples)"
   ]
  },
  {
   "cell_type": "code",
   "execution_count": 43,
   "id": "b0e10af9",
   "metadata": {},
   "outputs": [],
   "source": [
    "def stroke_to_image_and_save(stroke_sequence, save_path, image_size=64):\n",
    "    img = np.zeros((image_size, image_size))\n",
    "    \n",
    "    for i in range(len(stroke_sequence)):\n",
    "        x, y, pen_state = stroke_sequence[i]\n",
    "        \n",
    "        # Skip padding and end markers\n",
    "        if pen_state == -1 or pen_state == 3:\n",
    "            continue\n",
    "            \n",
    "        # Only draw when pen is down (pen_state == 2)\n",
    "        if pen_state == 2:\n",
    "            # Convert from [-1, 1] to [0, image_size-1]\n",
    "            x_pixel = int((x + 1) * (image_size - 1) / 2)\n",
    "            y_pixel = int((y + 1) * (image_size - 1) / 2)\n",
    "            \n",
    "            x_pixel = np.clip(x_pixel, 0, image_size-1)\n",
    "            y_pixel = np.clip(y_pixel, 0, image_size-1)\n",
    "            \n",
    "            # Draw point with small brush\n",
    "            for dx in [-1, 0, 1]:\n",
    "                for dy in [-1, 0, 1]:\n",
    "                    nx, ny = x_pixel + dx, y_pixel + dy\n",
    "                    if 0 <= nx < image_size and 0 <= ny < image_size:\n",
    "                        img[ny, nx] = 1.0\n",
    "    \n",
    "    # Convert to RGB and save\n",
    "    img_rgb = np.stack([img, img, img], axis=2)\n",
    "    img_uint8 = (img_rgb * 255).astype(np.uint8)\n",
    "    pil_img = Image.fromarray(img_uint8, 'RGB')\n",
    "    pil_img.save(save_path)\n",
    "\n",
    "def create_image_directories(real_data, generated_data, temp_dir):\n",
    "    real_dir = os.path.join(temp_dir, \"real\")\n",
    "    gen_dir = os.path.join(temp_dir, \"generated\")\n",
    "    \n",
    "    os.makedirs(real_dir, exist_ok=True)\n",
    "    os.makedirs(gen_dir, exist_ok=True)\n",
    "    \n",
    "    # Save real images\n",
    "    print(\"Saving real images...\")\n",
    "    for i, stroke_seq in enumerate(real_data):\n",
    "        save_path = os.path.join(real_dir, f\"real_{i:06d}.png\")\n",
    "        stroke_to_image_and_save(stroke_seq, save_path)\n",
    "        if (i + 1) % 100 == 0:\n",
    "            print(f\"  Saved {i + 1}/{len(real_data)} real images\")\n",
    "    \n",
    "    # Save generated images\n",
    "    print(\"Saving generated images...\")\n",
    "    for i, stroke_seq in enumerate(generated_data):\n",
    "        save_path = os.path.join(gen_dir, f\"gen_{i:06d}.png\")\n",
    "        stroke_to_image_and_save(stroke_seq, save_path)\n",
    "        if (i + 1) % 100 == 0:\n",
    "            print(f\"  Saved {i + 1}/{len(generated_data)} generated images\")\n",
    "    \n",
    "    return real_dir, gen_dir"
   ]
  },
  {
   "cell_type": "code",
   "execution_count": 44,
   "id": "f6a259d4",
   "metadata": {},
   "outputs": [],
   "source": [
    "def calculate_kid_fid_metrics(real_dir, generated_dir):\n",
    "    metrics = calculate_metrics(\n",
    "            input1=generated_dir,\n",
    "            input2=real_dir,\n",
    "            fid=True,\n",
    "            kid=True,\n",
    "            cuda=torch.cuda.is_available(),\n",
    "            verbose=True\n",
    "        )\n",
    "    \n",
    "    fid_score = metrics['frechet_inception_distance']\n",
    "    kid_score = metrics['kernel_inception_distance_mean']\n",
    "    \n",
    "    return fid_score, kid_score"
   ]
  },
  {
   "cell_type": "code",
   "execution_count": 48,
   "id": "52ca3518",
   "metadata": {},
   "outputs": [],
   "source": [
    "# Model evaluation\n",
    "def run_evaluation(category, device, processed_datasets, model_path, num_samples=100):\n",
    "    # Load trained model\n",
    "    model_components, noise_schedule, _ = load_trained_model(model_path, device)\n",
    "    \n",
    "    # Load test data\n",
    "    real_data = processed_datasets[category]['test_data']\n",
    "    seq_length = real_data.shape[1]\n",
    "    \n",
    "    print(f\"Using {num_samples} samples\")\n",
    "    # Use subset for faster evaluation\n",
    "    \n",
    "    num_samples = min(num_samples, len(real_data))\n",
    "    real_data_subset = real_data[:num_samples]\n",
    "    \n",
    "    generated_data = generate_samples(model_components, noise_schedule, num_samples, seq_length, device, category_id=0, num_steps=500)\n",
    "    \n",
    "    # Calculate metrics\n",
    "    with tempfile.TemporaryDirectory() as temp_dir:\n",
    "        print(\"Creating image directories...\")\n",
    "        real_dir, gen_dir = create_image_directories(real_data_subset, generated_data, temp_dir)\n",
    "        \n",
    "        print(\"Calculating FID/KID metrics...\")\n",
    "        try:\n",
    "            fid_score, kid_score = calculate_kid_fid_metrics(real_dir, gen_dir)\n",
    "            \n",
    "            print(\"\\nRESULTS:\")\n",
    "            print(f\"FID Score: {fid_score:.4f}\")\n",
    "            print(f\"KID Score: {kid_score:.4f}\")\n",
    "            \n",
    "            return {\n",
    "                'category': category,\n",
    "                'FID': fid_score,\n",
    "                'KID': kid_score,\n",
    "                'num_samples': num_samples,\n",
    "                'seq_length': seq_length\n",
    "            }\n",
    "            \n",
    "        except Exception as e:\n",
    "            print(f\"Metric calculation failed: {e}\")\n",
    "            return None"
   ]
  },
  {
   "cell_type": "code",
   "execution_count": 49,
   "id": "a95d80ea",
   "metadata": {},
   "outputs": [
    {
     "name": "stdout",
     "output_type": "stream",
     "text": [
      "Category: bus\n",
      "Training epochs: 100\n",
      "Final loss: 0.0190\n",
      "Model components: ['stroke_embedder', 'category_embedder', 'temporal_encoder', 'noise_predictor']\n",
      "Using 100 samples\n",
      "Generated 50/100 samples\n",
      "Generated 100/100 samples\n",
      "Creating image directories...\n",
      "Saving real images...\n",
      "  Saved 100/100 real images\n",
      "Saving generated images...\n"
     ]
    },
    {
     "name": "stderr",
     "output_type": "stream",
     "text": [
      "/tmp/ipykernel_2536/1127312112.py:30: DeprecationWarning: 'mode' parameter is deprecated and will be removed in Pillow 13 (2026-10-15)\n",
      "  pil_img = Image.fromarray(img_uint8, 'RGB')\n"
     ]
    },
    {
     "name": "stdout",
     "output_type": "stream",
     "text": [
      "  Saved 100/100 generated images\n",
      "Calculating FID/KID metrics...\n"
     ]
    },
    {
     "name": "stderr",
     "output_type": "stream",
     "text": [
      "Creating feature extractor \"inception-v3-compat\" with features ['2048']\n",
      "Extracting features from input1\n",
      "Looking for samples non-recursivelty in \"/tmp/tmpaz41h91n/generated\" with extensions png,jpg,jpeg\n",
      "Found 100 samples\n",
      "Processing samples                                                        \n",
      "Extracting features from input2\n",
      "Looking for samples non-recursivelty in \"/tmp/tmpaz41h91n/real\" with extensions png,jpg,jpeg\n",
      "Found 100 samples\n",
      "Processing samples                                                        \n"
     ]
    },
    {
     "name": "stdout",
     "output_type": "stream",
     "text": [
      "Metric calculation failed: KID subset size 1000 cannot be smaller than the number of samples (input_1: 100, input_2: 100). Consider using \"kid_subset_size\" kwarg or \"--kid-subset-size\" command line key to proceed.\n"
     ]
    },
    {
     "name": "stderr",
     "output_type": "stream",
     "text": [
      "Frechet Inception Distance: 435.27740579160036\n"
     ]
    }
   ],
   "source": [
    "score_dict = run_evaluation('bus', device, processed_datasets, 'models/sketch_diffusion_bus_20250803_084052.pth')"
   ]
  },
  {
   "cell_type": "code",
   "execution_count": 51,
   "id": "985f8e34",
   "metadata": {},
   "outputs": [
    {
     "name": "stdout",
     "output_type": "stream",
     "text": [
      "None\n"
     ]
    }
   ],
   "source": [
    "print(score_dict)"
   ]
  },
  {
   "cell_type": "code",
   "execution_count": null,
   "id": "877be0d1",
   "metadata": {},
   "outputs": [],
   "source": []
  }
 ],
 "metadata": {
  "kernelspec": {
   "display_name": ".venv",
   "language": "python",
   "name": "python3"
  },
  "language_info": {
   "codemirror_mode": {
    "name": "ipython",
    "version": 3
   },
   "file_extension": ".py",
   "mimetype": "text/x-python",
   "name": "python",
   "nbconvert_exporter": "python",
   "pygments_lexer": "ipython3",
   "version": "3.10.12"
  }
 },
 "nbformat": 4,
 "nbformat_minor": 5
}
