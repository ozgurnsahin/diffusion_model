{
 "cells": [
  {
   "cell_type": "markdown",
   "id": "41d87c93",
   "metadata": {},
   "source": [
    "# Conditional Diffusion Model\n",
    "\n",
    "## Architecture Design & Rationale\n",
    "\n",
    "    Core Model Components\n",
    "    The model employs a modular architecture with four specialized components:\n",
    "\n",
    "    Component  Purpose  Design  Choice\n",
    "    Stroke EmbedderTransform (x, y, pen_state) → latent space Preserves spatial relationships\n",
    "    Category EmbedderInject semantic conditioning Enables conditional generation\n",
    "    Temporal EncoderModel sequential dependencies LSTM for stroke order modeling\n",
    "    Noise PredictorEstimate diffusion noise Maps latent → coordinate space\n",
    "\n",
    "## Forward Pass Design\n",
    "    Triple Conditioning Strategy: stroke_embeddings + category_expanded + timestep_embeddings\n",
    "\n",
    "    Additive combination preserves individual signal contributions\n",
    "    Layer normalization ensures training stability\n",
    "    LSTM processing captures temporal drawing patterns\n",
    "    LSTM over attention for sequential stroke modeling - validates that temporal order matters more than spatial relationships for sketch generation.\n",
    "\n",
    "## Training Strategy & Hyperparameter Analysis\n",
    "    Architecture Dimensions:\n",
    "        json: {\n",
    "            \"embedding_dim\": 256,\n",
    "            \"hidden_dim\": 512,\n",
    "            \"lstm_layers\": 2,\n",
    "            \"parameters\": \"~6.2M\",\n",
    "            \"rationale\": \"Balance between expressiveness and efficiency\"\n",
    "        }\n",
    "    \n",
    "## Training Configuration\n",
    "    Epochs: 175-200 (category-dependent optimization)\n",
    "    Learning Rate: 1e-4 (conservative for stable diffusion training)\n",
    "    Loss Function: MSE with specialized pen state handling\n",
    "    Diffusion Steps: 1000 training / 500 inference (efficiency balance)\n",
    "\n",
    "# Key Implementation Insights\n",
    "## 1. Diffusion Process\n",
    "\n",
    "Pen state specialization: Different noise scales for discrete vs continuous components\n",
    "\n",
    "Coordinate space consistency: [-1, 1] normalization maintained throughout\n",
    "\n",
    "Generation validation: Automatic pen state clamping ensures valid sequences\n",
    "\n",
    "\n",
    "## 2. Attention Experiment\n",
    "Hypothesis: Attention would improve spatial understanding\n",
    "\n",
    "Result: FID degradation 92.2 → 250.4\n",
    "\n",
    "Insight: Sequential stroke modeling benefits more from temporal order (LSTM) than spatial relationships (attention)\n",
    "\n",
    "\n",
    "## 3. Training Efficiency\n",
    "Loss convergence: 0.036-0.046 across categories indicates optimal hyperparameters\n",
    "\n",
    "Epoch scaling: More complex categories require longer training (bus: 175, rabbit: 200)\n",
    "\n",
    "Architecture consistency: Same model works across all categories with different training durations\n",
    "\n",
    "\n",
    "## 4. Possible Improvements\n",
    "### Architectural Constraints\n",
    "\n",
    "Single-category models: No transfer learning between categories\n",
    "\n",
    "Fixed sequence length: Padding required for variable-length sketches\n",
    "\n",
    "Semantic gap: Strong statistical quality but limited shape understanding. Model analysis correct corrdintes and pen strikes but does not capure the shape of the sketch\n",
    "\n",
    "### 5. Model Improvement Directions\n",
    "\n",
    "Unified multi-category model with shared backbone\n",
    "\n",
    "Hierarchical generation: Stroke-level then point-level modeling\n",
    "\n",
    "Semantic conditioning: Stronger category control mechanisms\n",
    "\n"
   ]
  },
  {
   "cell_type": "code",
   "execution_count": null,
   "id": "82987727",
   "metadata": {
    "execution": {
     "iopub.execute_input": "2025-08-07T06:28:56.249725Z",
     "iopub.status.busy": "2025-08-07T06:28:56.249479Z",
     "iopub.status.idle": "2025-08-07T06:28:59.912880Z",
     "shell.execute_reply": "2025-08-07T06:28:59.912304Z",
     "shell.execute_reply.started": "2025-08-07T06:28:56.249702Z"
    },
    "executionInfo": {
     "elapsed": 5303,
     "status": "ok",
     "timestamp": 1754383311869,
     "user": {
      "displayName": "ÖZGÜR NAZIM ŞAHIN",
      "userId": "05319994504941481505"
     },
     "user_tz": -180
    },
    "id": "82987727",
    "trusted": true
   },
   "outputs": [],
   "source": [
    "# Imports\n",
    "import torch\n",
    "import torch.nn as nn\n",
    "import torch.nn.functional as F\n",
    "from torch.utils.data import DataLoader, TensorDataset\n",
    "import numpy as np\n",
    "import matplotlib.pyplot as plt\n",
    "from tqdm import tqdm\n",
    "import pickle\n",
    "import os\n",
    "from datetime import datetime\n",
    "import math"
   ]
  },
  {
   "cell_type": "code",
   "execution_count": null,
   "id": "dyhh4dw0CuP_",
   "metadata": {
    "colab": {
     "base_uri": "https://localhost:8080/"
    },
    "execution": {
     "iopub.execute_input": "2025-08-07T06:28:59.913796Z",
     "iopub.status.busy": "2025-08-07T06:28:59.913523Z",
     "iopub.status.idle": "2025-08-07T06:29:01.343012Z",
     "shell.execute_reply": "2025-08-07T06:29:01.342265Z",
     "shell.execute_reply.started": "2025-08-07T06:28:59.913779Z"
    },
    "executionInfo": {
     "elapsed": 32395,
     "status": "ok",
     "timestamp": 1754333698901,
     "user": {
      "displayName": "ÖZGÜR NAZIM ŞAHIN",
      "userId": "05319994504941481505"
     },
     "user_tz": -180
    },
    "id": "dyhh4dw0CuP_",
    "outputId": "34fb625a-6857-4678-ad39-cf245a053450",
    "trusted": true
   },
   "outputs": [],
   "source": [
    "# Load preproccesed data\n",
    "with open(\"processed_datasets.pkl\", \"rb\") as file:\n",
    "    processed_datasets = pickle.load(file)"
   ]
  },
  {
   "cell_type": "code",
   "execution_count": 4,
   "id": "2d4f662c",
   "metadata": {
    "colab": {
     "base_uri": "https://localhost:8080/"
    },
    "execution": {
     "iopub.execute_input": "2025-08-07T06:29:01.344771Z",
     "iopub.status.busy": "2025-08-07T06:29:01.344499Z",
     "iopub.status.idle": "2025-08-07T06:29:01.350520Z",
     "shell.execute_reply": "2025-08-07T06:29:01.349818Z",
     "shell.execute_reply.started": "2025-08-07T06:29:01.344748Z"
    },
    "executionInfo": {
     "elapsed": 140,
     "status": "ok",
     "timestamp": 1754333699094,
     "user": {
      "displayName": "ÖZGÜR NAZIM ŞAHIN",
      "userId": "05319994504941481505"
     },
     "user_tz": -180
    },
    "id": "2d4f662c",
    "outputId": "3853c05e-b432-4711-8ea2-2bafb1b9b163",
    "trusted": true
   },
   "outputs": [
    {
     "data": {
      "text/plain": [
       "dict_keys(['cat', 'rabbit', 'bus'])"
      ]
     },
     "execution_count": 4,
     "metadata": {},
     "output_type": "execute_result"
    }
   ],
   "source": [
    "processed_datasets.keys()"
   ]
  },
  {
   "cell_type": "code",
   "execution_count": null,
   "id": "cf0db8eb",
   "metadata": {
    "execution": {
     "iopub.execute_input": "2025-08-07T06:29:01.351545Z",
     "iopub.status.busy": "2025-08-07T06:29:01.351293Z",
     "iopub.status.idle": "2025-08-07T06:29:01.363550Z",
     "shell.execute_reply": "2025-08-07T06:29:01.362821Z",
     "shell.execute_reply.started": "2025-08-07T06:29:01.351524Z"
    },
    "executionInfo": {
     "elapsed": 215,
     "status": "ok",
     "timestamp": 1754333699310,
     "user": {
      "displayName": "ÖZGÜR NAZIM ŞAHIN",
      "userId": "05319994504941481505"
     },
     "user_tz": -180
    },
    "id": "cf0db8eb",
    "trusted": true
   },
   "outputs": [],
   "source": [
    "# Function to create a base diffusion model\n",
    "def diffusion_model(embedding_dim=256, hidden_dim=512, num_categories=3, num_layers=3, dropout=0.1):\n",
    "    # Stroke embedder: [x, y, pen_state] -> embedding\n",
    "    stroke_embedder = nn.Sequential(\n",
    "        nn.Linear(3, embedding_dim),\n",
    "        nn.LayerNorm(embedding_dim),\n",
    "        nn.ReLU(),\n",
    "        nn.Dropout(dropout),\n",
    "        nn.Linear(embedding_dim, embedding_dim),\n",
    "        nn.LayerNorm(embedding_dim)\n",
    "    )\n",
    "\n",
    "    # Category embedder: category_id -> embedding\n",
    "    category_embedder = nn.Embedding(num_categories, embedding_dim)\n",
    "\n",
    "    # Temporal encoder: LSTM for sequence modeling\n",
    "    temporal_encoder = nn.LSTM(\n",
    "        input_size=embedding_dim,\n",
    "        hidden_size=hidden_dim,\n",
    "        num_layers=num_layers,\n",
    "        batch_first=True,\n",
    "        dropout=dropout if num_layers > 1 else 0,\n",
    "        bidirectional=False\n",
    "    )\n",
    "\n",
    "    # Noise predictor: hidden_states -> predicted_noise\n",
    "    noise_predictor = nn.Sequential(\n",
    "        nn.Linear(hidden_dim, hidden_dim),\n",
    "        nn.ReLU(),\n",
    "        nn.Dropout(dropout),\n",
    "        nn.Linear(hidden_dim, hidden_dim // 2),\n",
    "        nn.ReLU(),\n",
    "        nn.Dropout(dropout * 0.5),  # Less dropout in final layers\n",
    "        nn.Linear(hidden_dim // 2, 3)\n",
    "    )\n",
    "\n",
    "    model_components = {\n",
    "        'stroke_embedder': stroke_embedder,\n",
    "        'category_embedder': category_embedder,\n",
    "        'temporal_encoder': temporal_encoder,\n",
    "        'noise_predictor': noise_predictor\n",
    "    }\n",
    "\n",
    "    return model_components"
   ]
  },
  {
   "cell_type": "code",
   "execution_count": 6,
   "id": "e94c2f14",
   "metadata": {
    "colab": {
     "base_uri": "https://localhost:8080/"
    },
    "execution": {
     "iopub.execute_input": "2025-08-07T06:29:01.364528Z",
     "iopub.status.busy": "2025-08-07T06:29:01.364279Z",
     "iopub.status.idle": "2025-08-07T06:29:01.379743Z",
     "shell.execute_reply": "2025-08-07T06:29:01.379035Z",
     "shell.execute_reply.started": "2025-08-07T06:29:01.364505Z"
    },
    "executionInfo": {
     "elapsed": 19,
     "status": "ok",
     "timestamp": 1754333699335,
     "user": {
      "displayName": "ÖZGÜR NAZIM ŞAHIN",
      "userId": "05319994504941481505"
     },
     "user_tz": -180
    },
    "id": "e94c2f14",
    "outputId": "7d5dff5f-d7af-453b-90b3-e87087d7120b",
    "trusted": true
   },
   "outputs": [
    {
     "data": {
      "text/plain": [
       "(10000, 571, 3)"
      ]
     },
     "execution_count": 6,
     "metadata": {},
     "output_type": "execute_result"
    }
   ],
   "source": [
    "processed_datasets['rabbit']['train_data'].shape"
   ]
  },
  {
   "cell_type": "code",
   "execution_count": 7,
   "id": "6vQldSuqlBpc",
   "metadata": {
    "execution": {
     "iopub.execute_input": "2025-08-07T06:29:01.642229Z",
     "iopub.status.busy": "2025-08-07T06:29:01.641975Z",
     "iopub.status.idle": "2025-08-07T06:29:01.647162Z",
     "shell.execute_reply": "2025-08-07T06:29:01.646485Z",
     "shell.execute_reply.started": "2025-08-07T06:29:01.642210Z"
    },
    "executionInfo": {
     "elapsed": 94,
     "status": "ok",
     "timestamp": 1754383374429,
     "user": {
      "displayName": "ÖZGÜR NAZIM ŞAHIN",
      "userId": "05319994504941481505"
     },
     "user_tz": -180
    },
    "id": "6vQldSuqlBpc",
    "trusted": true
   },
   "outputs": [],
   "source": [
    "def create_timestep_embedding(timesteps, embedding_dim, device):\n",
    "    half_dim = embedding_dim // 2\n",
    "    emb = math.log(10000) / (half_dim - 1)\n",
    "    emb = torch.exp(torch.arange(half_dim, device=device) * -emb)\n",
    "    emb = timesteps[:, None] * emb[None, :]\n",
    "    emb = torch.cat([torch.sin(emb), torch.cos(emb)], dim=1)\n",
    "\n",
    "    # Pad if odd dimension\n",
    "    if embedding_dim % 2 == 1:\n",
    "        emb = torch.cat([emb, torch.zeros_like(emb[:, :1])], dim=1)\n",
    "\n",
    "    return emb"
   ]
  },
  {
   "cell_type": "code",
   "execution_count": 8,
   "id": "02545f1f",
   "metadata": {
    "execution": {
     "iopub.execute_input": "2025-08-07T06:29:03.893777Z",
     "iopub.status.busy": "2025-08-07T06:29:03.892921Z",
     "iopub.status.idle": "2025-08-07T06:29:03.902141Z",
     "shell.execute_reply": "2025-08-07T06:29:03.901481Z",
     "shell.execute_reply.started": "2025-08-07T06:29:03.893741Z"
    },
    "executionInfo": {
     "elapsed": 57,
     "status": "ok",
     "timestamp": 1754383364300,
     "user": {
      "displayName": "ÖZGÜR NAZIM ŞAHIN",
      "userId": "05319994504941481505"
     },
     "user_tz": -180
    },
    "id": "02545f1f",
    "trusted": true
   },
   "outputs": [],
   "source": [
    "def model_forward_training(sequences, model_components, categories, timesteps):\n",
    "    # Get components\n",
    "    stroke_embedder = model_components['stroke_embedder']\n",
    "    category_embedder = model_components['category_embedder']\n",
    "    temporal_encoder = model_components['temporal_encoder']\n",
    "    noise_predictor = model_components['noise_predictor']\n",
    "\n",
    "    batch_size, seq_len, _ = sequences.shape\n",
    "\n",
    "    # Embded stroke sequences\n",
    "    stroke_embeddings = stroke_embedder(sequences) # [batch, seq_len, embedding_dim]\n",
    "\n",
    "    \n",
    "    # Embed categories and inject into sequence\n",
    "    category_embeddings = category_embedder(categories)  # [batch, embedding_dim]\n",
    "    category_expanded = category_embeddings.unsqueeze(1).expand(-1, seq_len, -1)\n",
    "\n",
    "    # Add timestep conditioning\n",
    "    device = sequences.device\n",
    "    t_emb = create_timestep_embedding(timesteps, stroke_embeddings.shape[-1], device)\n",
    "    t_expanded = t_emb.unsqueeze(1).expand(-1, seq_len, -1)\n",
    "\n",
    "    # Combine stroke and category embeddings\n",
    "    conditioned_embeddings = stroke_embeddings + category_expanded + t_expanded\n",
    "    conditioned_embeddings = F.layer_norm(conditioned_embeddings, conditioned_embeddings.shape[-1:])\n",
    "\n",
    "    # Process through LSTM\n",
    "    lstm_output, _ = temporal_encoder(conditioned_embeddings)  # [batch, seq_len, hidden_dim]\n",
    "\n",
    "    # Predict noise\n",
    "    predicted_noise = noise_predictor(lstm_output)\n",
    "\n",
    "    return predicted_noise"
   ]
  },
  {
   "cell_type": "code",
   "execution_count": null,
   "id": "ebbd6889",
   "metadata": {
    "execution": {
     "iopub.execute_input": "2025-08-07T06:29:05.182363Z",
     "iopub.status.busy": "2025-08-07T06:29:05.181671Z",
     "iopub.status.idle": "2025-08-07T06:29:05.196384Z",
     "shell.execute_reply": "2025-08-07T06:29:05.195480Z",
     "shell.execute_reply.started": "2025-08-07T06:29:05.182332Z"
    },
    "executionInfo": {
     "elapsed": 11,
     "status": "ok",
     "timestamp": 1754333699358,
     "user": {
      "displayName": "ÖZGÜR NAZIM ŞAHIN",
      "userId": "05319994504941481505"
     },
     "user_tz": -180
    },
    "id": "ebbd6889",
    "trusted": true
   },
   "outputs": [],
   "source": [
    "# Create progressive noise schedule for diffusion\n",
    "def create_noise_schedule(timesteps=1000):\n",
    "    s = 0.008\n",
    "    steps = timesteps + 1\n",
    "    x = torch.linspace(0, timesteps, steps)\n",
    "\n",
    "    # Cosine schedule formula\n",
    "    alphas_cumprod = torch.cos(((x / timesteps) + s) / (1 + s) * torch.pi * 0.5) ** 2\n",
    "    alphas_cumprod = alphas_cumprod / alphas_cumprod[0]  # Normalize\n",
    "\n",
    "    # Calculate betas from alphas\n",
    "    betas = 1 - (alphas_cumprod[1:] / alphas_cumprod[:-1])\n",
    "    betas = torch.clip(betas, 0.0001, 0.02)  # Clamp for stability\n",
    "\n",
    "    alphas = 1 - betas\n",
    "    alphas_cumprod = alphas_cumprod[1:]\n",
    "\n",
    "    noise_schedule = {\n",
    "        'betas': betas,\n",
    "        'alphas': alphas,\n",
    "        'alphas_cumprod': alphas_cumprod,\n",
    "        'timesteps': timesteps\n",
    "    }\n",
    "\n",
    "    return noise_schedule"
   ]
  },
  {
   "cell_type": "code",
   "execution_count": null,
   "id": "b1fc255b",
   "metadata": {
    "execution": {
     "iopub.execute_input": "2025-08-07T06:29:06.472561Z",
     "iopub.status.busy": "2025-08-07T06:29:06.472274Z",
     "iopub.status.idle": "2025-08-07T06:29:06.477525Z",
     "shell.execute_reply": "2025-08-07T06:29:06.476672Z",
     "shell.execute_reply.started": "2025-08-07T06:29:06.472540Z"
    },
    "executionInfo": {
     "elapsed": 73,
     "status": "ok",
     "timestamp": 1754333733076,
     "user": {
      "displayName": "ÖZGÜR NAZIM ŞAHIN",
      "userId": "05319994504941481505"
     },
     "user_tz": -180
    },
    "id": "b1fc255b",
    "trusted": true
   },
   "outputs": [],
   "source": [
    "# Noise addittion for sketch generation\n",
    "def noise_addition(sequences, noise, timesteps, noise_schedule):\n",
    "    alphas_cumprod_t = noise_schedule['alphas_cumprod'][timesteps].reshape(-1, 1, 1)\n",
    "    alphas_cumprod_t = torch.clamp(alphas_cumprod_t, 0.001, 0.999)\n",
    "\n",
    "    noisy_sequences = torch.sqrt(alphas_cumprod_t) * sequences + \\\n",
    "                     torch.sqrt(1 - alphas_cumprod_t) * noise\n",
    "    noisy_sequences = torch.clamp(noisy_sequences, -3.0, 3.0)\n",
    "    \n",
    "    return noisy_sequences"
   ]
  },
  {
   "cell_type": "code",
   "execution_count": 11,
   "id": "6ca594f0",
   "metadata": {
    "execution": {
     "iopub.execute_input": "2025-08-07T06:29:07.470271Z",
     "iopub.status.busy": "2025-08-07T06:29:07.470003Z",
     "iopub.status.idle": "2025-08-07T06:29:07.476150Z",
     "shell.execute_reply": "2025-08-07T06:29:07.475389Z",
     "shell.execute_reply.started": "2025-08-07T06:29:07.470250Z"
    },
    "executionInfo": {
     "elapsed": 273,
     "status": "ok",
     "timestamp": 1754333699664,
     "user": {
      "displayName": "ÖZGÜR NAZIM ŞAHIN",
      "userId": "05319994504941481505"
     },
     "user_tz": -180
    },
    "id": "6ca594f0",
    "trusted": true
   },
   "outputs": [],
   "source": [
    "def create_dataloader(dataset, batch_size=128):\n",
    "    category_mapping = {\n",
    "    'cat': 0,\n",
    "    'bus': 1,\n",
    "    'rabbit': 2\n",
    "    }\n",
    "\n",
    "    category_name = dataset['category']\n",
    "    category_id = category_mapping[category_name]\n",
    "\n",
    "    # Get data\n",
    "    train_data = dataset['train_data']\n",
    "    test_data = dataset['test_data']\n",
    "\n",
    "    # Convert train data to torch\n",
    "    train_sequences = torch.FloatTensor(train_data)\n",
    "    train_categories = torch.full((len(train_data),), category_id, dtype=torch.long)\n",
    "\n",
    "    # Convert test data to torch\n",
    "    test_sequences = torch.FloatTensor(test_data)\n",
    "    test_categories = torch.full((len(test_data),), category_id, dtype=torch.long)\n",
    "\n",
    "    # Create datasets\n",
    "    train_dataset = TensorDataset(train_sequences, train_categories)\n",
    "    test_dataset = TensorDataset(test_sequences, test_categories)\n",
    "\n",
    "    # Create DataLoaders\n",
    "    train_loader = DataLoader(train_dataset, batch_size=batch_size, shuffle=True)\n",
    "    test_loader = DataLoader(test_dataset, batch_size=batch_size, shuffle=False)\n",
    "\n",
    "    print(f\"Train: {len(train_dataset)} samples, {len(train_loader)} batches\")\n",
    "    print(f\"Test: {len(test_dataset)} samples, {len(test_loader)} batches\")\n",
    "\n",
    "    return train_loader, test_loader"
   ]
  },
  {
   "cell_type": "code",
   "execution_count": 12,
   "id": "dc018fe5",
   "metadata": {
    "colab": {
     "base_uri": "https://localhost:8080/"
    },
    "execution": {
     "iopub.execute_input": "2025-08-07T06:29:14.190503Z",
     "iopub.status.busy": "2025-08-07T06:29:14.189878Z",
     "iopub.status.idle": "2025-08-07T06:29:14.217967Z",
     "shell.execute_reply": "2025-08-07T06:29:14.217442Z",
     "shell.execute_reply.started": "2025-08-07T06:29:14.190479Z"
    },
    "executionInfo": {
     "elapsed": 13,
     "status": "ok",
     "timestamp": 1754333699692,
     "user": {
      "displayName": "ÖZGÜR NAZIM ŞAHIN",
      "userId": "05319994504941481505"
     },
     "user_tz": -180
    },
    "id": "dc018fe5",
    "outputId": "26678d13-bbf8-42f5-c9cf-4b1dc78ebc65",
    "trusted": true
   },
   "outputs": [
    {
     "name": "stdout",
     "output_type": "stream",
     "text": [
      "Train: 10000 samples, 79 batches\n",
      "Test: 2000 samples, 16 batches\n"
     ]
    }
   ],
   "source": [
    "rabbit_train_loader, rabbit_test_loader = create_dataloader(processed_datasets['rabbit'])"
   ]
  },
  {
   "cell_type": "code",
   "execution_count": 13,
   "id": "f4749716",
   "metadata": {
    "execution": {
     "iopub.execute_input": "2025-08-07T06:29:15.666745Z",
     "iopub.status.busy": "2025-08-07T06:29:15.666503Z",
     "iopub.status.idle": "2025-08-07T06:29:15.670521Z",
     "shell.execute_reply": "2025-08-07T06:29:15.669708Z",
     "shell.execute_reply.started": "2025-08-07T06:29:15.666729Z"
    },
    "executionInfo": {
     "elapsed": 60,
     "status": "ok",
     "timestamp": 1754383289172,
     "user": {
      "displayName": "ÖZGÜR NAZIM ŞAHIN",
      "userId": "05319994504941481505"
     },
     "user_tz": -180
    },
    "id": "f4749716",
    "trusted": true
   },
   "outputs": [],
   "source": [
    "# Setup device\n",
    "def setup_device():\n",
    "    device = torch.device('cuda' if torch.cuda.is_available() else 'cpu')\n",
    "    return device"
   ]
  },
  {
   "cell_type": "code",
   "execution_count": null,
   "id": "22fdf424",
   "metadata": {
    "execution": {
     "iopub.execute_input": "2025-08-07T06:29:17.504830Z",
     "iopub.status.busy": "2025-08-07T06:29:17.504551Z",
     "iopub.status.idle": "2025-08-07T06:29:17.508960Z",
     "shell.execute_reply": "2025-08-07T06:29:17.508182Z",
     "shell.execute_reply.started": "2025-08-07T06:29:17.504811Z"
    },
    "executionInfo": {
     "elapsed": 3,
     "status": "ok",
     "timestamp": 1754333699703,
     "user": {
      "displayName": "ÖZGÜR NAZIM ŞAHIN",
      "userId": "05319994504941481505"
     },
     "user_tz": -180
    },
    "id": "22fdf424",
    "trusted": true
   },
   "outputs": [],
   "source": [
    "# Learning rate decay scheduler\n",
    "def create_lr_scheduler(optimizer, num_epochs, lr, total_steps):\n",
    "    warmup_steps = min(1000, total_steps // 10)\n",
    "    scheduler = torch.optim.lr_scheduler.OneCycleLR(optimizer, max_lr=lr, total_steps=total_steps, pct_start=warmup_steps/total_steps, anneal_strategy='cos')\n",
    "    return scheduler"
   ]
  },
  {
   "cell_type": "code",
   "execution_count": 14,
   "id": "2fc5e417",
   "metadata": {
    "execution": {
     "iopub.execute_input": "2025-08-07T06:29:16.638242Z",
     "iopub.status.busy": "2025-08-07T06:29:16.637727Z",
     "iopub.status.idle": "2025-08-07T06:29:16.643061Z",
     "shell.execute_reply": "2025-08-07T06:29:16.642304Z",
     "shell.execute_reply.started": "2025-08-07T06:29:16.638224Z"
    },
    "executionInfo": {
     "elapsed": 2,
     "status": "ok",
     "timestamp": 1754333699700,
     "user": {
      "displayName": "ÖZGÜR NAZIM ŞAHIN",
      "userId": "05319994504941481505"
     },
     "user_tz": -180
    },
    "id": "2fc5e417",
    "trusted": true
   },
   "outputs": [],
   "source": [
    "# Setup adam optimizer\n",
    "def initialize_optimizer(model_components, lr, num_epochs, total_steps):\n",
    "    # Collect all parameters from all components\n",
    "    all_params = []\n",
    "    total_params = 0\n",
    "\n",
    "    for _, component in model_components.items():\n",
    "        component_params = list(component.parameters())\n",
    "        all_params.extend(component_params)\n",
    "        num_params = sum(p.numel() for p in component_params)\n",
    "        total_params += num_params\n",
    "\n",
    "    # Create optimizer\n",
    "    optimizer = torch.optim.AdamW(all_params, lr=lr, weight_decay=1e-6)\n",
    "\n",
    "    # Learning decay scheduler\n",
    "    scheduler = create_lr_scheduler(optimizer, num_epochs, lr, total_steps)\n",
    "\n",
    "    print(f\"Total parameters: {total_params:,}\")\n",
    "    print(f\"Learning rate: {lr}\")\n",
    "\n",
    "    return optimizer, scheduler, all_params, total_params"
   ]
  },
  {
   "cell_type": "code",
   "execution_count": null,
   "id": "2e380828",
   "metadata": {
    "execution": {
     "iopub.execute_input": "2025-08-07T06:29:18.288677Z",
     "iopub.status.busy": "2025-08-07T06:29:18.288135Z",
     "iopub.status.idle": "2025-08-07T06:29:18.295120Z",
     "shell.execute_reply": "2025-08-07T06:29:18.294408Z",
     "shell.execute_reply.started": "2025-08-07T06:29:18.288645Z"
    },
    "executionInfo": {
     "elapsed": 3,
     "status": "ok",
     "timestamp": 1754333699708,
     "user": {
      "displayName": "ÖZGÜR NAZIM ŞAHIN",
      "userId": "05319994504941481505"
     },
     "user_tz": -180
    },
    "id": "2e380828",
    "trusted": true
   },
   "outputs": [],
   "source": [
    "def save_model_complete(model_components, noise_schedule, loss_history, num_epochs, learning_rate, total_params, category_name,save_to_drive=True):\n",
    "    # Create filename with timestamp\n",
    "    timestamp = datetime.now().strftime(\"%Y%m%d_%H%M%S\")\n",
    "    model_filename = f\"sketch_diffusion_{category_name}_{timestamp}.pth\"\n",
    "\n",
    "    if save_to_drive:\n",
    "        # Mount Google Drive\n",
    "        try:\n",
    "            from google.colab import drive\n",
    "            drive.mount('/content/drive', force_remount=True)\n",
    "            save_path = '/content/drive/MyDrive/sketch_models'\n",
    "            os.makedirs(save_path, exist_ok=True)\n",
    "            model_path = os.path.join(save_path, model_filename)\n",
    "        except:\n",
    "            print(\"Drive mount failed, saving locally\")\n",
    "            save_path = './models'\n",
    "            os.makedirs(save_path, exist_ok=True)\n",
    "            model_path = os.path.join(save_path, model_filename)\n",
    "    else:\n",
    "         # Check if we're in local environment\n",
    "        if '/kaggle/working' in os.getcwd():\n",
    "            save_path = '/kaggle/working/models'\n",
    "            print(\"Detected Kaggle environment - saving to /kaggle/working/models\")\n",
    "        else:\n",
    "            save_path = './models'\n",
    "            print(\"Saving to local ./models directory\")\n",
    "        \n",
    "        os.makedirs(save_path, exist_ok=True)\n",
    "        model_path = os.path.join(save_path, model_filename)\n",
    "\n",
    "    save_dict = {\n",
    "        'model_components': model_components,\n",
    "        'noise_schedule': noise_schedule,\n",
    "        'loss_history': loss_history,\n",
    "        'training_info': {\n",
    "            'num_epochs': num_epochs,\n",
    "            'learning_rate': learning_rate,\n",
    "            'final_loss': loss_history[-1] if loss_history else 0,\n",
    "            'best_loss': min(loss_history) if loss_history else 0,\n",
    "            'category': category_name,\n",
    "            'total_parameters': total_params,\n",
    "            'timestamp': timestamp\n",
    "        }\n",
    "    }\n",
    "\n",
    "    # Save model\n",
    "    torch.save(save_dict, model_path)\n",
    "\n",
    "    print(f\"Complete model saved to: {model_path}\")\n",
    "    print(f\"Final loss: {loss_history[-1]:.4f}\")\n",
    "    print(f\"Best loss: {min(loss_history):.4f}\")\n",
    "    print(f\"Category: {category_name}\")\n",
    "\n",
    "    return model_path"
   ]
  },
  {
   "cell_type": "code",
   "execution_count": 27,
   "id": "eddbaaaf",
   "metadata": {
    "execution": {
     "iopub.execute_input": "2025-08-07T06:30:45.986838Z",
     "iopub.status.busy": "2025-08-07T06:30:45.986552Z",
     "iopub.status.idle": "2025-08-07T06:30:45.994389Z",
     "shell.execute_reply": "2025-08-07T06:30:45.993741Z",
     "shell.execute_reply.started": "2025-08-07T06:30:45.986814Z"
    },
    "executionInfo": {
     "elapsed": 36,
     "status": "ok",
     "timestamp": 1754333699743,
     "user": {
      "displayName": "ÖZGÜR NAZIM ŞAHIN",
      "userId": "05319994504941481505"
     },
     "user_tz": -180
    },
    "id": "eddbaaaf",
    "trusted": true
   },
   "outputs": [],
   "source": [
    "# Helper function to train the model one epochs\n",
    "def train_one_epoch(model_components, dataloader, noise_schedule, optimizer, device, all_params):\n",
    "    # Set parameters\n",
    "    total_loss = 0\n",
    "    num_batches = 0\n",
    "\n",
    "    # Set models to training mode\n",
    "    for component in model_components.values():\n",
    "        component.train()\n",
    "\n",
    "    for batch_idx, (sequences, categories) in enumerate(tqdm(dataloader, desc=\"Training\")):\n",
    "\n",
    "        # Move data to device\n",
    "        sequences = sequences.to(device)\n",
    "        categories = categories.to(device)\n",
    "        batch_size = sequences.shape[0]\n",
    "\n",
    "        # Sample random timesteps for diffusion\n",
    "        timesteps = torch.randint(0, noise_schedule['timesteps'], (batch_size,), device=device)\n",
    "\n",
    "        # Generate noise (only for coordinates, not stroke state)\n",
    "        noise = torch.randn_like(sequences, device=device)\n",
    "        noise[:, :, 2] = 0  # No noise on stroke state\n",
    "\n",
    "        # Add progressive noise to sequences\n",
    "        noisy_sequences = noise_addition(sequences, noise, timesteps, noise_schedule)\n",
    "\n",
    "        # Forward pass through model\n",
    "        predicted_noise = model_forward_training(noisy_sequences, model_components, categories, timesteps)\n",
    "\n",
    "        # Compute weighted loss\n",
    "        coord_loss = F.mse_loss(predicted_noise[:, :, :2], noise[:, :, :2])\n",
    "        pen_loss = F.mse_loss(predicted_noise[:, :, 2:], noise[:, :, 2:])\n",
    "        loss = coord_loss + 0.3 * pen_loss\n",
    "\n",
    "        # Backward pass\n",
    "        optimizer.zero_grad()\n",
    "        loss.backward()\n",
    "\n",
    "        # Prevent exploding gradients\n",
    "        torch.nn.utils.clip_grad_norm_(all_params, max_norm=1.0)\n",
    "\n",
    "\n",
    "        optimizer.step()\n",
    "\n",
    "        # Track loss\n",
    "        total_loss += loss.item()\n",
    "        num_batches += 1\n",
    "\n",
    "        # Print progress every 30 batches\n",
    "        if batch_idx % 50 == 0:\n",
    "            print(f\"\\nBatch{batch_idx:3d}: Loss = {loss.item():.4f}\")\n",
    "\n",
    "    # Calculate average loss\n",
    "    avg_loss = total_loss / num_batches if num_batches > 0 else 0\n",
    "    print(f\"Epoch completed: Average Loss = {avg_loss:.4f}\")\n",
    "\n",
    "    return avg_loss"
   ]
  },
  {
   "cell_type": "code",
   "execution_count": 17,
   "id": "62aad5c0",
   "metadata": {
    "execution": {
     "iopub.execute_input": "2025-08-07T06:29:20.265977Z",
     "iopub.status.busy": "2025-08-07T06:29:20.265474Z",
     "iopub.status.idle": "2025-08-07T06:29:20.274265Z",
     "shell.execute_reply": "2025-08-07T06:29:20.273570Z",
     "shell.execute_reply.started": "2025-08-07T06:29:20.265957Z"
    },
    "executionInfo": {
     "elapsed": 2,
     "status": "ok",
     "timestamp": 1754333699747,
     "user": {
      "displayName": "ÖZGÜR NAZIM ŞAHIN",
      "userId": "05319994504941481505"
     },
     "user_tz": -180
    },
    "id": "62aad5c0",
    "trusted": true
   },
   "outputs": [],
   "source": [
    "# Full traning loop to train model\n",
    "def train_model(model_components, dataloader, num_epochs, learning_rate):\n",
    "    print(\"STARTING TRAINING\")\n",
    "    print(f\"Epochs: {num_epochs}\")\n",
    "    print(f\"Learning rate: {learning_rate}\")\n",
    "    print(f\"Batches per epoch: {len(dataloader)}\")\n",
    "\n",
    "    # Initialize device\n",
    "    device = setup_device()\n",
    "    if device.type == 'cuda':\n",
    "        print(f\"GPU: {torch.cuda.get_device_name()}\")\n",
    "\n",
    "    # Initialize noise scheduler\n",
    "    noise_schedule = create_noise_schedule(timesteps=1000)\n",
    "\n",
    "    for key in noise_schedule:\n",
    "        if isinstance(noise_schedule[key], torch.Tensor):\n",
    "            noise_schedule[key] = noise_schedule[key].to(device)\n",
    "\n",
    "    # Move models to device\n",
    "    for name, component in model_components.items():\n",
    "        model_components[name] = component.to(device)\n",
    "\n",
    "    # Move noise schedule to device\n",
    "    for key, value in noise_schedule.items():\n",
    "        if isinstance(value, torch.Tensor):\n",
    "            noise_schedule[key] = value.to(device)\n",
    "\n",
    "    # Initialize adam optimizer\n",
    "    total_steps = dataloader.dataset.tensors[0].shape[0] // dataloader.batch_size * num_epochs\n",
    "    optimizer, scheduler, all_params, total_params = initialize_optimizer(model_components, learning_rate, num_epochs, total_steps)\n",
    "\n",
    "    print(\"\\nSTARTING TRAINING LOOP\")\n",
    "    loss_history = []\n",
    "\n",
    "    for epoch in range(num_epochs):\n",
    "        print(f\"\\nEPOCH {epoch + 1}/{num_epochs}\")\n",
    "\n",
    "        # Train one epoch\n",
    "        avg_loss = train_one_epoch(model_components, dataloader, noise_schedule, optimizer, device, all_params)\n",
    "        loss_history.append(avg_loss)\n",
    "        scheduler.step()\n",
    "\n",
    "        print(f\"Loss: {avg_loss:.4f} | LR: {learning_rate:.2e}\")\n",
    "\n",
    "        # Save checkpoint every 20 epochs\n",
    "        if (epoch + 1) % 50 == 0:\n",
    "            print(f\"Checkpoint at epoch {epoch + 1}\")\n",
    "\n",
    "    # Get first batch to determine category\n",
    "    first_batch = next(iter(dataloader))\n",
    "    category_id = first_batch[1][0].item()\n",
    "    category_names = {0: 'cat', 1: 'bus', 2: 'rabbit'}\n",
    "    category_name = category_names.get(category_id, f'category_{category_id}')\n",
    "\n",
    "    model_path = save_model_complete(\n",
    "        model_components=model_components,\n",
    "        noise_schedule=noise_schedule,\n",
    "        loss_history=loss_history,\n",
    "        num_epochs=num_epochs,\n",
    "        learning_rate=learning_rate,\n",
    "        total_params=total_params,\n",
    "        category_name=category_name,\n",
    "        save_to_drive=False\n",
    "    )\n",
    "\n",
    "    print(f\"Model saved to: {model_path}\")\n",
    "    print(f\"Final loss: {loss_history[-1]:.4f}\")\n",
    "    print(f\"Best loss: {min(loss_history):.4f}\")\n",
    "    print(f\"Category: {category_name}\")\n",
    "\n",
    "    return model_components, loss_history, model_path"
   ]
  },
  {
   "cell_type": "code",
   "execution_count": 18,
   "id": "05ebe015",
   "metadata": {
    "execution": {
     "iopub.execute_input": "2025-08-07T06:29:23.228597Z",
     "iopub.status.busy": "2025-08-07T06:29:23.228249Z",
     "iopub.status.idle": "2025-08-07T06:29:23.238107Z",
     "shell.execute_reply": "2025-08-07T06:29:23.237343Z",
     "shell.execute_reply.started": "2025-08-07T06:29:23.228571Z"
    },
    "executionInfo": {
     "elapsed": 2,
     "status": "ok",
     "timestamp": 1754333699751,
     "user": {
      "displayName": "ÖZGÜR NAZIM ŞAHIN",
      "userId": "05319994504941481505"
     },
     "user_tz": -180
    },
    "id": "05ebe015",
    "trusted": true
   },
   "outputs": [],
   "source": [
    "def plot_training_loss(loss_history):\n",
    "    print(\"\\nPLOTTING TRAINING LOSS\")\n",
    "\n",
    "    plt.figure(figsize=(10, 6))\n",
    "\n",
    "    # Plot loss\n",
    "    epochs = range(1, len(loss_history) + 1)\n",
    "    plt.plot(epochs, loss_history, 'b-', linewidth=2, marker='o', markersize=6)\n",
    "\n",
    "    # Formatting\n",
    "    plt.title('Training Loss Over Epochs', fontsize=16, fontweight='bold')\n",
    "    plt.xlabel('Epoch', fontsize=12)\n",
    "    plt.ylabel('Loss', fontsize=12)\n",
    "    plt.grid(True, alpha=0.3)\n",
    "\n",
    "    # Add loss values on points\n",
    "    for i, loss in enumerate(loss_history):\n",
    "        plt.annotate(f'{loss:.4f}', (i+1, loss), textcoords=\"offset points\",\n",
    "                    xytext=(0,10), ha='center', fontsize=9)\n",
    "\n",
    "    # Add statistics\n",
    "    final_loss = loss_history[-1]\n",
    "    best_loss = min(loss_history)\n",
    "    best_epoch = loss_history.index(best_loss) + 1\n",
    "\n",
    "    plt.text(0.02, 0.98, f'Final Loss: {final_loss:.4f}\\nBest Loss: {best_loss:.4f} (Epoch {best_epoch})',\n",
    "             transform=plt.gca().transAxes, fontsize=10, verticalalignment='top',\n",
    "             bbox=dict(boxstyle='round', facecolor='wheat', alpha=0.8))\n",
    "\n",
    "    plt.tight_layout()\n",
    "    plt.show()\n",
    "\n",
    "    print(\"Training Summary:\")\n",
    "    print(f\"Total epochs: {len(loss_history)}\")\n",
    "    print(f\"Final loss: {final_loss:.4f}\")\n",
    "    print(f\"Best loss: {best_loss:.4f} (Epoch {best_epoch})\")\n",
    "    print(f\"Loss improvement: {((loss_history[0] - final_loss) / loss_history[0] * 100):.1f}%\")"
   ]
  },
  {
   "cell_type": "code",
   "execution_count": 19,
   "id": "ef399ac0",
   "metadata": {
    "execution": {
     "iopub.execute_input": "2025-08-07T06:29:25.700009Z",
     "iopub.status.busy": "2025-08-07T06:29:25.699406Z",
     "iopub.status.idle": "2025-08-07T06:29:25.769056Z",
     "shell.execute_reply": "2025-08-07T06:29:25.768549Z",
     "shell.execute_reply.started": "2025-08-07T06:29:25.699985Z"
    },
    "executionInfo": {
     "elapsed": 24,
     "status": "ok",
     "timestamp": 1754333700489,
     "user": {
      "displayName": "ÖZGÜR NAZIM ŞAHIN",
      "userId": "05319994504941481505"
     },
     "user_tz": -180
    },
    "id": "ef399ac0",
    "trusted": true
   },
   "outputs": [],
   "source": [
    "model_components = diffusion_model()"
   ]
  },
  {
   "cell_type": "code",
   "execution_count": 29,
   "id": "dcdf01a3",
   "metadata": {
    "colab": {
     "base_uri": "https://localhost:8080/"
    },
    "execution": {
     "iopub.execute_input": "2025-08-07T06:31:14.875791Z",
     "iopub.status.busy": "2025-08-07T06:31:14.875050Z",
     "iopub.status.idle": "2025-08-07T08:49:38.020120Z",
     "shell.execute_reply": "2025-08-07T08:49:38.019330Z",
     "shell.execute_reply.started": "2025-08-07T06:31:14.875765Z"
    },
    "executionInfo": {
     "elapsed": 1558816,
     "status": "ok",
     "timestamp": 1754345668638,
     "user": {
      "displayName": "ÖZGÜR NAZIM ŞAHIN",
      "userId": "05319994504941481505"
     },
     "user_tz": -180
    },
    "id": "dcdf01a3",
    "outputId": "6965f1f8-e24d-462e-edd4-aae8315e3f7a",
    "trusted": true
   },
   "outputs": [
    {
     "name": "stdout",
     "output_type": "stream",
     "text": [
      "STARTING TRAINING\n",
      "Epochs: 200\n",
      "Learning rate: 0.0001\n",
      "Batches per epoch: 79\n",
      "GPU: Tesla P100-PCIE-16GB\n",
      "Total parameters: 6,242,819\n",
      "Learning rate: 0.0001\n",
      "\n",
      "STARTING TRAINING LOOP\n",
      "\n",
      "EPOCH 1/200\n"
     ]
    },
    {
     "name": "stderr",
     "output_type": "stream",
     "text": [
      "Training:   1%|▏         | 1/79 [00:00<00:41,  1.87it/s]"
     ]
    },
    {
     "name": "stdout",
     "output_type": "stream",
     "text": [
      "\n",
      "Batch  0: Loss = 1.0027\n"
     ]
    },
    {
     "name": "stderr",
     "output_type": "stream",
     "text": [
      "Training:  65%|██████▍   | 51/79 [00:26<00:14,  1.91it/s]"
     ]
    },
    {
     "name": "stdout",
     "output_type": "stream",
     "text": [
      "\n",
      "Batch 50: Loss = 0.9963\n"
     ]
    },
    {
     "name": "stderr",
     "output_type": "stream",
     "text": [
      "Training: 100%|██████████| 79/79 [00:41<00:00,  1.93it/s]\n"
     ]
    },
    {
     "name": "stdout",
     "output_type": "stream",
     "text": [
      "Epoch completed: Average Loss = 0.9994\n",
      "Loss: 0.9994 | LR: 1.00e-04\n",
      "\n",
      "EPOCH 2/200\n"
     ]
    },
    {
     "name": "stderr",
     "output_type": "stream",
     "text": [
      "Training:   1%|▏         | 1/79 [00:00<00:40,  1.93it/s]"
     ]
    },
    {
     "name": "stdout",
     "output_type": "stream",
     "text": [
      "\n",
      "Batch  0: Loss = 1.0010\n"
     ]
    },
    {
     "name": "stderr",
     "output_type": "stream",
     "text": [
      "Training:  65%|██████▍   | 51/79 [00:26<00:14,  1.90it/s]"
     ]
    },
    {
     "name": "stdout",
     "output_type": "stream",
     "text": [
      "\n",
      "Batch 50: Loss = 0.9953\n"
     ]
    },
    {
     "name": "stderr",
     "output_type": "stream",
     "text": [
      "Training: 100%|██████████| 79/79 [00:41<00:00,  1.91it/s]\n"
     ]
    },
    {
     "name": "stdout",
     "output_type": "stream",
     "text": [
      "Epoch completed: Average Loss = 0.9968\n",
      "Loss: 0.9968 | LR: 1.00e-04\n",
      "\n",
      "EPOCH 3/200\n"
     ]
    },
    {
     "name": "stderr",
     "output_type": "stream",
     "text": [
      "Training:   1%|▏         | 1/79 [00:00<00:40,  1.90it/s]"
     ]
    },
    {
     "name": "stdout",
     "output_type": "stream",
     "text": [
      "\n",
      "Batch  0: Loss = 0.9985\n"
     ]
    },
    {
     "name": "stderr",
     "output_type": "stream",
     "text": [
      "Training:  65%|██████▍   | 51/79 [00:27<00:14,  1.89it/s]"
     ]
    },
    {
     "name": "stdout",
     "output_type": "stream",
     "text": [
      "\n",
      "Batch 50: Loss = 0.9944\n"
     ]
    },
    {
     "name": "stderr",
     "output_type": "stream",
     "text": [
      "Training: 100%|██████████| 79/79 [00:41<00:00,  1.90it/s]\n"
     ]
    },
    {
     "name": "stdout",
     "output_type": "stream",
     "text": [
      "Epoch completed: Average Loss = 0.9920\n",
      "Loss: 0.9920 | LR: 1.00e-04\n",
      "\n",
      "EPOCH 4/200\n"
     ]
    },
    {
     "name": "stderr",
     "output_type": "stream",
     "text": [
      "Training:   1%|▏         | 1/79 [00:00<00:40,  1.91it/s]"
     ]
    },
    {
     "name": "stdout",
     "output_type": "stream",
     "text": [
      "\n",
      "Batch  0: Loss = 0.9882\n"
     ]
    },
    {
     "name": "stderr",
     "output_type": "stream",
     "text": [
      "Training:  65%|██████▍   | 51/79 [00:27<00:14,  1.89it/s]"
     ]
    },
    {
     "name": "stdout",
     "output_type": "stream",
     "text": [
      "\n",
      "Batch 50: Loss = 0.9678\n"
     ]
    },
    {
     "name": "stderr",
     "output_type": "stream",
     "text": [
      "Training: 100%|██████████| 79/79 [00:41<00:00,  1.90it/s]\n"
     ]
    },
    {
     "name": "stdout",
     "output_type": "stream",
     "text": [
      "Epoch completed: Average Loss = 0.9694\n",
      "Loss: 0.9694 | LR: 1.00e-04\n",
      "\n",
      "EPOCH 5/200\n"
     ]
    },
    {
     "name": "stderr",
     "output_type": "stream",
     "text": [
      "Training:   1%|▏         | 1/79 [00:00<00:40,  1.92it/s]"
     ]
    },
    {
     "name": "stdout",
     "output_type": "stream",
     "text": [
      "\n",
      "Batch  0: Loss = 0.9425\n"
     ]
    },
    {
     "name": "stderr",
     "output_type": "stream",
     "text": [
      "Training:  65%|██████▍   | 51/79 [00:27<00:14,  1.88it/s]"
     ]
    },
    {
     "name": "stdout",
     "output_type": "stream",
     "text": [
      "\n",
      "Batch 50: Loss = 0.8532\n"
     ]
    },
    {
     "name": "stderr",
     "output_type": "stream",
     "text": [
      "Training: 100%|██████████| 79/79 [00:41<00:00,  1.91it/s]\n"
     ]
    },
    {
     "name": "stdout",
     "output_type": "stream",
     "text": [
      "Epoch completed: Average Loss = 0.8711\n",
      "Loss: 0.8711 | LR: 1.00e-04\n",
      "\n",
      "EPOCH 6/200\n"
     ]
    },
    {
     "name": "stderr",
     "output_type": "stream",
     "text": [
      "Training:   1%|▏         | 1/79 [00:00<00:40,  1.92it/s]"
     ]
    },
    {
     "name": "stdout",
     "output_type": "stream",
     "text": [
      "\n",
      "Batch  0: Loss = 0.7493\n"
     ]
    },
    {
     "name": "stderr",
     "output_type": "stream",
     "text": [
      "Training:  65%|██████▍   | 51/79 [00:26<00:14,  1.89it/s]"
     ]
    },
    {
     "name": "stdout",
     "output_type": "stream",
     "text": [
      "\n",
      "Batch 50: Loss = 0.5418\n"
     ]
    },
    {
     "name": "stderr",
     "output_type": "stream",
     "text": [
      "Training: 100%|██████████| 79/79 [00:41<00:00,  1.91it/s]\n"
     ]
    },
    {
     "name": "stdout",
     "output_type": "stream",
     "text": [
      "Epoch completed: Average Loss = 0.5911\n",
      "Loss: 0.5911 | LR: 1.00e-04\n",
      "\n",
      "EPOCH 7/200\n"
     ]
    },
    {
     "name": "stderr",
     "output_type": "stream",
     "text": [
      "Training:   1%|▏         | 1/79 [00:00<00:40,  1.92it/s]"
     ]
    },
    {
     "name": "stdout",
     "output_type": "stream",
     "text": [
      "\n",
      "Batch  0: Loss = 0.4191\n"
     ]
    },
    {
     "name": "stderr",
     "output_type": "stream",
     "text": [
      "Training:  65%|██████▍   | 51/79 [00:27<00:14,  1.89it/s]"
     ]
    },
    {
     "name": "stdout",
     "output_type": "stream",
     "text": [
      "\n",
      "Batch 50: Loss = 0.2634\n"
     ]
    },
    {
     "name": "stderr",
     "output_type": "stream",
     "text": [
      "Training: 100%|██████████| 79/79 [00:41<00:00,  1.91it/s]\n"
     ]
    },
    {
     "name": "stdout",
     "output_type": "stream",
     "text": [
      "Epoch completed: Average Loss = 0.3055\n",
      "Loss: 0.3055 | LR: 1.00e-04\n",
      "\n",
      "EPOCH 8/200\n"
     ]
    },
    {
     "name": "stderr",
     "output_type": "stream",
     "text": [
      "Training:   1%|▏         | 1/79 [00:00<00:41,  1.90it/s]"
     ]
    },
    {
     "name": "stdout",
     "output_type": "stream",
     "text": [
      "\n",
      "Batch  0: Loss = 0.2461\n"
     ]
    },
    {
     "name": "stderr",
     "output_type": "stream",
     "text": [
      "Training:  65%|██████▍   | 51/79 [00:27<00:14,  1.88it/s]"
     ]
    },
    {
     "name": "stdout",
     "output_type": "stream",
     "text": [
      "\n",
      "Batch 50: Loss = 0.2477\n"
     ]
    },
    {
     "name": "stderr",
     "output_type": "stream",
     "text": [
      "Training: 100%|██████████| 79/79 [00:41<00:00,  1.91it/s]\n"
     ]
    },
    {
     "name": "stdout",
     "output_type": "stream",
     "text": [
      "Epoch completed: Average Loss = 0.2326\n",
      "Loss: 0.2326 | LR: 1.00e-04\n",
      "\n",
      "EPOCH 9/200\n"
     ]
    },
    {
     "name": "stderr",
     "output_type": "stream",
     "text": [
      "Training:   1%|▏         | 1/79 [00:00<00:40,  1.91it/s]"
     ]
    },
    {
     "name": "stdout",
     "output_type": "stream",
     "text": [
      "\n",
      "Batch  0: Loss = 0.2203\n"
     ]
    },
    {
     "name": "stderr",
     "output_type": "stream",
     "text": [
      "Training:  65%|██████▍   | 51/79 [00:27<00:14,  1.89it/s]"
     ]
    },
    {
     "name": "stdout",
     "output_type": "stream",
     "text": [
      "\n",
      "Batch 50: Loss = 0.2140\n"
     ]
    },
    {
     "name": "stderr",
     "output_type": "stream",
     "text": [
      "Training: 100%|██████████| 79/79 [00:41<00:00,  1.91it/s]\n"
     ]
    },
    {
     "name": "stdout",
     "output_type": "stream",
     "text": [
      "Epoch completed: Average Loss = 0.2207\n",
      "Loss: 0.2207 | LR: 1.00e-04\n",
      "\n",
      "EPOCH 10/200\n"
     ]
    },
    {
     "name": "stderr",
     "output_type": "stream",
     "text": [
      "Training:   1%|▏         | 1/79 [00:00<00:40,  1.90it/s]"
     ]
    },
    {
     "name": "stdout",
     "output_type": "stream",
     "text": [
      "\n",
      "Batch  0: Loss = 0.2086\n"
     ]
    },
    {
     "name": "stderr",
     "output_type": "stream",
     "text": [
      "Training:  65%|██████▍   | 51/79 [00:26<00:14,  1.89it/s]"
     ]
    },
    {
     "name": "stdout",
     "output_type": "stream",
     "text": [
      "\n",
      "Batch 50: Loss = 0.1932\n"
     ]
    },
    {
     "name": "stderr",
     "output_type": "stream",
     "text": [
      "Training: 100%|██████████| 79/79 [00:41<00:00,  1.91it/s]\n"
     ]
    },
    {
     "name": "stdout",
     "output_type": "stream",
     "text": [
      "Epoch completed: Average Loss = 0.2099\n",
      "Loss: 0.2099 | LR: 1.00e-04\n",
      "\n",
      "EPOCH 11/200\n"
     ]
    },
    {
     "name": "stderr",
     "output_type": "stream",
     "text": [
      "Training:   1%|▏         | 1/79 [00:00<00:40,  1.91it/s]"
     ]
    },
    {
     "name": "stdout",
     "output_type": "stream",
     "text": [
      "\n",
      "Batch  0: Loss = 0.2107\n"
     ]
    },
    {
     "name": "stderr",
     "output_type": "stream",
     "text": [
      "Training:  65%|██████▍   | 51/79 [00:27<00:14,  1.89it/s]"
     ]
    },
    {
     "name": "stdout",
     "output_type": "stream",
     "text": [
      "\n",
      "Batch 50: Loss = 0.2023\n"
     ]
    },
    {
     "name": "stderr",
     "output_type": "stream",
     "text": [
      "Training: 100%|██████████| 79/79 [00:41<00:00,  1.90it/s]\n"
     ]
    },
    {
     "name": "stdout",
     "output_type": "stream",
     "text": [
      "Epoch completed: Average Loss = 0.2008\n",
      "Loss: 0.2008 | LR: 1.00e-04\n",
      "\n",
      "EPOCH 12/200\n"
     ]
    },
    {
     "name": "stderr",
     "output_type": "stream",
     "text": [
      "Training:   1%|▏         | 1/79 [00:00<00:40,  1.92it/s]"
     ]
    },
    {
     "name": "stdout",
     "output_type": "stream",
     "text": [
      "\n",
      "Batch  0: Loss = 0.1949\n"
     ]
    },
    {
     "name": "stderr",
     "output_type": "stream",
     "text": [
      "Training:  65%|██████▍   | 51/79 [00:27<00:14,  1.89it/s]"
     ]
    },
    {
     "name": "stdout",
     "output_type": "stream",
     "text": [
      "\n",
      "Batch 50: Loss = 0.1849\n"
     ]
    },
    {
     "name": "stderr",
     "output_type": "stream",
     "text": [
      "Training: 100%|██████████| 79/79 [00:41<00:00,  1.90it/s]\n"
     ]
    },
    {
     "name": "stdout",
     "output_type": "stream",
     "text": [
      "Epoch completed: Average Loss = 0.1932\n",
      "Loss: 0.1932 | LR: 1.00e-04\n",
      "\n",
      "EPOCH 13/200\n"
     ]
    },
    {
     "name": "stderr",
     "output_type": "stream",
     "text": [
      "Training:   1%|▏         | 1/79 [00:00<00:40,  1.91it/s]"
     ]
    },
    {
     "name": "stdout",
     "output_type": "stream",
     "text": [
      "\n",
      "Batch  0: Loss = 0.2140\n"
     ]
    },
    {
     "name": "stderr",
     "output_type": "stream",
     "text": [
      "Training:  65%|██████▍   | 51/79 [00:27<00:14,  1.88it/s]"
     ]
    },
    {
     "name": "stdout",
     "output_type": "stream",
     "text": [
      "\n",
      "Batch 50: Loss = 0.1849\n"
     ]
    },
    {
     "name": "stderr",
     "output_type": "stream",
     "text": [
      "Training: 100%|██████████| 79/79 [00:41<00:00,  1.90it/s]\n"
     ]
    },
    {
     "name": "stdout",
     "output_type": "stream",
     "text": [
      "Epoch completed: Average Loss = 0.1835\n",
      "Loss: 0.1835 | LR: 1.00e-04\n",
      "\n",
      "EPOCH 14/200\n"
     ]
    },
    {
     "name": "stderr",
     "output_type": "stream",
     "text": [
      "Training:   1%|▏         | 1/79 [00:00<00:40,  1.91it/s]"
     ]
    },
    {
     "name": "stdout",
     "output_type": "stream",
     "text": [
      "\n",
      "Batch  0: Loss = 0.1738\n"
     ]
    },
    {
     "name": "stderr",
     "output_type": "stream",
     "text": [
      "Training:  65%|██████▍   | 51/79 [00:27<00:14,  1.89it/s]"
     ]
    },
    {
     "name": "stdout",
     "output_type": "stream",
     "text": [
      "\n",
      "Batch 50: Loss = 0.1647\n"
     ]
    },
    {
     "name": "stderr",
     "output_type": "stream",
     "text": [
      "Training: 100%|██████████| 79/79 [00:41<00:00,  1.90it/s]\n"
     ]
    },
    {
     "name": "stdout",
     "output_type": "stream",
     "text": [
      "Epoch completed: Average Loss = 0.1722\n",
      "Loss: 0.1722 | LR: 1.00e-04\n",
      "\n",
      "EPOCH 15/200\n"
     ]
    },
    {
     "name": "stderr",
     "output_type": "stream",
     "text": [
      "Training:   1%|▏         | 1/79 [00:00<00:40,  1.92it/s]"
     ]
    },
    {
     "name": "stdout",
     "output_type": "stream",
     "text": [
      "\n",
      "Batch  0: Loss = 0.1552\n"
     ]
    },
    {
     "name": "stderr",
     "output_type": "stream",
     "text": [
      "Training:  65%|██████▍   | 51/79 [00:27<00:14,  1.88it/s]"
     ]
    },
    {
     "name": "stdout",
     "output_type": "stream",
     "text": [
      "\n",
      "Batch 50: Loss = 0.1406\n"
     ]
    },
    {
     "name": "stderr",
     "output_type": "stream",
     "text": [
      "Training: 100%|██████████| 79/79 [00:41<00:00,  1.90it/s]\n"
     ]
    },
    {
     "name": "stdout",
     "output_type": "stream",
     "text": [
      "Epoch completed: Average Loss = 0.1613\n",
      "Loss: 0.1613 | LR: 1.00e-04\n",
      "\n",
      "EPOCH 16/200\n"
     ]
    },
    {
     "name": "stderr",
     "output_type": "stream",
     "text": [
      "Training:   1%|▏         | 1/79 [00:00<00:40,  1.92it/s]"
     ]
    },
    {
     "name": "stdout",
     "output_type": "stream",
     "text": [
      "\n",
      "Batch  0: Loss = 0.1688\n"
     ]
    },
    {
     "name": "stderr",
     "output_type": "stream",
     "text": [
      "Training:  65%|██████▍   | 51/79 [00:27<00:14,  1.88it/s]"
     ]
    },
    {
     "name": "stdout",
     "output_type": "stream",
     "text": [
      "\n",
      "Batch 50: Loss = 0.1392\n"
     ]
    },
    {
     "name": "stderr",
     "output_type": "stream",
     "text": [
      "Training: 100%|██████████| 79/79 [00:41<00:00,  1.90it/s]\n"
     ]
    },
    {
     "name": "stdout",
     "output_type": "stream",
     "text": [
      "Epoch completed: Average Loss = 0.1528\n",
      "Loss: 0.1528 | LR: 1.00e-04\n",
      "\n",
      "EPOCH 17/200\n"
     ]
    },
    {
     "name": "stderr",
     "output_type": "stream",
     "text": [
      "Training:   1%|▏         | 1/79 [00:00<00:40,  1.92it/s]"
     ]
    },
    {
     "name": "stdout",
     "output_type": "stream",
     "text": [
      "\n",
      "Batch  0: Loss = 0.1474\n"
     ]
    },
    {
     "name": "stderr",
     "output_type": "stream",
     "text": [
      "Training:  65%|██████▍   | 51/79 [00:27<00:14,  1.88it/s]"
     ]
    },
    {
     "name": "stdout",
     "output_type": "stream",
     "text": [
      "\n",
      "Batch 50: Loss = 0.1670\n"
     ]
    },
    {
     "name": "stderr",
     "output_type": "stream",
     "text": [
      "Training: 100%|██████████| 79/79 [00:41<00:00,  1.90it/s]\n"
     ]
    },
    {
     "name": "stdout",
     "output_type": "stream",
     "text": [
      "Epoch completed: Average Loss = 0.1414\n",
      "Loss: 0.1414 | LR: 1.00e-04\n",
      "\n",
      "EPOCH 18/200\n"
     ]
    },
    {
     "name": "stderr",
     "output_type": "stream",
     "text": [
      "Training:   1%|▏         | 1/79 [00:00<00:40,  1.91it/s]"
     ]
    },
    {
     "name": "stdout",
     "output_type": "stream",
     "text": [
      "\n",
      "Batch  0: Loss = 0.1231\n"
     ]
    },
    {
     "name": "stderr",
     "output_type": "stream",
     "text": [
      "Training:  65%|██████▍   | 51/79 [00:27<00:14,  1.88it/s]"
     ]
    },
    {
     "name": "stdout",
     "output_type": "stream",
     "text": [
      "\n",
      "Batch 50: Loss = 0.1170\n"
     ]
    },
    {
     "name": "stderr",
     "output_type": "stream",
     "text": [
      "Training: 100%|██████████| 79/79 [00:41<00:00,  1.90it/s]\n"
     ]
    },
    {
     "name": "stdout",
     "output_type": "stream",
     "text": [
      "Epoch completed: Average Loss = 0.1319\n",
      "Loss: 0.1319 | LR: 1.00e-04\n",
      "\n",
      "EPOCH 19/200\n"
     ]
    },
    {
     "name": "stderr",
     "output_type": "stream",
     "text": [
      "Training:   1%|▏         | 1/79 [00:00<00:40,  1.90it/s]"
     ]
    },
    {
     "name": "stdout",
     "output_type": "stream",
     "text": [
      "\n",
      "Batch  0: Loss = 0.1219\n"
     ]
    },
    {
     "name": "stderr",
     "output_type": "stream",
     "text": [
      "Training:  65%|██████▍   | 51/79 [00:27<00:14,  1.88it/s]"
     ]
    },
    {
     "name": "stdout",
     "output_type": "stream",
     "text": [
      "\n",
      "Batch 50: Loss = 0.1359\n"
     ]
    },
    {
     "name": "stderr",
     "output_type": "stream",
     "text": [
      "Training: 100%|██████████| 79/79 [00:41<00:00,  1.90it/s]\n"
     ]
    },
    {
     "name": "stdout",
     "output_type": "stream",
     "text": [
      "Epoch completed: Average Loss = 0.1248\n",
      "Loss: 0.1248 | LR: 1.00e-04\n",
      "\n",
      "EPOCH 20/200\n"
     ]
    },
    {
     "name": "stderr",
     "output_type": "stream",
     "text": [
      "Training:   1%|▏         | 1/79 [00:00<00:40,  1.91it/s]"
     ]
    },
    {
     "name": "stdout",
     "output_type": "stream",
     "text": [
      "\n",
      "Batch  0: Loss = 0.1275\n"
     ]
    },
    {
     "name": "stderr",
     "output_type": "stream",
     "text": [
      "Training:  65%|██████▍   | 51/79 [00:27<00:14,  1.89it/s]"
     ]
    },
    {
     "name": "stdout",
     "output_type": "stream",
     "text": [
      "\n",
      "Batch 50: Loss = 0.1370\n"
     ]
    },
    {
     "name": "stderr",
     "output_type": "stream",
     "text": [
      "Training: 100%|██████████| 79/79 [00:41<00:00,  1.90it/s]\n"
     ]
    },
    {
     "name": "stdout",
     "output_type": "stream",
     "text": [
      "Epoch completed: Average Loss = 0.1200\n",
      "Loss: 0.1200 | LR: 1.00e-04\n",
      "\n",
      "EPOCH 21/200\n"
     ]
    },
    {
     "name": "stderr",
     "output_type": "stream",
     "text": [
      "Training:   1%|▏         | 1/79 [00:00<00:40,  1.91it/s]"
     ]
    },
    {
     "name": "stdout",
     "output_type": "stream",
     "text": [
      "\n",
      "Batch  0: Loss = 0.1243\n"
     ]
    },
    {
     "name": "stderr",
     "output_type": "stream",
     "text": [
      "Training:  65%|██████▍   | 51/79 [00:27<00:14,  1.89it/s]"
     ]
    },
    {
     "name": "stdout",
     "output_type": "stream",
     "text": [
      "\n",
      "Batch 50: Loss = 0.1182\n"
     ]
    },
    {
     "name": "stderr",
     "output_type": "stream",
     "text": [
      "Training: 100%|██████████| 79/79 [00:41<00:00,  1.90it/s]\n"
     ]
    },
    {
     "name": "stdout",
     "output_type": "stream",
     "text": [
      "Epoch completed: Average Loss = 0.1120\n",
      "Loss: 0.1120 | LR: 1.00e-04\n",
      "\n",
      "EPOCH 22/200\n"
     ]
    },
    {
     "name": "stderr",
     "output_type": "stream",
     "text": [
      "Training:   1%|▏         | 1/79 [00:00<00:40,  1.91it/s]"
     ]
    },
    {
     "name": "stdout",
     "output_type": "stream",
     "text": [
      "\n",
      "Batch  0: Loss = 0.1349\n"
     ]
    },
    {
     "name": "stderr",
     "output_type": "stream",
     "text": [
      "Training:  65%|██████▍   | 51/79 [00:27<00:14,  1.89it/s]"
     ]
    },
    {
     "name": "stdout",
     "output_type": "stream",
     "text": [
      "\n",
      "Batch 50: Loss = 0.1291\n"
     ]
    },
    {
     "name": "stderr",
     "output_type": "stream",
     "text": [
      "Training: 100%|██████████| 79/79 [00:41<00:00,  1.90it/s]\n"
     ]
    },
    {
     "name": "stdout",
     "output_type": "stream",
     "text": [
      "Epoch completed: Average Loss = 0.1099\n",
      "Loss: 0.1099 | LR: 1.00e-04\n",
      "\n",
      "EPOCH 23/200\n"
     ]
    },
    {
     "name": "stderr",
     "output_type": "stream",
     "text": [
      "Training:   1%|▏         | 1/79 [00:00<00:40,  1.92it/s]"
     ]
    },
    {
     "name": "stdout",
     "output_type": "stream",
     "text": [
      "\n",
      "Batch  0: Loss = 0.1148\n"
     ]
    },
    {
     "name": "stderr",
     "output_type": "stream",
     "text": [
      "Training:  65%|██████▍   | 51/79 [00:27<00:14,  1.90it/s]"
     ]
    },
    {
     "name": "stdout",
     "output_type": "stream",
     "text": [
      "\n",
      "Batch 50: Loss = 0.1109\n"
     ]
    },
    {
     "name": "stderr",
     "output_type": "stream",
     "text": [
      "Training: 100%|██████████| 79/79 [00:41<00:00,  1.90it/s]\n"
     ]
    },
    {
     "name": "stdout",
     "output_type": "stream",
     "text": [
      "Epoch completed: Average Loss = 0.1050\n",
      "Loss: 0.1050 | LR: 1.00e-04\n",
      "\n",
      "EPOCH 24/200\n"
     ]
    },
    {
     "name": "stderr",
     "output_type": "stream",
     "text": [
      "Training:   1%|▏         | 1/79 [00:00<00:40,  1.91it/s]"
     ]
    },
    {
     "name": "stdout",
     "output_type": "stream",
     "text": [
      "\n",
      "Batch  0: Loss = 0.1247\n"
     ]
    },
    {
     "name": "stderr",
     "output_type": "stream",
     "text": [
      "Training:  65%|██████▍   | 51/79 [00:27<00:14,  1.89it/s]"
     ]
    },
    {
     "name": "stdout",
     "output_type": "stream",
     "text": [
      "\n",
      "Batch 50: Loss = 0.0986\n"
     ]
    },
    {
     "name": "stderr",
     "output_type": "stream",
     "text": [
      "Training: 100%|██████████| 79/79 [00:41<00:00,  1.91it/s]\n"
     ]
    },
    {
     "name": "stdout",
     "output_type": "stream",
     "text": [
      "Epoch completed: Average Loss = 0.1021\n",
      "Loss: 0.1021 | LR: 1.00e-04\n",
      "\n",
      "EPOCH 25/200\n"
     ]
    },
    {
     "name": "stderr",
     "output_type": "stream",
     "text": [
      "Training:   1%|▏         | 1/79 [00:00<00:40,  1.91it/s]"
     ]
    },
    {
     "name": "stdout",
     "output_type": "stream",
     "text": [
      "\n",
      "Batch  0: Loss = 0.0969\n"
     ]
    },
    {
     "name": "stderr",
     "output_type": "stream",
     "text": [
      "Training:  65%|██████▍   | 51/79 [00:27<00:14,  1.88it/s]"
     ]
    },
    {
     "name": "stdout",
     "output_type": "stream",
     "text": [
      "\n",
      "Batch 50: Loss = 0.1068\n"
     ]
    },
    {
     "name": "stderr",
     "output_type": "stream",
     "text": [
      "Training: 100%|██████████| 79/79 [00:41<00:00,  1.90it/s]\n"
     ]
    },
    {
     "name": "stdout",
     "output_type": "stream",
     "text": [
      "Epoch completed: Average Loss = 0.0986\n",
      "Loss: 0.0986 | LR: 1.00e-04\n",
      "\n",
      "EPOCH 26/200\n"
     ]
    },
    {
     "name": "stderr",
     "output_type": "stream",
     "text": [
      "Training:   1%|▏         | 1/79 [00:00<00:40,  1.92it/s]"
     ]
    },
    {
     "name": "stdout",
     "output_type": "stream",
     "text": [
      "\n",
      "Batch  0: Loss = 0.0853\n"
     ]
    },
    {
     "name": "stderr",
     "output_type": "stream",
     "text": [
      "Training:  65%|██████▍   | 51/79 [00:27<00:14,  1.88it/s]"
     ]
    },
    {
     "name": "stdout",
     "output_type": "stream",
     "text": [
      "\n",
      "Batch 50: Loss = 0.0918\n"
     ]
    },
    {
     "name": "stderr",
     "output_type": "stream",
     "text": [
      "Training: 100%|██████████| 79/79 [00:41<00:00,  1.90it/s]\n"
     ]
    },
    {
     "name": "stdout",
     "output_type": "stream",
     "text": [
      "Epoch completed: Average Loss = 0.0971\n",
      "Loss: 0.0971 | LR: 1.00e-04\n",
      "\n",
      "EPOCH 27/200\n"
     ]
    },
    {
     "name": "stderr",
     "output_type": "stream",
     "text": [
      "Training:   1%|▏         | 1/79 [00:00<00:40,  1.92it/s]"
     ]
    },
    {
     "name": "stdout",
     "output_type": "stream",
     "text": [
      "\n",
      "Batch  0: Loss = 0.0826\n"
     ]
    },
    {
     "name": "stderr",
     "output_type": "stream",
     "text": [
      "Training:  65%|██████▍   | 51/79 [00:27<00:14,  1.89it/s]"
     ]
    },
    {
     "name": "stdout",
     "output_type": "stream",
     "text": [
      "\n",
      "Batch 50: Loss = 0.0864\n"
     ]
    },
    {
     "name": "stderr",
     "output_type": "stream",
     "text": [
      "Training: 100%|██████████| 79/79 [00:41<00:00,  1.90it/s]\n"
     ]
    },
    {
     "name": "stdout",
     "output_type": "stream",
     "text": [
      "Epoch completed: Average Loss = 0.0930\n",
      "Loss: 0.0930 | LR: 1.00e-04\n",
      "\n",
      "EPOCH 28/200\n"
     ]
    },
    {
     "name": "stderr",
     "output_type": "stream",
     "text": [
      "Training:   1%|▏         | 1/79 [00:00<00:40,  1.91it/s]"
     ]
    },
    {
     "name": "stdout",
     "output_type": "stream",
     "text": [
      "\n",
      "Batch  0: Loss = 0.0801\n"
     ]
    },
    {
     "name": "stderr",
     "output_type": "stream",
     "text": [
      "Training:  65%|██████▍   | 51/79 [00:27<00:14,  1.89it/s]"
     ]
    },
    {
     "name": "stdout",
     "output_type": "stream",
     "text": [
      "\n",
      "Batch 50: Loss = 0.1173\n"
     ]
    },
    {
     "name": "stderr",
     "output_type": "stream",
     "text": [
      "Training: 100%|██████████| 79/79 [00:41<00:00,  1.91it/s]\n"
     ]
    },
    {
     "name": "stdout",
     "output_type": "stream",
     "text": [
      "Epoch completed: Average Loss = 0.0923\n",
      "Loss: 0.0923 | LR: 1.00e-04\n",
      "\n",
      "EPOCH 29/200\n"
     ]
    },
    {
     "name": "stderr",
     "output_type": "stream",
     "text": [
      "Training:   1%|▏         | 1/79 [00:00<00:40,  1.91it/s]"
     ]
    },
    {
     "name": "stdout",
     "output_type": "stream",
     "text": [
      "\n",
      "Batch  0: Loss = 0.1021\n"
     ]
    },
    {
     "name": "stderr",
     "output_type": "stream",
     "text": [
      "Training:  65%|██████▍   | 51/79 [00:27<00:14,  1.88it/s]"
     ]
    },
    {
     "name": "stdout",
     "output_type": "stream",
     "text": [
      "\n",
      "Batch 50: Loss = 0.0779\n"
     ]
    },
    {
     "name": "stderr",
     "output_type": "stream",
     "text": [
      "Training: 100%|██████████| 79/79 [00:41<00:00,  1.91it/s]\n"
     ]
    },
    {
     "name": "stdout",
     "output_type": "stream",
     "text": [
      "Epoch completed: Average Loss = 0.0889\n",
      "Loss: 0.0889 | LR: 1.00e-04\n",
      "\n",
      "EPOCH 30/200\n"
     ]
    },
    {
     "name": "stderr",
     "output_type": "stream",
     "text": [
      "Training:   1%|▏         | 1/79 [00:00<00:40,  1.91it/s]"
     ]
    },
    {
     "name": "stdout",
     "output_type": "stream",
     "text": [
      "\n",
      "Batch  0: Loss = 0.0917\n"
     ]
    },
    {
     "name": "stderr",
     "output_type": "stream",
     "text": [
      "Training:  65%|██████▍   | 51/79 [00:27<00:14,  1.88it/s]"
     ]
    },
    {
     "name": "stdout",
     "output_type": "stream",
     "text": [
      "\n",
      "Batch 50: Loss = 0.0826\n"
     ]
    },
    {
     "name": "stderr",
     "output_type": "stream",
     "text": [
      "Training: 100%|██████████| 79/79 [00:41<00:00,  1.90it/s]\n"
     ]
    },
    {
     "name": "stdout",
     "output_type": "stream",
     "text": [
      "Epoch completed: Average Loss = 0.0876\n",
      "Loss: 0.0876 | LR: 1.00e-04\n",
      "\n",
      "EPOCH 31/200\n"
     ]
    },
    {
     "name": "stderr",
     "output_type": "stream",
     "text": [
      "Training:   1%|▏         | 1/79 [00:00<00:40,  1.91it/s]"
     ]
    },
    {
     "name": "stdout",
     "output_type": "stream",
     "text": [
      "\n",
      "Batch  0: Loss = 0.0764\n"
     ]
    },
    {
     "name": "stderr",
     "output_type": "stream",
     "text": [
      "Training:  65%|██████▍   | 51/79 [00:27<00:14,  1.88it/s]"
     ]
    },
    {
     "name": "stdout",
     "output_type": "stream",
     "text": [
      "\n",
      "Batch 50: Loss = 0.0759\n"
     ]
    },
    {
     "name": "stderr",
     "output_type": "stream",
     "text": [
      "Training: 100%|██████████| 79/79 [00:41<00:00,  1.90it/s]\n"
     ]
    },
    {
     "name": "stdout",
     "output_type": "stream",
     "text": [
      "Epoch completed: Average Loss = 0.0857\n",
      "Loss: 0.0857 | LR: 1.00e-04\n",
      "\n",
      "EPOCH 32/200\n"
     ]
    },
    {
     "name": "stderr",
     "output_type": "stream",
     "text": [
      "Training:   1%|▏         | 1/79 [00:00<00:40,  1.92it/s]"
     ]
    },
    {
     "name": "stdout",
     "output_type": "stream",
     "text": [
      "\n",
      "Batch  0: Loss = 0.0746\n"
     ]
    },
    {
     "name": "stderr",
     "output_type": "stream",
     "text": [
      "Training:  65%|██████▍   | 51/79 [00:27<00:14,  1.88it/s]"
     ]
    },
    {
     "name": "stdout",
     "output_type": "stream",
     "text": [
      "\n",
      "Batch 50: Loss = 0.0697\n"
     ]
    },
    {
     "name": "stderr",
     "output_type": "stream",
     "text": [
      "Training: 100%|██████████| 79/79 [00:41<00:00,  1.90it/s]\n"
     ]
    },
    {
     "name": "stdout",
     "output_type": "stream",
     "text": [
      "Epoch completed: Average Loss = 0.0846\n",
      "Loss: 0.0846 | LR: 1.00e-04\n",
      "\n",
      "EPOCH 33/200\n"
     ]
    },
    {
     "name": "stderr",
     "output_type": "stream",
     "text": [
      "Training:   1%|▏         | 1/79 [00:00<00:40,  1.91it/s]"
     ]
    },
    {
     "name": "stdout",
     "output_type": "stream",
     "text": [
      "\n",
      "Batch  0: Loss = 0.0821\n"
     ]
    },
    {
     "name": "stderr",
     "output_type": "stream",
     "text": [
      "Training:  65%|██████▍   | 51/79 [00:27<00:14,  1.88it/s]"
     ]
    },
    {
     "name": "stdout",
     "output_type": "stream",
     "text": [
      "\n",
      "Batch 50: Loss = 0.0802\n"
     ]
    },
    {
     "name": "stderr",
     "output_type": "stream",
     "text": [
      "Training: 100%|██████████| 79/79 [00:41<00:00,  1.90it/s]\n"
     ]
    },
    {
     "name": "stdout",
     "output_type": "stream",
     "text": [
      "Epoch completed: Average Loss = 0.0828\n",
      "Loss: 0.0828 | LR: 1.00e-04\n",
      "\n",
      "EPOCH 34/200\n"
     ]
    },
    {
     "name": "stderr",
     "output_type": "stream",
     "text": [
      "Training:   1%|▏         | 1/79 [00:00<00:40,  1.91it/s]"
     ]
    },
    {
     "name": "stdout",
     "output_type": "stream",
     "text": [
      "\n",
      "Batch  0: Loss = 0.0937\n"
     ]
    },
    {
     "name": "stderr",
     "output_type": "stream",
     "text": [
      "Training:  65%|██████▍   | 51/79 [00:27<00:14,  1.88it/s]"
     ]
    },
    {
     "name": "stdout",
     "output_type": "stream",
     "text": [
      "\n",
      "Batch 50: Loss = 0.0841\n"
     ]
    },
    {
     "name": "stderr",
     "output_type": "stream",
     "text": [
      "Training: 100%|██████████| 79/79 [00:41<00:00,  1.90it/s]\n"
     ]
    },
    {
     "name": "stdout",
     "output_type": "stream",
     "text": [
      "Epoch completed: Average Loss = 0.0798\n",
      "Loss: 0.0798 | LR: 1.00e-04\n",
      "\n",
      "EPOCH 35/200\n"
     ]
    },
    {
     "name": "stderr",
     "output_type": "stream",
     "text": [
      "Training:   1%|▏         | 1/79 [00:00<00:40,  1.91it/s]"
     ]
    },
    {
     "name": "stdout",
     "output_type": "stream",
     "text": [
      "\n",
      "Batch  0: Loss = 0.0796\n"
     ]
    },
    {
     "name": "stderr",
     "output_type": "stream",
     "text": [
      "Training:  65%|██████▍   | 51/79 [00:27<00:14,  1.88it/s]"
     ]
    },
    {
     "name": "stdout",
     "output_type": "stream",
     "text": [
      "\n",
      "Batch 50: Loss = 0.0740\n"
     ]
    },
    {
     "name": "stderr",
     "output_type": "stream",
     "text": [
      "Training: 100%|██████████| 79/79 [00:41<00:00,  1.90it/s]\n"
     ]
    },
    {
     "name": "stdout",
     "output_type": "stream",
     "text": [
      "Epoch completed: Average Loss = 0.0800\n",
      "Loss: 0.0800 | LR: 1.00e-04\n",
      "\n",
      "EPOCH 36/200\n"
     ]
    },
    {
     "name": "stderr",
     "output_type": "stream",
     "text": [
      "Training:   1%|▏         | 1/79 [00:00<00:41,  1.90it/s]"
     ]
    },
    {
     "name": "stdout",
     "output_type": "stream",
     "text": [
      "\n",
      "Batch  0: Loss = 0.0870\n"
     ]
    },
    {
     "name": "stderr",
     "output_type": "stream",
     "text": [
      "Training:  65%|██████▍   | 51/79 [00:27<00:14,  1.88it/s]"
     ]
    },
    {
     "name": "stdout",
     "output_type": "stream",
     "text": [
      "\n",
      "Batch 50: Loss = 0.0659\n"
     ]
    },
    {
     "name": "stderr",
     "output_type": "stream",
     "text": [
      "Training: 100%|██████████| 79/79 [00:41<00:00,  1.90it/s]\n"
     ]
    },
    {
     "name": "stdout",
     "output_type": "stream",
     "text": [
      "Epoch completed: Average Loss = 0.0786\n",
      "Loss: 0.0786 | LR: 1.00e-04\n",
      "\n",
      "EPOCH 37/200\n"
     ]
    },
    {
     "name": "stderr",
     "output_type": "stream",
     "text": [
      "Training:   1%|▏         | 1/79 [00:00<00:40,  1.92it/s]"
     ]
    },
    {
     "name": "stdout",
     "output_type": "stream",
     "text": [
      "\n",
      "Batch  0: Loss = 0.0703\n"
     ]
    },
    {
     "name": "stderr",
     "output_type": "stream",
     "text": [
      "Training:  65%|██████▍   | 51/79 [00:27<00:14,  1.89it/s]"
     ]
    },
    {
     "name": "stdout",
     "output_type": "stream",
     "text": [
      "\n",
      "Batch 50: Loss = 0.0799\n"
     ]
    },
    {
     "name": "stderr",
     "output_type": "stream",
     "text": [
      "Training: 100%|██████████| 79/79 [00:41<00:00,  1.90it/s]\n"
     ]
    },
    {
     "name": "stdout",
     "output_type": "stream",
     "text": [
      "Epoch completed: Average Loss = 0.0763\n",
      "Loss: 0.0763 | LR: 1.00e-04\n",
      "\n",
      "EPOCH 38/200\n"
     ]
    },
    {
     "name": "stderr",
     "output_type": "stream",
     "text": [
      "Training:   1%|▏         | 1/79 [00:00<00:40,  1.91it/s]"
     ]
    },
    {
     "name": "stdout",
     "output_type": "stream",
     "text": [
      "\n",
      "Batch  0: Loss = 0.0741\n"
     ]
    },
    {
     "name": "stderr",
     "output_type": "stream",
     "text": [
      "Training:  65%|██████▍   | 51/79 [00:27<00:14,  1.89it/s]"
     ]
    },
    {
     "name": "stdout",
     "output_type": "stream",
     "text": [
      "\n",
      "Batch 50: Loss = 0.0707\n"
     ]
    },
    {
     "name": "stderr",
     "output_type": "stream",
     "text": [
      "Training: 100%|██████████| 79/79 [00:41<00:00,  1.90it/s]\n"
     ]
    },
    {
     "name": "stdout",
     "output_type": "stream",
     "text": [
      "Epoch completed: Average Loss = 0.0748\n",
      "Loss: 0.0748 | LR: 1.00e-04\n",
      "\n",
      "EPOCH 39/200\n"
     ]
    },
    {
     "name": "stderr",
     "output_type": "stream",
     "text": [
      "Training:   1%|▏         | 1/79 [00:00<00:40,  1.91it/s]"
     ]
    },
    {
     "name": "stdout",
     "output_type": "stream",
     "text": [
      "\n",
      "Batch  0: Loss = 0.0672\n"
     ]
    },
    {
     "name": "stderr",
     "output_type": "stream",
     "text": [
      "Training:  65%|██████▍   | 51/79 [00:27<00:14,  1.89it/s]"
     ]
    },
    {
     "name": "stdout",
     "output_type": "stream",
     "text": [
      "\n",
      "Batch 50: Loss = 0.0642\n"
     ]
    },
    {
     "name": "stderr",
     "output_type": "stream",
     "text": [
      "Training: 100%|██████████| 79/79 [00:41<00:00,  1.90it/s]\n"
     ]
    },
    {
     "name": "stdout",
     "output_type": "stream",
     "text": [
      "Epoch completed: Average Loss = 0.0734\n",
      "Loss: 0.0734 | LR: 1.00e-04\n",
      "\n",
      "EPOCH 40/200\n"
     ]
    },
    {
     "name": "stderr",
     "output_type": "stream",
     "text": [
      "Training:   1%|▏         | 1/79 [00:00<00:40,  1.92it/s]"
     ]
    },
    {
     "name": "stdout",
     "output_type": "stream",
     "text": [
      "\n",
      "Batch  0: Loss = 0.0668\n"
     ]
    },
    {
     "name": "stderr",
     "output_type": "stream",
     "text": [
      "Training:  65%|██████▍   | 51/79 [00:27<00:14,  1.89it/s]"
     ]
    },
    {
     "name": "stdout",
     "output_type": "stream",
     "text": [
      "\n",
      "Batch 50: Loss = 0.0711\n"
     ]
    },
    {
     "name": "stderr",
     "output_type": "stream",
     "text": [
      "Training: 100%|██████████| 79/79 [00:41<00:00,  1.90it/s]\n"
     ]
    },
    {
     "name": "stdout",
     "output_type": "stream",
     "text": [
      "Epoch completed: Average Loss = 0.0720\n",
      "Loss: 0.0720 | LR: 1.00e-04\n",
      "\n",
      "EPOCH 41/200\n"
     ]
    },
    {
     "name": "stderr",
     "output_type": "stream",
     "text": [
      "Training:   1%|▏         | 1/79 [00:00<00:40,  1.92it/s]"
     ]
    },
    {
     "name": "stdout",
     "output_type": "stream",
     "text": [
      "\n",
      "Batch  0: Loss = 0.0704\n"
     ]
    },
    {
     "name": "stderr",
     "output_type": "stream",
     "text": [
      "Training:  65%|██████▍   | 51/79 [00:27<00:14,  1.89it/s]"
     ]
    },
    {
     "name": "stdout",
     "output_type": "stream",
     "text": [
      "\n",
      "Batch 50: Loss = 0.0636\n"
     ]
    },
    {
     "name": "stderr",
     "output_type": "stream",
     "text": [
      "Training: 100%|██████████| 79/79 [00:41<00:00,  1.90it/s]\n"
     ]
    },
    {
     "name": "stdout",
     "output_type": "stream",
     "text": [
      "Epoch completed: Average Loss = 0.0728\n",
      "Loss: 0.0728 | LR: 1.00e-04\n",
      "\n",
      "EPOCH 42/200\n"
     ]
    },
    {
     "name": "stderr",
     "output_type": "stream",
     "text": [
      "Training:   1%|▏         | 1/79 [00:00<00:40,  1.91it/s]"
     ]
    },
    {
     "name": "stdout",
     "output_type": "stream",
     "text": [
      "\n",
      "Batch  0: Loss = 0.0754\n"
     ]
    },
    {
     "name": "stderr",
     "output_type": "stream",
     "text": [
      "Training:  65%|██████▍   | 51/79 [00:27<00:14,  1.89it/s]"
     ]
    },
    {
     "name": "stdout",
     "output_type": "stream",
     "text": [
      "\n",
      "Batch 50: Loss = 0.0762\n"
     ]
    },
    {
     "name": "stderr",
     "output_type": "stream",
     "text": [
      "Training: 100%|██████████| 79/79 [00:41<00:00,  1.90it/s]\n"
     ]
    },
    {
     "name": "stdout",
     "output_type": "stream",
     "text": [
      "Epoch completed: Average Loss = 0.0715\n",
      "Loss: 0.0715 | LR: 1.00e-04\n",
      "\n",
      "EPOCH 43/200\n"
     ]
    },
    {
     "name": "stderr",
     "output_type": "stream",
     "text": [
      "Training:   1%|▏         | 1/79 [00:00<00:40,  1.91it/s]"
     ]
    },
    {
     "name": "stdout",
     "output_type": "stream",
     "text": [
      "\n",
      "Batch  0: Loss = 0.0691\n"
     ]
    },
    {
     "name": "stderr",
     "output_type": "stream",
     "text": [
      "Training:  65%|██████▍   | 51/79 [00:27<00:14,  1.89it/s]"
     ]
    },
    {
     "name": "stdout",
     "output_type": "stream",
     "text": [
      "\n",
      "Batch 50: Loss = 0.0675\n"
     ]
    },
    {
     "name": "stderr",
     "output_type": "stream",
     "text": [
      "Training: 100%|██████████| 79/79 [00:41<00:00,  1.90it/s]\n"
     ]
    },
    {
     "name": "stdout",
     "output_type": "stream",
     "text": [
      "Epoch completed: Average Loss = 0.0687\n",
      "Loss: 0.0687 | LR: 1.00e-04\n",
      "\n",
      "EPOCH 44/200\n"
     ]
    },
    {
     "name": "stderr",
     "output_type": "stream",
     "text": [
      "Training:   1%|▏         | 1/79 [00:00<00:40,  1.90it/s]"
     ]
    },
    {
     "name": "stdout",
     "output_type": "stream",
     "text": [
      "\n",
      "Batch  0: Loss = 0.0755\n"
     ]
    },
    {
     "name": "stderr",
     "output_type": "stream",
     "text": [
      "Training:  65%|██████▍   | 51/79 [00:27<00:14,  1.88it/s]"
     ]
    },
    {
     "name": "stdout",
     "output_type": "stream",
     "text": [
      "\n",
      "Batch 50: Loss = 0.0686\n"
     ]
    },
    {
     "name": "stderr",
     "output_type": "stream",
     "text": [
      "Training: 100%|██████████| 79/79 [00:41<00:00,  1.90it/s]\n"
     ]
    },
    {
     "name": "stdout",
     "output_type": "stream",
     "text": [
      "Epoch completed: Average Loss = 0.0694\n",
      "Loss: 0.0694 | LR: 1.00e-04\n",
      "\n",
      "EPOCH 45/200\n"
     ]
    },
    {
     "name": "stderr",
     "output_type": "stream",
     "text": [
      "Training:   1%|▏         | 1/79 [00:00<00:40,  1.90it/s]"
     ]
    },
    {
     "name": "stdout",
     "output_type": "stream",
     "text": [
      "\n",
      "Batch  0: Loss = 0.0574\n"
     ]
    },
    {
     "name": "stderr",
     "output_type": "stream",
     "text": [
      "Training:  65%|██████▍   | 51/79 [00:27<00:14,  1.88it/s]"
     ]
    },
    {
     "name": "stdout",
     "output_type": "stream",
     "text": [
      "\n",
      "Batch 50: Loss = 0.0661\n"
     ]
    },
    {
     "name": "stderr",
     "output_type": "stream",
     "text": [
      "Training: 100%|██████████| 79/79 [00:41<00:00,  1.90it/s]\n"
     ]
    },
    {
     "name": "stdout",
     "output_type": "stream",
     "text": [
      "Epoch completed: Average Loss = 0.0673\n",
      "Loss: 0.0673 | LR: 1.00e-04\n",
      "\n",
      "EPOCH 46/200\n"
     ]
    },
    {
     "name": "stderr",
     "output_type": "stream",
     "text": [
      "Training:   1%|▏         | 1/79 [00:00<00:40,  1.91it/s]"
     ]
    },
    {
     "name": "stdout",
     "output_type": "stream",
     "text": [
      "\n",
      "Batch  0: Loss = 0.0774\n"
     ]
    },
    {
     "name": "stderr",
     "output_type": "stream",
     "text": [
      "Training:  65%|██████▍   | 51/79 [00:27<00:14,  1.89it/s]"
     ]
    },
    {
     "name": "stdout",
     "output_type": "stream",
     "text": [
      "\n",
      "Batch 50: Loss = 0.0731\n"
     ]
    },
    {
     "name": "stderr",
     "output_type": "stream",
     "text": [
      "Training: 100%|██████████| 79/79 [00:41<00:00,  1.90it/s]\n"
     ]
    },
    {
     "name": "stdout",
     "output_type": "stream",
     "text": [
      "Epoch completed: Average Loss = 0.0651\n",
      "Loss: 0.0651 | LR: 1.00e-04\n",
      "\n",
      "EPOCH 47/200\n"
     ]
    },
    {
     "name": "stderr",
     "output_type": "stream",
     "text": [
      "Training:   1%|▏         | 1/79 [00:00<00:40,  1.93it/s]"
     ]
    },
    {
     "name": "stdout",
     "output_type": "stream",
     "text": [
      "\n",
      "Batch  0: Loss = 0.0611\n"
     ]
    },
    {
     "name": "stderr",
     "output_type": "stream",
     "text": [
      "Training:  65%|██████▍   | 51/79 [00:27<00:14,  1.88it/s]"
     ]
    },
    {
     "name": "stdout",
     "output_type": "stream",
     "text": [
      "\n",
      "Batch 50: Loss = 0.0623\n"
     ]
    },
    {
     "name": "stderr",
     "output_type": "stream",
     "text": [
      "Training: 100%|██████████| 79/79 [00:41<00:00,  1.91it/s]\n"
     ]
    },
    {
     "name": "stdout",
     "output_type": "stream",
     "text": [
      "Epoch completed: Average Loss = 0.0657\n",
      "Loss: 0.0657 | LR: 1.00e-04\n",
      "\n",
      "EPOCH 48/200\n"
     ]
    },
    {
     "name": "stderr",
     "output_type": "stream",
     "text": [
      "Training:   1%|▏         | 1/79 [00:00<00:40,  1.91it/s]"
     ]
    },
    {
     "name": "stdout",
     "output_type": "stream",
     "text": [
      "\n",
      "Batch  0: Loss = 0.0625\n"
     ]
    },
    {
     "name": "stderr",
     "output_type": "stream",
     "text": [
      "Training:  65%|██████▍   | 51/79 [00:27<00:14,  1.88it/s]"
     ]
    },
    {
     "name": "stdout",
     "output_type": "stream",
     "text": [
      "\n",
      "Batch 50: Loss = 0.0533\n"
     ]
    },
    {
     "name": "stderr",
     "output_type": "stream",
     "text": [
      "Training: 100%|██████████| 79/79 [00:41<00:00,  1.90it/s]\n"
     ]
    },
    {
     "name": "stdout",
     "output_type": "stream",
     "text": [
      "Epoch completed: Average Loss = 0.0636\n",
      "Loss: 0.0636 | LR: 1.00e-04\n",
      "\n",
      "EPOCH 49/200\n"
     ]
    },
    {
     "name": "stderr",
     "output_type": "stream",
     "text": [
      "Training:   1%|▏         | 1/79 [00:00<00:40,  1.91it/s]"
     ]
    },
    {
     "name": "stdout",
     "output_type": "stream",
     "text": [
      "\n",
      "Batch  0: Loss = 0.0624\n"
     ]
    },
    {
     "name": "stderr",
     "output_type": "stream",
     "text": [
      "Training:  65%|██████▍   | 51/79 [00:27<00:14,  1.89it/s]"
     ]
    },
    {
     "name": "stdout",
     "output_type": "stream",
     "text": [
      "\n",
      "Batch 50: Loss = 0.0556\n"
     ]
    },
    {
     "name": "stderr",
     "output_type": "stream",
     "text": [
      "Training: 100%|██████████| 79/79 [00:41<00:00,  1.90it/s]\n"
     ]
    },
    {
     "name": "stdout",
     "output_type": "stream",
     "text": [
      "Epoch completed: Average Loss = 0.0624\n",
      "Loss: 0.0624 | LR: 1.00e-04\n",
      "\n",
      "EPOCH 50/200\n"
     ]
    },
    {
     "name": "stderr",
     "output_type": "stream",
     "text": [
      "Training:   1%|▏         | 1/79 [00:00<00:41,  1.90it/s]"
     ]
    },
    {
     "name": "stdout",
     "output_type": "stream",
     "text": [
      "\n",
      "Batch  0: Loss = 0.0625\n"
     ]
    },
    {
     "name": "stderr",
     "output_type": "stream",
     "text": [
      "Training:  65%|██████▍   | 51/79 [00:27<00:14,  1.88it/s]"
     ]
    },
    {
     "name": "stdout",
     "output_type": "stream",
     "text": [
      "\n",
      "Batch 50: Loss = 0.0633\n"
     ]
    },
    {
     "name": "stderr",
     "output_type": "stream",
     "text": [
      "Training: 100%|██████████| 79/79 [00:41<00:00,  1.90it/s]\n"
     ]
    },
    {
     "name": "stdout",
     "output_type": "stream",
     "text": [
      "Epoch completed: Average Loss = 0.0616\n",
      "Loss: 0.0616 | LR: 1.00e-04\n",
      "Checkpoint at epoch 50\n",
      "\n",
      "EPOCH 51/200\n"
     ]
    },
    {
     "name": "stderr",
     "output_type": "stream",
     "text": [
      "Training:   1%|▏         | 1/79 [00:00<00:41,  1.90it/s]"
     ]
    },
    {
     "name": "stdout",
     "output_type": "stream",
     "text": [
      "\n",
      "Batch  0: Loss = 0.0648\n"
     ]
    },
    {
     "name": "stderr",
     "output_type": "stream",
     "text": [
      "Training:  65%|██████▍   | 51/79 [00:27<00:14,  1.89it/s]"
     ]
    },
    {
     "name": "stdout",
     "output_type": "stream",
     "text": [
      "\n",
      "Batch 50: Loss = 0.0578\n"
     ]
    },
    {
     "name": "stderr",
     "output_type": "stream",
     "text": [
      "Training: 100%|██████████| 79/79 [00:41<00:00,  1.90it/s]\n"
     ]
    },
    {
     "name": "stdout",
     "output_type": "stream",
     "text": [
      "Epoch completed: Average Loss = 0.0617\n",
      "Loss: 0.0617 | LR: 1.00e-04\n",
      "\n",
      "EPOCH 52/200\n"
     ]
    },
    {
     "name": "stderr",
     "output_type": "stream",
     "text": [
      "Training:   1%|▏         | 1/79 [00:00<00:40,  1.92it/s]"
     ]
    },
    {
     "name": "stdout",
     "output_type": "stream",
     "text": [
      "\n",
      "Batch  0: Loss = 0.0632\n"
     ]
    },
    {
     "name": "stderr",
     "output_type": "stream",
     "text": [
      "Training:  65%|██████▍   | 51/79 [00:27<00:14,  1.89it/s]"
     ]
    },
    {
     "name": "stdout",
     "output_type": "stream",
     "text": [
      "\n",
      "Batch 50: Loss = 0.0666\n"
     ]
    },
    {
     "name": "stderr",
     "output_type": "stream",
     "text": [
      "Training: 100%|██████████| 79/79 [00:41<00:00,  1.90it/s]\n"
     ]
    },
    {
     "name": "stdout",
     "output_type": "stream",
     "text": [
      "Epoch completed: Average Loss = 0.0611\n",
      "Loss: 0.0611 | LR: 1.00e-04\n",
      "\n",
      "EPOCH 53/200\n"
     ]
    },
    {
     "name": "stderr",
     "output_type": "stream",
     "text": [
      "Training:   1%|▏         | 1/79 [00:00<00:41,  1.90it/s]"
     ]
    },
    {
     "name": "stdout",
     "output_type": "stream",
     "text": [
      "\n",
      "Batch  0: Loss = 0.0633\n"
     ]
    },
    {
     "name": "stderr",
     "output_type": "stream",
     "text": [
      "Training:  65%|██████▍   | 51/79 [00:27<00:14,  1.88it/s]"
     ]
    },
    {
     "name": "stdout",
     "output_type": "stream",
     "text": [
      "\n",
      "Batch 50: Loss = 0.0604\n"
     ]
    },
    {
     "name": "stderr",
     "output_type": "stream",
     "text": [
      "Training: 100%|██████████| 79/79 [00:41<00:00,  1.90it/s]\n"
     ]
    },
    {
     "name": "stdout",
     "output_type": "stream",
     "text": [
      "Epoch completed: Average Loss = 0.0608\n",
      "Loss: 0.0608 | LR: 1.00e-04\n",
      "\n",
      "EPOCH 54/200\n"
     ]
    },
    {
     "name": "stderr",
     "output_type": "stream",
     "text": [
      "Training:   1%|▏         | 1/79 [00:00<00:40,  1.91it/s]"
     ]
    },
    {
     "name": "stdout",
     "output_type": "stream",
     "text": [
      "\n",
      "Batch  0: Loss = 0.0606\n"
     ]
    },
    {
     "name": "stderr",
     "output_type": "stream",
     "text": [
      "Training:  65%|██████▍   | 51/79 [00:27<00:14,  1.88it/s]"
     ]
    },
    {
     "name": "stdout",
     "output_type": "stream",
     "text": [
      "\n",
      "Batch 50: Loss = 0.0569\n"
     ]
    },
    {
     "name": "stderr",
     "output_type": "stream",
     "text": [
      "Training: 100%|██████████| 79/79 [00:41<00:00,  1.90it/s]\n"
     ]
    },
    {
     "name": "stdout",
     "output_type": "stream",
     "text": [
      "Epoch completed: Average Loss = 0.0593\n",
      "Loss: 0.0593 | LR: 1.00e-04\n",
      "\n",
      "EPOCH 55/200\n"
     ]
    },
    {
     "name": "stderr",
     "output_type": "stream",
     "text": [
      "Training:   1%|▏         | 1/79 [00:00<00:40,  1.91it/s]"
     ]
    },
    {
     "name": "stdout",
     "output_type": "stream",
     "text": [
      "\n",
      "Batch  0: Loss = 0.0625\n"
     ]
    },
    {
     "name": "stderr",
     "output_type": "stream",
     "text": [
      "Training:  65%|██████▍   | 51/79 [00:27<00:14,  1.88it/s]"
     ]
    },
    {
     "name": "stdout",
     "output_type": "stream",
     "text": [
      "\n",
      "Batch 50: Loss = 0.0602\n"
     ]
    },
    {
     "name": "stderr",
     "output_type": "stream",
     "text": [
      "Training: 100%|██████████| 79/79 [00:41<00:00,  1.90it/s]\n"
     ]
    },
    {
     "name": "stdout",
     "output_type": "stream",
     "text": [
      "Epoch completed: Average Loss = 0.0583\n",
      "Loss: 0.0583 | LR: 1.00e-04\n",
      "\n",
      "EPOCH 56/200\n"
     ]
    },
    {
     "name": "stderr",
     "output_type": "stream",
     "text": [
      "Training:   1%|▏         | 1/79 [00:00<00:40,  1.91it/s]"
     ]
    },
    {
     "name": "stdout",
     "output_type": "stream",
     "text": [
      "\n",
      "Batch  0: Loss = 0.0589\n"
     ]
    },
    {
     "name": "stderr",
     "output_type": "stream",
     "text": [
      "Training:  65%|██████▍   | 51/79 [00:27<00:14,  1.88it/s]"
     ]
    },
    {
     "name": "stdout",
     "output_type": "stream",
     "text": [
      "\n",
      "Batch 50: Loss = 0.0565\n"
     ]
    },
    {
     "name": "stderr",
     "output_type": "stream",
     "text": [
      "Training: 100%|██████████| 79/79 [00:41<00:00,  1.90it/s]\n"
     ]
    },
    {
     "name": "stdout",
     "output_type": "stream",
     "text": [
      "Epoch completed: Average Loss = 0.0576\n",
      "Loss: 0.0576 | LR: 1.00e-04\n",
      "\n",
      "EPOCH 57/200\n"
     ]
    },
    {
     "name": "stderr",
     "output_type": "stream",
     "text": [
      "Training:   1%|▏         | 1/79 [00:00<00:40,  1.93it/s]"
     ]
    },
    {
     "name": "stdout",
     "output_type": "stream",
     "text": [
      "\n",
      "Batch  0: Loss = 0.0632\n"
     ]
    },
    {
     "name": "stderr",
     "output_type": "stream",
     "text": [
      "Training:  65%|██████▍   | 51/79 [00:27<00:14,  1.88it/s]"
     ]
    },
    {
     "name": "stdout",
     "output_type": "stream",
     "text": [
      "\n",
      "Batch 50: Loss = 0.0574\n"
     ]
    },
    {
     "name": "stderr",
     "output_type": "stream",
     "text": [
      "Training: 100%|██████████| 79/79 [00:41<00:00,  1.90it/s]\n"
     ]
    },
    {
     "name": "stdout",
     "output_type": "stream",
     "text": [
      "Epoch completed: Average Loss = 0.0562\n",
      "Loss: 0.0562 | LR: 1.00e-04\n",
      "\n",
      "EPOCH 58/200\n"
     ]
    },
    {
     "name": "stderr",
     "output_type": "stream",
     "text": [
      "Training:   1%|▏         | 1/79 [00:00<00:41,  1.90it/s]"
     ]
    },
    {
     "name": "stdout",
     "output_type": "stream",
     "text": [
      "\n",
      "Batch  0: Loss = 0.0510\n"
     ]
    },
    {
     "name": "stderr",
     "output_type": "stream",
     "text": [
      "Training:  65%|██████▍   | 51/79 [00:27<00:14,  1.88it/s]"
     ]
    },
    {
     "name": "stdout",
     "output_type": "stream",
     "text": [
      "\n",
      "Batch 50: Loss = 0.0573\n"
     ]
    },
    {
     "name": "stderr",
     "output_type": "stream",
     "text": [
      "Training: 100%|██████████| 79/79 [00:41<00:00,  1.90it/s]\n"
     ]
    },
    {
     "name": "stdout",
     "output_type": "stream",
     "text": [
      "Epoch completed: Average Loss = 0.0562\n",
      "Loss: 0.0562 | LR: 1.00e-04\n",
      "\n",
      "EPOCH 59/200\n"
     ]
    },
    {
     "name": "stderr",
     "output_type": "stream",
     "text": [
      "Training:   1%|▏         | 1/79 [00:00<00:40,  1.91it/s]"
     ]
    },
    {
     "name": "stdout",
     "output_type": "stream",
     "text": [
      "\n",
      "Batch  0: Loss = 0.0583\n"
     ]
    },
    {
     "name": "stderr",
     "output_type": "stream",
     "text": [
      "Training:  65%|██████▍   | 51/79 [00:27<00:14,  1.89it/s]"
     ]
    },
    {
     "name": "stdout",
     "output_type": "stream",
     "text": [
      "\n",
      "Batch 50: Loss = 0.0512\n"
     ]
    },
    {
     "name": "stderr",
     "output_type": "stream",
     "text": [
      "Training: 100%|██████████| 79/79 [00:41<00:00,  1.90it/s]\n"
     ]
    },
    {
     "name": "stdout",
     "output_type": "stream",
     "text": [
      "Epoch completed: Average Loss = 0.0553\n",
      "Loss: 0.0553 | LR: 1.00e-04\n",
      "\n",
      "EPOCH 60/200\n"
     ]
    },
    {
     "name": "stderr",
     "output_type": "stream",
     "text": [
      "Training:   1%|▏         | 1/79 [00:00<00:40,  1.91it/s]"
     ]
    },
    {
     "name": "stdout",
     "output_type": "stream",
     "text": [
      "\n",
      "Batch  0: Loss = 0.0685\n"
     ]
    },
    {
     "name": "stderr",
     "output_type": "stream",
     "text": [
      "Training:  65%|██████▍   | 51/79 [00:27<00:14,  1.88it/s]"
     ]
    },
    {
     "name": "stdout",
     "output_type": "stream",
     "text": [
      "\n",
      "Batch 50: Loss = 0.0551\n"
     ]
    },
    {
     "name": "stderr",
     "output_type": "stream",
     "text": [
      "Training: 100%|██████████| 79/79 [00:41<00:00,  1.90it/s]\n"
     ]
    },
    {
     "name": "stdout",
     "output_type": "stream",
     "text": [
      "Epoch completed: Average Loss = 0.0552\n",
      "Loss: 0.0552 | LR: 1.00e-04\n",
      "\n",
      "EPOCH 61/200\n"
     ]
    },
    {
     "name": "stderr",
     "output_type": "stream",
     "text": [
      "Training:   1%|▏         | 1/79 [00:00<00:40,  1.92it/s]"
     ]
    },
    {
     "name": "stdout",
     "output_type": "stream",
     "text": [
      "\n",
      "Batch  0: Loss = 0.0497\n"
     ]
    },
    {
     "name": "stderr",
     "output_type": "stream",
     "text": [
      "Training:  65%|██████▍   | 51/79 [00:27<00:14,  1.89it/s]"
     ]
    },
    {
     "name": "stdout",
     "output_type": "stream",
     "text": [
      "\n",
      "Batch 50: Loss = 0.0515\n"
     ]
    },
    {
     "name": "stderr",
     "output_type": "stream",
     "text": [
      "Training: 100%|██████████| 79/79 [00:41<00:00,  1.90it/s]\n"
     ]
    },
    {
     "name": "stdout",
     "output_type": "stream",
     "text": [
      "Epoch completed: Average Loss = 0.0542\n",
      "Loss: 0.0542 | LR: 1.00e-04\n",
      "\n",
      "EPOCH 62/200\n"
     ]
    },
    {
     "name": "stderr",
     "output_type": "stream",
     "text": [
      "Training:   1%|▏         | 1/79 [00:00<00:40,  1.92it/s]"
     ]
    },
    {
     "name": "stdout",
     "output_type": "stream",
     "text": [
      "\n",
      "Batch  0: Loss = 0.0556\n"
     ]
    },
    {
     "name": "stderr",
     "output_type": "stream",
     "text": [
      "Training:  65%|██████▍   | 51/79 [00:27<00:14,  1.89it/s]"
     ]
    },
    {
     "name": "stdout",
     "output_type": "stream",
     "text": [
      "\n",
      "Batch 50: Loss = 0.0500\n"
     ]
    },
    {
     "name": "stderr",
     "output_type": "stream",
     "text": [
      "Training: 100%|██████████| 79/79 [00:41<00:00,  1.90it/s]\n"
     ]
    },
    {
     "name": "stdout",
     "output_type": "stream",
     "text": [
      "Epoch completed: Average Loss = 0.0544\n",
      "Loss: 0.0544 | LR: 1.00e-04\n",
      "\n",
      "EPOCH 63/200\n"
     ]
    },
    {
     "name": "stderr",
     "output_type": "stream",
     "text": [
      "Training:   1%|▏         | 1/79 [00:00<00:41,  1.90it/s]"
     ]
    },
    {
     "name": "stdout",
     "output_type": "stream",
     "text": [
      "\n",
      "Batch  0: Loss = 0.0473\n"
     ]
    },
    {
     "name": "stderr",
     "output_type": "stream",
     "text": [
      "Training:  65%|██████▍   | 51/79 [00:27<00:14,  1.89it/s]"
     ]
    },
    {
     "name": "stdout",
     "output_type": "stream",
     "text": [
      "\n",
      "Batch 50: Loss = 0.0501\n"
     ]
    },
    {
     "name": "stderr",
     "output_type": "stream",
     "text": [
      "Training: 100%|██████████| 79/79 [00:41<00:00,  1.90it/s]\n"
     ]
    },
    {
     "name": "stdout",
     "output_type": "stream",
     "text": [
      "Epoch completed: Average Loss = 0.0532\n",
      "Loss: 0.0532 | LR: 1.00e-04\n",
      "\n",
      "EPOCH 64/200\n"
     ]
    },
    {
     "name": "stderr",
     "output_type": "stream",
     "text": [
      "Training:   1%|▏         | 1/79 [00:00<00:40,  1.91it/s]"
     ]
    },
    {
     "name": "stdout",
     "output_type": "stream",
     "text": [
      "\n",
      "Batch  0: Loss = 0.0648\n"
     ]
    },
    {
     "name": "stderr",
     "output_type": "stream",
     "text": [
      "Training:  65%|██████▍   | 51/79 [00:27<00:14,  1.89it/s]"
     ]
    },
    {
     "name": "stdout",
     "output_type": "stream",
     "text": [
      "\n",
      "Batch 50: Loss = 0.0598\n"
     ]
    },
    {
     "name": "stderr",
     "output_type": "stream",
     "text": [
      "Training: 100%|██████████| 79/79 [00:41<00:00,  1.90it/s]\n"
     ]
    },
    {
     "name": "stdout",
     "output_type": "stream",
     "text": [
      "Epoch completed: Average Loss = 0.0533\n",
      "Loss: 0.0533 | LR: 1.00e-04\n",
      "\n",
      "EPOCH 65/200\n"
     ]
    },
    {
     "name": "stderr",
     "output_type": "stream",
     "text": [
      "Training:   1%|▏         | 1/79 [00:00<00:40,  1.92it/s]"
     ]
    },
    {
     "name": "stdout",
     "output_type": "stream",
     "text": [
      "\n",
      "Batch  0: Loss = 0.0542\n"
     ]
    },
    {
     "name": "stderr",
     "output_type": "stream",
     "text": [
      "Training:  65%|██████▍   | 51/79 [00:27<00:14,  1.89it/s]"
     ]
    },
    {
     "name": "stdout",
     "output_type": "stream",
     "text": [
      "\n",
      "Batch 50: Loss = 0.0467\n"
     ]
    },
    {
     "name": "stderr",
     "output_type": "stream",
     "text": [
      "Training: 100%|██████████| 79/79 [00:41<00:00,  1.90it/s]\n"
     ]
    },
    {
     "name": "stdout",
     "output_type": "stream",
     "text": [
      "Epoch completed: Average Loss = 0.0535\n",
      "Loss: 0.0535 | LR: 1.00e-04\n",
      "\n",
      "EPOCH 66/200\n"
     ]
    },
    {
     "name": "stderr",
     "output_type": "stream",
     "text": [
      "Training:   1%|▏         | 1/79 [00:00<00:40,  1.91it/s]"
     ]
    },
    {
     "name": "stdout",
     "output_type": "stream",
     "text": [
      "\n",
      "Batch  0: Loss = 0.0512\n"
     ]
    },
    {
     "name": "stderr",
     "output_type": "stream",
     "text": [
      "Training:  65%|██████▍   | 51/79 [00:27<00:14,  1.89it/s]"
     ]
    },
    {
     "name": "stdout",
     "output_type": "stream",
     "text": [
      "\n",
      "Batch 50: Loss = 0.0506\n"
     ]
    },
    {
     "name": "stderr",
     "output_type": "stream",
     "text": [
      "Training: 100%|██████████| 79/79 [00:41<00:00,  1.90it/s]\n"
     ]
    },
    {
     "name": "stdout",
     "output_type": "stream",
     "text": [
      "Epoch completed: Average Loss = 0.0521\n",
      "Loss: 0.0521 | LR: 1.00e-04\n",
      "\n",
      "EPOCH 67/200\n"
     ]
    },
    {
     "name": "stderr",
     "output_type": "stream",
     "text": [
      "Training:   1%|▏         | 1/79 [00:00<00:40,  1.92it/s]"
     ]
    },
    {
     "name": "stdout",
     "output_type": "stream",
     "text": [
      "\n",
      "Batch  0: Loss = 0.0477\n"
     ]
    },
    {
     "name": "stderr",
     "output_type": "stream",
     "text": [
      "Training:  65%|██████▍   | 51/79 [00:27<00:14,  1.89it/s]"
     ]
    },
    {
     "name": "stdout",
     "output_type": "stream",
     "text": [
      "\n",
      "Batch 50: Loss = 0.0587\n"
     ]
    },
    {
     "name": "stderr",
     "output_type": "stream",
     "text": [
      "Training: 100%|██████████| 79/79 [00:41<00:00,  1.90it/s]\n"
     ]
    },
    {
     "name": "stdout",
     "output_type": "stream",
     "text": [
      "Epoch completed: Average Loss = 0.0524\n",
      "Loss: 0.0524 | LR: 1.00e-04\n",
      "\n",
      "EPOCH 68/200\n"
     ]
    },
    {
     "name": "stderr",
     "output_type": "stream",
     "text": [
      "Training:   1%|▏         | 1/79 [00:00<00:41,  1.90it/s]"
     ]
    },
    {
     "name": "stdout",
     "output_type": "stream",
     "text": [
      "\n",
      "Batch  0: Loss = 0.0443\n"
     ]
    },
    {
     "name": "stderr",
     "output_type": "stream",
     "text": [
      "Training:  65%|██████▍   | 51/79 [00:27<00:14,  1.88it/s]"
     ]
    },
    {
     "name": "stdout",
     "output_type": "stream",
     "text": [
      "\n",
      "Batch 50: Loss = 0.0497\n"
     ]
    },
    {
     "name": "stderr",
     "output_type": "stream",
     "text": [
      "Training: 100%|██████████| 79/79 [00:41<00:00,  1.90it/s]\n"
     ]
    },
    {
     "name": "stdout",
     "output_type": "stream",
     "text": [
      "Epoch completed: Average Loss = 0.0514\n",
      "Loss: 0.0514 | LR: 1.00e-04\n",
      "\n",
      "EPOCH 69/200\n"
     ]
    },
    {
     "name": "stderr",
     "output_type": "stream",
     "text": [
      "Training:   1%|▏         | 1/79 [00:00<00:40,  1.91it/s]"
     ]
    },
    {
     "name": "stdout",
     "output_type": "stream",
     "text": [
      "\n",
      "Batch  0: Loss = 0.0461\n"
     ]
    },
    {
     "name": "stderr",
     "output_type": "stream",
     "text": [
      "Training:  65%|██████▍   | 51/79 [00:27<00:14,  1.88it/s]"
     ]
    },
    {
     "name": "stdout",
     "output_type": "stream",
     "text": [
      "\n",
      "Batch 50: Loss = 0.0581\n"
     ]
    },
    {
     "name": "stderr",
     "output_type": "stream",
     "text": [
      "Training: 100%|██████████| 79/79 [00:41<00:00,  1.90it/s]\n"
     ]
    },
    {
     "name": "stdout",
     "output_type": "stream",
     "text": [
      "Epoch completed: Average Loss = 0.0515\n",
      "Loss: 0.0515 | LR: 1.00e-04\n",
      "\n",
      "EPOCH 70/200\n"
     ]
    },
    {
     "name": "stderr",
     "output_type": "stream",
     "text": [
      "Training:   1%|▏         | 1/79 [00:00<00:40,  1.91it/s]"
     ]
    },
    {
     "name": "stdout",
     "output_type": "stream",
     "text": [
      "\n",
      "Batch  0: Loss = 0.0482\n"
     ]
    },
    {
     "name": "stderr",
     "output_type": "stream",
     "text": [
      "Training:  65%|██████▍   | 51/79 [00:27<00:14,  1.88it/s]"
     ]
    },
    {
     "name": "stdout",
     "output_type": "stream",
     "text": [
      "\n",
      "Batch 50: Loss = 0.0457\n"
     ]
    },
    {
     "name": "stderr",
     "output_type": "stream",
     "text": [
      "Training: 100%|██████████| 79/79 [00:41<00:00,  1.90it/s]\n"
     ]
    },
    {
     "name": "stdout",
     "output_type": "stream",
     "text": [
      "Epoch completed: Average Loss = 0.0510\n",
      "Loss: 0.0510 | LR: 1.00e-04\n",
      "\n",
      "EPOCH 71/200\n"
     ]
    },
    {
     "name": "stderr",
     "output_type": "stream",
     "text": [
      "Training:   1%|▏         | 1/79 [00:00<00:40,  1.92it/s]"
     ]
    },
    {
     "name": "stdout",
     "output_type": "stream",
     "text": [
      "\n",
      "Batch  0: Loss = 0.0468\n"
     ]
    },
    {
     "name": "stderr",
     "output_type": "stream",
     "text": [
      "Training:  65%|██████▍   | 51/79 [00:27<00:14,  1.89it/s]"
     ]
    },
    {
     "name": "stdout",
     "output_type": "stream",
     "text": [
      "\n",
      "Batch 50: Loss = 0.0483\n"
     ]
    },
    {
     "name": "stderr",
     "output_type": "stream",
     "text": [
      "Training: 100%|██████████| 79/79 [00:41<00:00,  1.90it/s]\n"
     ]
    },
    {
     "name": "stdout",
     "output_type": "stream",
     "text": [
      "Epoch completed: Average Loss = 0.0506\n",
      "Loss: 0.0506 | LR: 1.00e-04\n",
      "\n",
      "EPOCH 72/200\n"
     ]
    },
    {
     "name": "stderr",
     "output_type": "stream",
     "text": [
      "Training:   1%|▏         | 1/79 [00:00<00:40,  1.92it/s]"
     ]
    },
    {
     "name": "stdout",
     "output_type": "stream",
     "text": [
      "\n",
      "Batch  0: Loss = 0.0497\n"
     ]
    },
    {
     "name": "stderr",
     "output_type": "stream",
     "text": [
      "Training:  65%|██████▍   | 51/79 [00:27<00:14,  1.89it/s]"
     ]
    },
    {
     "name": "stdout",
     "output_type": "stream",
     "text": [
      "\n",
      "Batch 50: Loss = 0.0560\n"
     ]
    },
    {
     "name": "stderr",
     "output_type": "stream",
     "text": [
      "Training: 100%|██████████| 79/79 [00:41<00:00,  1.90it/s]\n"
     ]
    },
    {
     "name": "stdout",
     "output_type": "stream",
     "text": [
      "Epoch completed: Average Loss = 0.0513\n",
      "Loss: 0.0513 | LR: 1.00e-04\n",
      "\n",
      "EPOCH 73/200\n"
     ]
    },
    {
     "name": "stderr",
     "output_type": "stream",
     "text": [
      "Training:   1%|▏         | 1/79 [00:00<00:40,  1.91it/s]"
     ]
    },
    {
     "name": "stdout",
     "output_type": "stream",
     "text": [
      "\n",
      "Batch  0: Loss = 0.0611\n"
     ]
    },
    {
     "name": "stderr",
     "output_type": "stream",
     "text": [
      "Training:  65%|██████▍   | 51/79 [00:27<00:14,  1.89it/s]"
     ]
    },
    {
     "name": "stdout",
     "output_type": "stream",
     "text": [
      "\n",
      "Batch 50: Loss = 0.0528\n"
     ]
    },
    {
     "name": "stderr",
     "output_type": "stream",
     "text": [
      "Training: 100%|██████████| 79/79 [00:41<00:00,  1.90it/s]\n"
     ]
    },
    {
     "name": "stdout",
     "output_type": "stream",
     "text": [
      "Epoch completed: Average Loss = 0.0503\n",
      "Loss: 0.0503 | LR: 1.00e-04\n",
      "\n",
      "EPOCH 74/200\n"
     ]
    },
    {
     "name": "stderr",
     "output_type": "stream",
     "text": [
      "Training:   1%|▏         | 1/79 [00:00<00:40,  1.91it/s]"
     ]
    },
    {
     "name": "stdout",
     "output_type": "stream",
     "text": [
      "\n",
      "Batch  0: Loss = 0.0565\n"
     ]
    },
    {
     "name": "stderr",
     "output_type": "stream",
     "text": [
      "Training:  65%|██████▍   | 51/79 [00:27<00:14,  1.89it/s]"
     ]
    },
    {
     "name": "stdout",
     "output_type": "stream",
     "text": [
      "\n",
      "Batch 50: Loss = 0.0521\n"
     ]
    },
    {
     "name": "stderr",
     "output_type": "stream",
     "text": [
      "Training: 100%|██████████| 79/79 [00:41<00:00,  1.90it/s]\n"
     ]
    },
    {
     "name": "stdout",
     "output_type": "stream",
     "text": [
      "Epoch completed: Average Loss = 0.0501\n",
      "Loss: 0.0501 | LR: 1.00e-04\n",
      "\n",
      "EPOCH 75/200\n"
     ]
    },
    {
     "name": "stderr",
     "output_type": "stream",
     "text": [
      "Training:   1%|▏         | 1/79 [00:00<00:40,  1.91it/s]"
     ]
    },
    {
     "name": "stdout",
     "output_type": "stream",
     "text": [
      "\n",
      "Batch  0: Loss = 0.0452\n"
     ]
    },
    {
     "name": "stderr",
     "output_type": "stream",
     "text": [
      "Training:  65%|██████▍   | 51/79 [00:27<00:14,  1.88it/s]"
     ]
    },
    {
     "name": "stdout",
     "output_type": "stream",
     "text": [
      "\n",
      "Batch 50: Loss = 0.0496\n"
     ]
    },
    {
     "name": "stderr",
     "output_type": "stream",
     "text": [
      "Training: 100%|██████████| 79/79 [00:41<00:00,  1.90it/s]\n"
     ]
    },
    {
     "name": "stdout",
     "output_type": "stream",
     "text": [
      "Epoch completed: Average Loss = 0.0491\n",
      "Loss: 0.0491 | LR: 1.00e-04\n",
      "\n",
      "EPOCH 76/200\n"
     ]
    },
    {
     "name": "stderr",
     "output_type": "stream",
     "text": [
      "Training:   1%|▏         | 1/79 [00:00<00:40,  1.92it/s]"
     ]
    },
    {
     "name": "stdout",
     "output_type": "stream",
     "text": [
      "\n",
      "Batch  0: Loss = 0.0559\n"
     ]
    },
    {
     "name": "stderr",
     "output_type": "stream",
     "text": [
      "Training:  65%|██████▍   | 51/79 [00:27<00:14,  1.89it/s]"
     ]
    },
    {
     "name": "stdout",
     "output_type": "stream",
     "text": [
      "\n",
      "Batch 50: Loss = 0.0528\n"
     ]
    },
    {
     "name": "stderr",
     "output_type": "stream",
     "text": [
      "Training: 100%|██████████| 79/79 [00:41<00:00,  1.90it/s]\n"
     ]
    },
    {
     "name": "stdout",
     "output_type": "stream",
     "text": [
      "Epoch completed: Average Loss = 0.0493\n",
      "Loss: 0.0493 | LR: 1.00e-04\n",
      "\n",
      "EPOCH 77/200\n"
     ]
    },
    {
     "name": "stderr",
     "output_type": "stream",
     "text": [
      "Training:   1%|▏         | 1/79 [00:00<00:40,  1.92it/s]"
     ]
    },
    {
     "name": "stdout",
     "output_type": "stream",
     "text": [
      "\n",
      "Batch  0: Loss = 0.0492\n"
     ]
    },
    {
     "name": "stderr",
     "output_type": "stream",
     "text": [
      "Training:  65%|██████▍   | 51/79 [00:27<00:14,  1.89it/s]"
     ]
    },
    {
     "name": "stdout",
     "output_type": "stream",
     "text": [
      "\n",
      "Batch 50: Loss = 0.0473\n"
     ]
    },
    {
     "name": "stderr",
     "output_type": "stream",
     "text": [
      "Training: 100%|██████████| 79/79 [00:41<00:00,  1.90it/s]\n"
     ]
    },
    {
     "name": "stdout",
     "output_type": "stream",
     "text": [
      "Epoch completed: Average Loss = 0.0492\n",
      "Loss: 0.0492 | LR: 1.00e-04\n",
      "\n",
      "EPOCH 78/200\n"
     ]
    },
    {
     "name": "stderr",
     "output_type": "stream",
     "text": [
      "Training:   1%|▏         | 1/79 [00:00<00:40,  1.90it/s]"
     ]
    },
    {
     "name": "stdout",
     "output_type": "stream",
     "text": [
      "\n",
      "Batch  0: Loss = 0.0579\n"
     ]
    },
    {
     "name": "stderr",
     "output_type": "stream",
     "text": [
      "Training:  65%|██████▍   | 51/79 [00:27<00:14,  1.88it/s]"
     ]
    },
    {
     "name": "stdout",
     "output_type": "stream",
     "text": [
      "\n",
      "Batch 50: Loss = 0.0505\n"
     ]
    },
    {
     "name": "stderr",
     "output_type": "stream",
     "text": [
      "Training: 100%|██████████| 79/79 [00:41<00:00,  1.90it/s]\n"
     ]
    },
    {
     "name": "stdout",
     "output_type": "stream",
     "text": [
      "Epoch completed: Average Loss = 0.0493\n",
      "Loss: 0.0493 | LR: 1.00e-04\n",
      "\n",
      "EPOCH 79/200\n"
     ]
    },
    {
     "name": "stderr",
     "output_type": "stream",
     "text": [
      "Training:   1%|▏         | 1/79 [00:00<00:41,  1.90it/s]"
     ]
    },
    {
     "name": "stdout",
     "output_type": "stream",
     "text": [
      "\n",
      "Batch  0: Loss = 0.0516\n"
     ]
    },
    {
     "name": "stderr",
     "output_type": "stream",
     "text": [
      "Training:  65%|██████▍   | 51/79 [00:27<00:14,  1.89it/s]"
     ]
    },
    {
     "name": "stdout",
     "output_type": "stream",
     "text": [
      "\n",
      "Batch 50: Loss = 0.0589\n"
     ]
    },
    {
     "name": "stderr",
     "output_type": "stream",
     "text": [
      "Training: 100%|██████████| 79/79 [00:41<00:00,  1.90it/s]\n"
     ]
    },
    {
     "name": "stdout",
     "output_type": "stream",
     "text": [
      "Epoch completed: Average Loss = 0.0490\n",
      "Loss: 0.0490 | LR: 1.00e-04\n",
      "\n",
      "EPOCH 80/200\n"
     ]
    },
    {
     "name": "stderr",
     "output_type": "stream",
     "text": [
      "Training:   1%|▏         | 1/79 [00:00<00:41,  1.90it/s]"
     ]
    },
    {
     "name": "stdout",
     "output_type": "stream",
     "text": [
      "\n",
      "Batch  0: Loss = 0.0522\n"
     ]
    },
    {
     "name": "stderr",
     "output_type": "stream",
     "text": [
      "Training:  65%|██████▍   | 51/79 [00:27<00:14,  1.89it/s]"
     ]
    },
    {
     "name": "stdout",
     "output_type": "stream",
     "text": [
      "\n",
      "Batch 50: Loss = 0.0410\n"
     ]
    },
    {
     "name": "stderr",
     "output_type": "stream",
     "text": [
      "Training: 100%|██████████| 79/79 [00:41<00:00,  1.90it/s]\n"
     ]
    },
    {
     "name": "stdout",
     "output_type": "stream",
     "text": [
      "Epoch completed: Average Loss = 0.0476\n",
      "Loss: 0.0476 | LR: 1.00e-04\n",
      "\n",
      "EPOCH 81/200\n"
     ]
    },
    {
     "name": "stderr",
     "output_type": "stream",
     "text": [
      "Training:   1%|▏         | 1/79 [00:00<00:40,  1.92it/s]"
     ]
    },
    {
     "name": "stdout",
     "output_type": "stream",
     "text": [
      "\n",
      "Batch  0: Loss = 0.0502\n"
     ]
    },
    {
     "name": "stderr",
     "output_type": "stream",
     "text": [
      "Training:  65%|██████▍   | 51/79 [00:27<00:14,  1.89it/s]"
     ]
    },
    {
     "name": "stdout",
     "output_type": "stream",
     "text": [
      "\n",
      "Batch 50: Loss = 0.0528\n"
     ]
    },
    {
     "name": "stderr",
     "output_type": "stream",
     "text": [
      "Training: 100%|██████████| 79/79 [00:41<00:00,  1.90it/s]\n"
     ]
    },
    {
     "name": "stdout",
     "output_type": "stream",
     "text": [
      "Epoch completed: Average Loss = 0.0488\n",
      "Loss: 0.0488 | LR: 1.00e-04\n",
      "\n",
      "EPOCH 82/200\n"
     ]
    },
    {
     "name": "stderr",
     "output_type": "stream",
     "text": [
      "Training:   1%|▏         | 1/79 [00:00<00:40,  1.92it/s]"
     ]
    },
    {
     "name": "stdout",
     "output_type": "stream",
     "text": [
      "\n",
      "Batch  0: Loss = 0.0462\n"
     ]
    },
    {
     "name": "stderr",
     "output_type": "stream",
     "text": [
      "Training:  65%|██████▍   | 51/79 [00:27<00:14,  1.89it/s]"
     ]
    },
    {
     "name": "stdout",
     "output_type": "stream",
     "text": [
      "\n",
      "Batch 50: Loss = 0.0395\n"
     ]
    },
    {
     "name": "stderr",
     "output_type": "stream",
     "text": [
      "Training: 100%|██████████| 79/79 [00:41<00:00,  1.90it/s]\n"
     ]
    },
    {
     "name": "stdout",
     "output_type": "stream",
     "text": [
      "Epoch completed: Average Loss = 0.0483\n",
      "Loss: 0.0483 | LR: 1.00e-04\n",
      "\n",
      "EPOCH 83/200\n"
     ]
    },
    {
     "name": "stderr",
     "output_type": "stream",
     "text": [
      "Training:   1%|▏         | 1/79 [00:00<00:40,  1.90it/s]"
     ]
    },
    {
     "name": "stdout",
     "output_type": "stream",
     "text": [
      "\n",
      "Batch  0: Loss = 0.0483\n"
     ]
    },
    {
     "name": "stderr",
     "output_type": "stream",
     "text": [
      "Training:  65%|██████▍   | 51/79 [00:27<00:14,  1.89it/s]"
     ]
    },
    {
     "name": "stdout",
     "output_type": "stream",
     "text": [
      "\n",
      "Batch 50: Loss = 0.0507\n"
     ]
    },
    {
     "name": "stderr",
     "output_type": "stream",
     "text": [
      "Training: 100%|██████████| 79/79 [00:41<00:00,  1.90it/s]\n"
     ]
    },
    {
     "name": "stdout",
     "output_type": "stream",
     "text": [
      "Epoch completed: Average Loss = 0.0481\n",
      "Loss: 0.0481 | LR: 1.00e-04\n",
      "\n",
      "EPOCH 84/200\n"
     ]
    },
    {
     "name": "stderr",
     "output_type": "stream",
     "text": [
      "Training:   1%|▏         | 1/79 [00:00<00:40,  1.91it/s]"
     ]
    },
    {
     "name": "stdout",
     "output_type": "stream",
     "text": [
      "\n",
      "Batch  0: Loss = 0.0534\n"
     ]
    },
    {
     "name": "stderr",
     "output_type": "stream",
     "text": [
      "Training:  65%|██████▍   | 51/79 [00:27<00:14,  1.89it/s]"
     ]
    },
    {
     "name": "stdout",
     "output_type": "stream",
     "text": [
      "\n",
      "Batch 50: Loss = 0.0483\n"
     ]
    },
    {
     "name": "stderr",
     "output_type": "stream",
     "text": [
      "Training: 100%|██████████| 79/79 [00:41<00:00,  1.90it/s]\n"
     ]
    },
    {
     "name": "stdout",
     "output_type": "stream",
     "text": [
      "Epoch completed: Average Loss = 0.0478\n",
      "Loss: 0.0478 | LR: 1.00e-04\n",
      "\n",
      "EPOCH 85/200\n"
     ]
    },
    {
     "name": "stderr",
     "output_type": "stream",
     "text": [
      "Training:   1%|▏         | 1/79 [00:00<00:40,  1.91it/s]"
     ]
    },
    {
     "name": "stdout",
     "output_type": "stream",
     "text": [
      "\n",
      "Batch  0: Loss = 0.0437\n"
     ]
    },
    {
     "name": "stderr",
     "output_type": "stream",
     "text": [
      "Training:  65%|██████▍   | 51/79 [00:27<00:14,  1.89it/s]"
     ]
    },
    {
     "name": "stdout",
     "output_type": "stream",
     "text": [
      "\n",
      "Batch 50: Loss = 0.0473\n"
     ]
    },
    {
     "name": "stderr",
     "output_type": "stream",
     "text": [
      "Training: 100%|██████████| 79/79 [00:41<00:00,  1.90it/s]\n"
     ]
    },
    {
     "name": "stdout",
     "output_type": "stream",
     "text": [
      "Epoch completed: Average Loss = 0.0474\n",
      "Loss: 0.0474 | LR: 1.00e-04\n",
      "\n",
      "EPOCH 86/200\n"
     ]
    },
    {
     "name": "stderr",
     "output_type": "stream",
     "text": [
      "Training:   1%|▏         | 1/79 [00:00<00:41,  1.90it/s]"
     ]
    },
    {
     "name": "stdout",
     "output_type": "stream",
     "text": [
      "\n",
      "Batch  0: Loss = 0.0441\n"
     ]
    },
    {
     "name": "stderr",
     "output_type": "stream",
     "text": [
      "Training:  65%|██████▍   | 51/79 [00:27<00:14,  1.89it/s]"
     ]
    },
    {
     "name": "stdout",
     "output_type": "stream",
     "text": [
      "\n",
      "Batch 50: Loss = 0.0497\n"
     ]
    },
    {
     "name": "stderr",
     "output_type": "stream",
     "text": [
      "Training: 100%|██████████| 79/79 [00:41<00:00,  1.90it/s]\n"
     ]
    },
    {
     "name": "stdout",
     "output_type": "stream",
     "text": [
      "Epoch completed: Average Loss = 0.0470\n",
      "Loss: 0.0470 | LR: 1.00e-04\n",
      "\n",
      "EPOCH 87/200\n"
     ]
    },
    {
     "name": "stderr",
     "output_type": "stream",
     "text": [
      "Training:   1%|▏         | 1/79 [00:00<00:40,  1.92it/s]"
     ]
    },
    {
     "name": "stdout",
     "output_type": "stream",
     "text": [
      "\n",
      "Batch  0: Loss = 0.0400\n"
     ]
    },
    {
     "name": "stderr",
     "output_type": "stream",
     "text": [
      "Training:  65%|██████▍   | 51/79 [00:27<00:14,  1.89it/s]"
     ]
    },
    {
     "name": "stdout",
     "output_type": "stream",
     "text": [
      "\n",
      "Batch 50: Loss = 0.0433\n"
     ]
    },
    {
     "name": "stderr",
     "output_type": "stream",
     "text": [
      "Training: 100%|██████████| 79/79 [00:41<00:00,  1.90it/s]\n"
     ]
    },
    {
     "name": "stdout",
     "output_type": "stream",
     "text": [
      "Epoch completed: Average Loss = 0.0466\n",
      "Loss: 0.0466 | LR: 1.00e-04\n",
      "\n",
      "EPOCH 88/200\n"
     ]
    },
    {
     "name": "stderr",
     "output_type": "stream",
     "text": [
      "Training:   1%|▏         | 1/79 [00:00<00:40,  1.90it/s]"
     ]
    },
    {
     "name": "stdout",
     "output_type": "stream",
     "text": [
      "\n",
      "Batch  0: Loss = 0.0532\n"
     ]
    },
    {
     "name": "stderr",
     "output_type": "stream",
     "text": [
      "Training:  65%|██████▍   | 51/79 [00:27<00:14,  1.89it/s]"
     ]
    },
    {
     "name": "stdout",
     "output_type": "stream",
     "text": [
      "\n",
      "Batch 50: Loss = 0.0496\n"
     ]
    },
    {
     "name": "stderr",
     "output_type": "stream",
     "text": [
      "Training: 100%|██████████| 79/79 [00:41<00:00,  1.90it/s]\n"
     ]
    },
    {
     "name": "stdout",
     "output_type": "stream",
     "text": [
      "Epoch completed: Average Loss = 0.0463\n",
      "Loss: 0.0463 | LR: 1.00e-04\n",
      "\n",
      "EPOCH 89/200\n"
     ]
    },
    {
     "name": "stderr",
     "output_type": "stream",
     "text": [
      "Training:   1%|▏         | 1/79 [00:00<00:40,  1.92it/s]"
     ]
    },
    {
     "name": "stdout",
     "output_type": "stream",
     "text": [
      "\n",
      "Batch  0: Loss = 0.0423\n"
     ]
    },
    {
     "name": "stderr",
     "output_type": "stream",
     "text": [
      "Training:  65%|██████▍   | 51/79 [00:27<00:14,  1.89it/s]"
     ]
    },
    {
     "name": "stdout",
     "output_type": "stream",
     "text": [
      "\n",
      "Batch 50: Loss = 0.0428\n"
     ]
    },
    {
     "name": "stderr",
     "output_type": "stream",
     "text": [
      "Training: 100%|██████████| 79/79 [00:41<00:00,  1.90it/s]\n"
     ]
    },
    {
     "name": "stdout",
     "output_type": "stream",
     "text": [
      "Epoch completed: Average Loss = 0.0469\n",
      "Loss: 0.0469 | LR: 1.00e-04\n",
      "\n",
      "EPOCH 90/200\n"
     ]
    },
    {
     "name": "stderr",
     "output_type": "stream",
     "text": [
      "Training:   1%|▏         | 1/79 [00:00<00:40,  1.90it/s]"
     ]
    },
    {
     "name": "stdout",
     "output_type": "stream",
     "text": [
      "\n",
      "Batch  0: Loss = 0.0418\n"
     ]
    },
    {
     "name": "stderr",
     "output_type": "stream",
     "text": [
      "Training:  65%|██████▍   | 51/79 [00:27<00:14,  1.88it/s]"
     ]
    },
    {
     "name": "stdout",
     "output_type": "stream",
     "text": [
      "\n",
      "Batch 50: Loss = 0.0469\n"
     ]
    },
    {
     "name": "stderr",
     "output_type": "stream",
     "text": [
      "Training: 100%|██████████| 79/79 [00:41<00:00,  1.90it/s]\n"
     ]
    },
    {
     "name": "stdout",
     "output_type": "stream",
     "text": [
      "Epoch completed: Average Loss = 0.0466\n",
      "Loss: 0.0466 | LR: 1.00e-04\n",
      "\n",
      "EPOCH 91/200\n"
     ]
    },
    {
     "name": "stderr",
     "output_type": "stream",
     "text": [
      "Training:   1%|▏         | 1/79 [00:00<00:40,  1.92it/s]"
     ]
    },
    {
     "name": "stdout",
     "output_type": "stream",
     "text": [
      "\n",
      "Batch  0: Loss = 0.0532\n"
     ]
    },
    {
     "name": "stderr",
     "output_type": "stream",
     "text": [
      "Training:  65%|██████▍   | 51/79 [00:27<00:14,  1.89it/s]"
     ]
    },
    {
     "name": "stdout",
     "output_type": "stream",
     "text": [
      "\n",
      "Batch 50: Loss = 0.0486\n"
     ]
    },
    {
     "name": "stderr",
     "output_type": "stream",
     "text": [
      "Training: 100%|██████████| 79/79 [00:41<00:00,  1.90it/s]\n"
     ]
    },
    {
     "name": "stdout",
     "output_type": "stream",
     "text": [
      "Epoch completed: Average Loss = 0.0459\n",
      "Loss: 0.0459 | LR: 1.00e-04\n",
      "\n",
      "EPOCH 92/200\n"
     ]
    },
    {
     "name": "stderr",
     "output_type": "stream",
     "text": [
      "Training:   1%|▏         | 1/79 [00:00<00:40,  1.92it/s]"
     ]
    },
    {
     "name": "stdout",
     "output_type": "stream",
     "text": [
      "\n",
      "Batch  0: Loss = 0.0439\n"
     ]
    },
    {
     "name": "stderr",
     "output_type": "stream",
     "text": [
      "Training:  65%|██████▍   | 51/79 [00:27<00:14,  1.89it/s]"
     ]
    },
    {
     "name": "stdout",
     "output_type": "stream",
     "text": [
      "\n",
      "Batch 50: Loss = 0.0382\n"
     ]
    },
    {
     "name": "stderr",
     "output_type": "stream",
     "text": [
      "Training: 100%|██████████| 79/79 [00:41<00:00,  1.90it/s]\n"
     ]
    },
    {
     "name": "stdout",
     "output_type": "stream",
     "text": [
      "Epoch completed: Average Loss = 0.0466\n",
      "Loss: 0.0466 | LR: 1.00e-04\n",
      "\n",
      "EPOCH 93/200\n"
     ]
    },
    {
     "name": "stderr",
     "output_type": "stream",
     "text": [
      "Training:   1%|▏         | 1/79 [00:00<00:40,  1.91it/s]"
     ]
    },
    {
     "name": "stdout",
     "output_type": "stream",
     "text": [
      "\n",
      "Batch  0: Loss = 0.0461\n"
     ]
    },
    {
     "name": "stderr",
     "output_type": "stream",
     "text": [
      "Training:  65%|██████▍   | 51/79 [00:27<00:14,  1.89it/s]"
     ]
    },
    {
     "name": "stdout",
     "output_type": "stream",
     "text": [
      "\n",
      "Batch 50: Loss = 0.0461\n"
     ]
    },
    {
     "name": "stderr",
     "output_type": "stream",
     "text": [
      "Training: 100%|██████████| 79/79 [00:41<00:00,  1.90it/s]\n"
     ]
    },
    {
     "name": "stdout",
     "output_type": "stream",
     "text": [
      "Epoch completed: Average Loss = 0.0452\n",
      "Loss: 0.0452 | LR: 1.00e-04\n",
      "\n",
      "EPOCH 94/200\n"
     ]
    },
    {
     "name": "stderr",
     "output_type": "stream",
     "text": [
      "Training:   1%|▏         | 1/79 [00:00<00:40,  1.91it/s]"
     ]
    },
    {
     "name": "stdout",
     "output_type": "stream",
     "text": [
      "\n",
      "Batch  0: Loss = 0.0438\n"
     ]
    },
    {
     "name": "stderr",
     "output_type": "stream",
     "text": [
      "Training:  65%|██████▍   | 51/79 [00:27<00:14,  1.89it/s]"
     ]
    },
    {
     "name": "stdout",
     "output_type": "stream",
     "text": [
      "\n",
      "Batch 50: Loss = 0.0429\n"
     ]
    },
    {
     "name": "stderr",
     "output_type": "stream",
     "text": [
      "Training: 100%|██████████| 79/79 [00:41<00:00,  1.90it/s]\n"
     ]
    },
    {
     "name": "stdout",
     "output_type": "stream",
     "text": [
      "Epoch completed: Average Loss = 0.0458\n",
      "Loss: 0.0458 | LR: 1.00e-04\n",
      "\n",
      "EPOCH 95/200\n"
     ]
    },
    {
     "name": "stderr",
     "output_type": "stream",
     "text": [
      "Training:   1%|▏         | 1/79 [00:00<00:40,  1.91it/s]"
     ]
    },
    {
     "name": "stdout",
     "output_type": "stream",
     "text": [
      "\n",
      "Batch  0: Loss = 0.0468\n"
     ]
    },
    {
     "name": "stderr",
     "output_type": "stream",
     "text": [
      "Training:  65%|██████▍   | 51/79 [00:27<00:14,  1.89it/s]"
     ]
    },
    {
     "name": "stdout",
     "output_type": "stream",
     "text": [
      "\n",
      "Batch 50: Loss = 0.0489\n"
     ]
    },
    {
     "name": "stderr",
     "output_type": "stream",
     "text": [
      "Training: 100%|██████████| 79/79 [00:41<00:00,  1.90it/s]\n"
     ]
    },
    {
     "name": "stdout",
     "output_type": "stream",
     "text": [
      "Epoch completed: Average Loss = 0.0462\n",
      "Loss: 0.0462 | LR: 1.00e-04\n",
      "\n",
      "EPOCH 96/200\n"
     ]
    },
    {
     "name": "stderr",
     "output_type": "stream",
     "text": [
      "Training:   1%|▏         | 1/79 [00:00<00:40,  1.90it/s]"
     ]
    },
    {
     "name": "stdout",
     "output_type": "stream",
     "text": [
      "\n",
      "Batch  0: Loss = 0.0365\n"
     ]
    },
    {
     "name": "stderr",
     "output_type": "stream",
     "text": [
      "Training:  65%|██████▍   | 51/79 [00:27<00:14,  1.89it/s]"
     ]
    },
    {
     "name": "stdout",
     "output_type": "stream",
     "text": [
      "\n",
      "Batch 50: Loss = 0.0481\n"
     ]
    },
    {
     "name": "stderr",
     "output_type": "stream",
     "text": [
      "Training: 100%|██████████| 79/79 [00:41<00:00,  1.90it/s]\n"
     ]
    },
    {
     "name": "stdout",
     "output_type": "stream",
     "text": [
      "Epoch completed: Average Loss = 0.0456\n",
      "Loss: 0.0456 | LR: 1.00e-04\n",
      "\n",
      "EPOCH 97/200\n"
     ]
    },
    {
     "name": "stderr",
     "output_type": "stream",
     "text": [
      "Training:   1%|▏         | 1/79 [00:00<00:40,  1.92it/s]"
     ]
    },
    {
     "name": "stdout",
     "output_type": "stream",
     "text": [
      "\n",
      "Batch  0: Loss = 0.0428\n"
     ]
    },
    {
     "name": "stderr",
     "output_type": "stream",
     "text": [
      "Training:  65%|██████▍   | 51/79 [00:27<00:14,  1.89it/s]"
     ]
    },
    {
     "name": "stdout",
     "output_type": "stream",
     "text": [
      "\n",
      "Batch 50: Loss = 0.0413\n"
     ]
    },
    {
     "name": "stderr",
     "output_type": "stream",
     "text": [
      "Training: 100%|██████████| 79/79 [00:41<00:00,  1.90it/s]\n"
     ]
    },
    {
     "name": "stdout",
     "output_type": "stream",
     "text": [
      "Epoch completed: Average Loss = 0.0458\n",
      "Loss: 0.0458 | LR: 1.00e-04\n",
      "\n",
      "EPOCH 98/200\n"
     ]
    },
    {
     "name": "stderr",
     "output_type": "stream",
     "text": [
      "Training:   1%|▏         | 1/79 [00:00<00:41,  1.90it/s]"
     ]
    },
    {
     "name": "stdout",
     "output_type": "stream",
     "text": [
      "\n",
      "Batch  0: Loss = 0.0505\n"
     ]
    },
    {
     "name": "stderr",
     "output_type": "stream",
     "text": [
      "Training:  65%|██████▍   | 51/79 [00:27<00:14,  1.89it/s]"
     ]
    },
    {
     "name": "stdout",
     "output_type": "stream",
     "text": [
      "\n",
      "Batch 50: Loss = 0.0475\n"
     ]
    },
    {
     "name": "stderr",
     "output_type": "stream",
     "text": [
      "Training: 100%|██████████| 79/79 [00:41<00:00,  1.90it/s]\n"
     ]
    },
    {
     "name": "stdout",
     "output_type": "stream",
     "text": [
      "Epoch completed: Average Loss = 0.0455\n",
      "Loss: 0.0455 | LR: 1.00e-04\n",
      "\n",
      "EPOCH 99/200\n"
     ]
    },
    {
     "name": "stderr",
     "output_type": "stream",
     "text": [
      "Training:   1%|▏         | 1/79 [00:00<00:40,  1.90it/s]"
     ]
    },
    {
     "name": "stdout",
     "output_type": "stream",
     "text": [
      "\n",
      "Batch  0: Loss = 0.0407\n"
     ]
    },
    {
     "name": "stderr",
     "output_type": "stream",
     "text": [
      "Training:  65%|██████▍   | 51/79 [00:27<00:14,  1.89it/s]"
     ]
    },
    {
     "name": "stdout",
     "output_type": "stream",
     "text": [
      "\n",
      "Batch 50: Loss = 0.0487\n"
     ]
    },
    {
     "name": "stderr",
     "output_type": "stream",
     "text": [
      "Training: 100%|██████████| 79/79 [00:41<00:00,  1.90it/s]\n"
     ]
    },
    {
     "name": "stdout",
     "output_type": "stream",
     "text": [
      "Epoch completed: Average Loss = 0.0453\n",
      "Loss: 0.0453 | LR: 1.00e-04\n",
      "\n",
      "EPOCH 100/200\n"
     ]
    },
    {
     "name": "stderr",
     "output_type": "stream",
     "text": [
      "Training:   1%|▏         | 1/79 [00:00<00:41,  1.90it/s]"
     ]
    },
    {
     "name": "stdout",
     "output_type": "stream",
     "text": [
      "\n",
      "Batch  0: Loss = 0.0432\n"
     ]
    },
    {
     "name": "stderr",
     "output_type": "stream",
     "text": [
      "Training:  65%|██████▍   | 51/79 [00:27<00:14,  1.89it/s]"
     ]
    },
    {
     "name": "stdout",
     "output_type": "stream",
     "text": [
      "\n",
      "Batch 50: Loss = 0.0469\n"
     ]
    },
    {
     "name": "stderr",
     "output_type": "stream",
     "text": [
      "Training: 100%|██████████| 79/79 [00:41<00:00,  1.90it/s]\n"
     ]
    },
    {
     "name": "stdout",
     "output_type": "stream",
     "text": [
      "Epoch completed: Average Loss = 0.0444\n",
      "Loss: 0.0444 | LR: 1.00e-04\n",
      "Checkpoint at epoch 100\n",
      "\n",
      "EPOCH 101/200\n"
     ]
    },
    {
     "name": "stderr",
     "output_type": "stream",
     "text": [
      "Training:   1%|▏         | 1/79 [00:00<00:40,  1.91it/s]"
     ]
    },
    {
     "name": "stdout",
     "output_type": "stream",
     "text": [
      "\n",
      "Batch  0: Loss = 0.0482\n"
     ]
    },
    {
     "name": "stderr",
     "output_type": "stream",
     "text": [
      "Training:  65%|██████▍   | 51/79 [00:27<00:14,  1.89it/s]"
     ]
    },
    {
     "name": "stdout",
     "output_type": "stream",
     "text": [
      "\n",
      "Batch 50: Loss = 0.0468\n"
     ]
    },
    {
     "name": "stderr",
     "output_type": "stream",
     "text": [
      "Training: 100%|██████████| 79/79 [00:41<00:00,  1.90it/s]\n"
     ]
    },
    {
     "name": "stdout",
     "output_type": "stream",
     "text": [
      "Epoch completed: Average Loss = 0.0439\n",
      "Loss: 0.0439 | LR: 1.00e-04\n",
      "\n",
      "EPOCH 102/200\n"
     ]
    },
    {
     "name": "stderr",
     "output_type": "stream",
     "text": [
      "Training:   1%|▏         | 1/79 [00:00<00:40,  1.92it/s]"
     ]
    },
    {
     "name": "stdout",
     "output_type": "stream",
     "text": [
      "\n",
      "Batch  0: Loss = 0.0440\n"
     ]
    },
    {
     "name": "stderr",
     "output_type": "stream",
     "text": [
      "Training:  65%|██████▍   | 51/79 [00:27<00:14,  1.89it/s]"
     ]
    },
    {
     "name": "stdout",
     "output_type": "stream",
     "text": [
      "\n",
      "Batch 50: Loss = 0.0419\n"
     ]
    },
    {
     "name": "stderr",
     "output_type": "stream",
     "text": [
      "Training: 100%|██████████| 79/79 [00:41<00:00,  1.90it/s]\n"
     ]
    },
    {
     "name": "stdout",
     "output_type": "stream",
     "text": [
      "Epoch completed: Average Loss = 0.0445\n",
      "Loss: 0.0445 | LR: 1.00e-04\n",
      "\n",
      "EPOCH 103/200\n"
     ]
    },
    {
     "name": "stderr",
     "output_type": "stream",
     "text": [
      "Training:   1%|▏         | 1/79 [00:00<00:40,  1.91it/s]"
     ]
    },
    {
     "name": "stdout",
     "output_type": "stream",
     "text": [
      "\n",
      "Batch  0: Loss = 0.0457\n"
     ]
    },
    {
     "name": "stderr",
     "output_type": "stream",
     "text": [
      "Training:  65%|██████▍   | 51/79 [00:27<00:14,  1.89it/s]"
     ]
    },
    {
     "name": "stdout",
     "output_type": "stream",
     "text": [
      "\n",
      "Batch 50: Loss = 0.0411\n"
     ]
    },
    {
     "name": "stderr",
     "output_type": "stream",
     "text": [
      "Training: 100%|██████████| 79/79 [00:41<00:00,  1.90it/s]\n"
     ]
    },
    {
     "name": "stdout",
     "output_type": "stream",
     "text": [
      "Epoch completed: Average Loss = 0.0438\n",
      "Loss: 0.0438 | LR: 1.00e-04\n",
      "\n",
      "EPOCH 104/200\n"
     ]
    },
    {
     "name": "stderr",
     "output_type": "stream",
     "text": [
      "Training:   1%|▏         | 1/79 [00:00<00:40,  1.91it/s]"
     ]
    },
    {
     "name": "stdout",
     "output_type": "stream",
     "text": [
      "\n",
      "Batch  0: Loss = 0.0412\n"
     ]
    },
    {
     "name": "stderr",
     "output_type": "stream",
     "text": [
      "Training:  65%|██████▍   | 51/79 [00:27<00:14,  1.89it/s]"
     ]
    },
    {
     "name": "stdout",
     "output_type": "stream",
     "text": [
      "\n",
      "Batch 50: Loss = 0.0432\n"
     ]
    },
    {
     "name": "stderr",
     "output_type": "stream",
     "text": [
      "Training: 100%|██████████| 79/79 [00:41<00:00,  1.90it/s]\n"
     ]
    },
    {
     "name": "stdout",
     "output_type": "stream",
     "text": [
      "Epoch completed: Average Loss = 0.0435\n",
      "Loss: 0.0435 | LR: 1.00e-04\n",
      "\n",
      "EPOCH 105/200\n"
     ]
    },
    {
     "name": "stderr",
     "output_type": "stream",
     "text": [
      "Training:   1%|▏         | 1/79 [00:00<00:40,  1.91it/s]"
     ]
    },
    {
     "name": "stdout",
     "output_type": "stream",
     "text": [
      "\n",
      "Batch  0: Loss = 0.0441\n"
     ]
    },
    {
     "name": "stderr",
     "output_type": "stream",
     "text": [
      "Training:  65%|██████▍   | 51/79 [00:27<00:14,  1.89it/s]"
     ]
    },
    {
     "name": "stdout",
     "output_type": "stream",
     "text": [
      "\n",
      "Batch 50: Loss = 0.0406\n"
     ]
    },
    {
     "name": "stderr",
     "output_type": "stream",
     "text": [
      "Training: 100%|██████████| 79/79 [00:41<00:00,  1.90it/s]\n"
     ]
    },
    {
     "name": "stdout",
     "output_type": "stream",
     "text": [
      "Epoch completed: Average Loss = 0.0436\n",
      "Loss: 0.0436 | LR: 1.00e-04\n",
      "\n",
      "EPOCH 106/200\n"
     ]
    },
    {
     "name": "stderr",
     "output_type": "stream",
     "text": [
      "Training:   1%|▏         | 1/79 [00:00<00:40,  1.91it/s]"
     ]
    },
    {
     "name": "stdout",
     "output_type": "stream",
     "text": [
      "\n",
      "Batch  0: Loss = 0.0420\n"
     ]
    },
    {
     "name": "stderr",
     "output_type": "stream",
     "text": [
      "Training:  65%|██████▍   | 51/79 [00:27<00:14,  1.89it/s]"
     ]
    },
    {
     "name": "stdout",
     "output_type": "stream",
     "text": [
      "\n",
      "Batch 50: Loss = 0.0471\n"
     ]
    },
    {
     "name": "stderr",
     "output_type": "stream",
     "text": [
      "Training: 100%|██████████| 79/79 [00:41<00:00,  1.90it/s]\n"
     ]
    },
    {
     "name": "stdout",
     "output_type": "stream",
     "text": [
      "Epoch completed: Average Loss = 0.0439\n",
      "Loss: 0.0439 | LR: 1.00e-04\n",
      "\n",
      "EPOCH 107/200\n"
     ]
    },
    {
     "name": "stderr",
     "output_type": "stream",
     "text": [
      "Training:   1%|▏         | 1/79 [00:00<00:40,  1.91it/s]"
     ]
    },
    {
     "name": "stdout",
     "output_type": "stream",
     "text": [
      "\n",
      "Batch  0: Loss = 0.0491\n"
     ]
    },
    {
     "name": "stderr",
     "output_type": "stream",
     "text": [
      "Training:  65%|██████▍   | 51/79 [00:27<00:14,  1.89it/s]"
     ]
    },
    {
     "name": "stdout",
     "output_type": "stream",
     "text": [
      "\n",
      "Batch 50: Loss = 0.0457\n"
     ]
    },
    {
     "name": "stderr",
     "output_type": "stream",
     "text": [
      "Training: 100%|██████████| 79/79 [00:41<00:00,  1.90it/s]\n"
     ]
    },
    {
     "name": "stdout",
     "output_type": "stream",
     "text": [
      "Epoch completed: Average Loss = 0.0439\n",
      "Loss: 0.0439 | LR: 1.00e-04\n",
      "\n",
      "EPOCH 108/200\n"
     ]
    },
    {
     "name": "stderr",
     "output_type": "stream",
     "text": [
      "Training:   1%|▏         | 1/79 [00:00<00:40,  1.90it/s]"
     ]
    },
    {
     "name": "stdout",
     "output_type": "stream",
     "text": [
      "\n",
      "Batch  0: Loss = 0.0407\n"
     ]
    },
    {
     "name": "stderr",
     "output_type": "stream",
     "text": [
      "Training:  65%|██████▍   | 51/79 [00:27<00:14,  1.88it/s]"
     ]
    },
    {
     "name": "stdout",
     "output_type": "stream",
     "text": [
      "\n",
      "Batch 50: Loss = 0.0433\n"
     ]
    },
    {
     "name": "stderr",
     "output_type": "stream",
     "text": [
      "Training: 100%|██████████| 79/79 [00:41<00:00,  1.90it/s]\n"
     ]
    },
    {
     "name": "stdout",
     "output_type": "stream",
     "text": [
      "Epoch completed: Average Loss = 0.0427\n",
      "Loss: 0.0427 | LR: 1.00e-04\n",
      "\n",
      "EPOCH 109/200\n"
     ]
    },
    {
     "name": "stderr",
     "output_type": "stream",
     "text": [
      "Training:   1%|▏         | 1/79 [00:00<00:40,  1.92it/s]"
     ]
    },
    {
     "name": "stdout",
     "output_type": "stream",
     "text": [
      "\n",
      "Batch  0: Loss = 0.0427\n"
     ]
    },
    {
     "name": "stderr",
     "output_type": "stream",
     "text": [
      "Training:  65%|██████▍   | 51/79 [00:27<00:14,  1.88it/s]"
     ]
    },
    {
     "name": "stdout",
     "output_type": "stream",
     "text": [
      "\n",
      "Batch 50: Loss = 0.0448\n"
     ]
    },
    {
     "name": "stderr",
     "output_type": "stream",
     "text": [
      "Training: 100%|██████████| 79/79 [00:41<00:00,  1.90it/s]\n"
     ]
    },
    {
     "name": "stdout",
     "output_type": "stream",
     "text": [
      "Epoch completed: Average Loss = 0.0432\n",
      "Loss: 0.0432 | LR: 1.00e-04\n",
      "\n",
      "EPOCH 110/200\n"
     ]
    },
    {
     "name": "stderr",
     "output_type": "stream",
     "text": [
      "Training:   1%|▏         | 1/79 [00:00<00:40,  1.91it/s]"
     ]
    },
    {
     "name": "stdout",
     "output_type": "stream",
     "text": [
      "\n",
      "Batch  0: Loss = 0.0423\n"
     ]
    },
    {
     "name": "stderr",
     "output_type": "stream",
     "text": [
      "Training:  65%|██████▍   | 51/79 [00:27<00:14,  1.88it/s]"
     ]
    },
    {
     "name": "stdout",
     "output_type": "stream",
     "text": [
      "\n",
      "Batch 50: Loss = 0.0407\n"
     ]
    },
    {
     "name": "stderr",
     "output_type": "stream",
     "text": [
      "Training: 100%|██████████| 79/79 [00:41<00:00,  1.90it/s]\n"
     ]
    },
    {
     "name": "stdout",
     "output_type": "stream",
     "text": [
      "Epoch completed: Average Loss = 0.0427\n",
      "Loss: 0.0427 | LR: 1.00e-04\n",
      "\n",
      "EPOCH 111/200\n"
     ]
    },
    {
     "name": "stderr",
     "output_type": "stream",
     "text": [
      "Training:   1%|▏         | 1/79 [00:00<00:40,  1.92it/s]"
     ]
    },
    {
     "name": "stdout",
     "output_type": "stream",
     "text": [
      "\n",
      "Batch  0: Loss = 0.0401\n"
     ]
    },
    {
     "name": "stderr",
     "output_type": "stream",
     "text": [
      "Training:  65%|██████▍   | 51/79 [00:27<00:14,  1.89it/s]"
     ]
    },
    {
     "name": "stdout",
     "output_type": "stream",
     "text": [
      "\n",
      "Batch 50: Loss = 0.0348\n"
     ]
    },
    {
     "name": "stderr",
     "output_type": "stream",
     "text": [
      "Training: 100%|██████████| 79/79 [00:41<00:00,  1.90it/s]\n"
     ]
    },
    {
     "name": "stdout",
     "output_type": "stream",
     "text": [
      "Epoch completed: Average Loss = 0.0434\n",
      "Loss: 0.0434 | LR: 1.00e-04\n",
      "\n",
      "EPOCH 112/200\n"
     ]
    },
    {
     "name": "stderr",
     "output_type": "stream",
     "text": [
      "Training:   1%|▏         | 1/79 [00:00<00:40,  1.91it/s]"
     ]
    },
    {
     "name": "stdout",
     "output_type": "stream",
     "text": [
      "\n",
      "Batch  0: Loss = 0.0490\n"
     ]
    },
    {
     "name": "stderr",
     "output_type": "stream",
     "text": [
      "Training:  65%|██████▍   | 51/79 [00:27<00:14,  1.88it/s]"
     ]
    },
    {
     "name": "stdout",
     "output_type": "stream",
     "text": [
      "\n",
      "Batch 50: Loss = 0.0412\n"
     ]
    },
    {
     "name": "stderr",
     "output_type": "stream",
     "text": [
      "Training: 100%|██████████| 79/79 [00:41<00:00,  1.90it/s]\n"
     ]
    },
    {
     "name": "stdout",
     "output_type": "stream",
     "text": [
      "Epoch completed: Average Loss = 0.0433\n",
      "Loss: 0.0433 | LR: 1.00e-04\n",
      "\n",
      "EPOCH 113/200\n"
     ]
    },
    {
     "name": "stderr",
     "output_type": "stream",
     "text": [
      "Training:   1%|▏         | 1/79 [00:00<00:41,  1.90it/s]"
     ]
    },
    {
     "name": "stdout",
     "output_type": "stream",
     "text": [
      "\n",
      "Batch  0: Loss = 0.0486\n"
     ]
    },
    {
     "name": "stderr",
     "output_type": "stream",
     "text": [
      "Training:  65%|██████▍   | 51/79 [00:27<00:14,  1.89it/s]"
     ]
    },
    {
     "name": "stdout",
     "output_type": "stream",
     "text": [
      "\n",
      "Batch 50: Loss = 0.0472\n"
     ]
    },
    {
     "name": "stderr",
     "output_type": "stream",
     "text": [
      "Training: 100%|██████████| 79/79 [00:41<00:00,  1.90it/s]\n"
     ]
    },
    {
     "name": "stdout",
     "output_type": "stream",
     "text": [
      "Epoch completed: Average Loss = 0.0435\n",
      "Loss: 0.0435 | LR: 1.00e-04\n",
      "\n",
      "EPOCH 114/200\n"
     ]
    },
    {
     "name": "stderr",
     "output_type": "stream",
     "text": [
      "Training:   1%|▏         | 1/79 [00:00<00:40,  1.90it/s]"
     ]
    },
    {
     "name": "stdout",
     "output_type": "stream",
     "text": [
      "\n",
      "Batch  0: Loss = 0.0451\n"
     ]
    },
    {
     "name": "stderr",
     "output_type": "stream",
     "text": [
      "Training:  65%|██████▍   | 51/79 [00:27<00:14,  1.88it/s]"
     ]
    },
    {
     "name": "stdout",
     "output_type": "stream",
     "text": [
      "\n",
      "Batch 50: Loss = 0.0471\n"
     ]
    },
    {
     "name": "stderr",
     "output_type": "stream",
     "text": [
      "Training: 100%|██████████| 79/79 [00:41<00:00,  1.90it/s]\n"
     ]
    },
    {
     "name": "stdout",
     "output_type": "stream",
     "text": [
      "Epoch completed: Average Loss = 0.0432\n",
      "Loss: 0.0432 | LR: 1.00e-04\n",
      "\n",
      "EPOCH 115/200\n"
     ]
    },
    {
     "name": "stderr",
     "output_type": "stream",
     "text": [
      "Training:   1%|▏         | 1/79 [00:00<00:40,  1.91it/s]"
     ]
    },
    {
     "name": "stdout",
     "output_type": "stream",
     "text": [
      "\n",
      "Batch  0: Loss = 0.0433\n"
     ]
    },
    {
     "name": "stderr",
     "output_type": "stream",
     "text": [
      "Training:  65%|██████▍   | 51/79 [00:27<00:14,  1.88it/s]"
     ]
    },
    {
     "name": "stdout",
     "output_type": "stream",
     "text": [
      "\n",
      "Batch 50: Loss = 0.0459\n"
     ]
    },
    {
     "name": "stderr",
     "output_type": "stream",
     "text": [
      "Training: 100%|██████████| 79/79 [00:41<00:00,  1.90it/s]\n"
     ]
    },
    {
     "name": "stdout",
     "output_type": "stream",
     "text": [
      "Epoch completed: Average Loss = 0.0433\n",
      "Loss: 0.0433 | LR: 1.00e-04\n",
      "\n",
      "EPOCH 116/200\n"
     ]
    },
    {
     "name": "stderr",
     "output_type": "stream",
     "text": [
      "Training:   1%|▏         | 1/79 [00:00<00:40,  1.91it/s]"
     ]
    },
    {
     "name": "stdout",
     "output_type": "stream",
     "text": [
      "\n",
      "Batch  0: Loss = 0.0376\n"
     ]
    },
    {
     "name": "stderr",
     "output_type": "stream",
     "text": [
      "Training:  65%|██████▍   | 51/79 [00:27<00:14,  1.88it/s]"
     ]
    },
    {
     "name": "stdout",
     "output_type": "stream",
     "text": [
      "\n",
      "Batch 50: Loss = 0.0481\n"
     ]
    },
    {
     "name": "stderr",
     "output_type": "stream",
     "text": [
      "Training: 100%|██████████| 79/79 [00:41<00:00,  1.90it/s]\n"
     ]
    },
    {
     "name": "stdout",
     "output_type": "stream",
     "text": [
      "Epoch completed: Average Loss = 0.0426\n",
      "Loss: 0.0426 | LR: 1.00e-04\n",
      "\n",
      "EPOCH 117/200\n"
     ]
    },
    {
     "name": "stderr",
     "output_type": "stream",
     "text": [
      "Training:   1%|▏         | 1/79 [00:00<00:40,  1.92it/s]"
     ]
    },
    {
     "name": "stdout",
     "output_type": "stream",
     "text": [
      "\n",
      "Batch  0: Loss = 0.0418\n"
     ]
    },
    {
     "name": "stderr",
     "output_type": "stream",
     "text": [
      "Training:  65%|██████▍   | 51/79 [00:27<00:14,  1.88it/s]"
     ]
    },
    {
     "name": "stdout",
     "output_type": "stream",
     "text": [
      "\n",
      "Batch 50: Loss = 0.0421\n"
     ]
    },
    {
     "name": "stderr",
     "output_type": "stream",
     "text": [
      "Training: 100%|██████████| 79/79 [00:41<00:00,  1.90it/s]\n"
     ]
    },
    {
     "name": "stdout",
     "output_type": "stream",
     "text": [
      "Epoch completed: Average Loss = 0.0429\n",
      "Loss: 0.0429 | LR: 1.00e-04\n",
      "\n",
      "EPOCH 118/200\n"
     ]
    },
    {
     "name": "stderr",
     "output_type": "stream",
     "text": [
      "Training:   1%|▏         | 1/79 [00:00<00:41,  1.90it/s]"
     ]
    },
    {
     "name": "stdout",
     "output_type": "stream",
     "text": [
      "\n",
      "Batch  0: Loss = 0.0467\n"
     ]
    },
    {
     "name": "stderr",
     "output_type": "stream",
     "text": [
      "Training:  65%|██████▍   | 51/79 [00:27<00:14,  1.88it/s]"
     ]
    },
    {
     "name": "stdout",
     "output_type": "stream",
     "text": [
      "\n",
      "Batch 50: Loss = 0.0457\n"
     ]
    },
    {
     "name": "stderr",
     "output_type": "stream",
     "text": [
      "Training: 100%|██████████| 79/79 [00:41<00:00,  1.90it/s]\n"
     ]
    },
    {
     "name": "stdout",
     "output_type": "stream",
     "text": [
      "Epoch completed: Average Loss = 0.0418\n",
      "Loss: 0.0418 | LR: 1.00e-04\n",
      "\n",
      "EPOCH 119/200\n"
     ]
    },
    {
     "name": "stderr",
     "output_type": "stream",
     "text": [
      "Training:   1%|▏         | 1/79 [00:00<00:41,  1.90it/s]"
     ]
    },
    {
     "name": "stdout",
     "output_type": "stream",
     "text": [
      "\n",
      "Batch  0: Loss = 0.0414\n"
     ]
    },
    {
     "name": "stderr",
     "output_type": "stream",
     "text": [
      "Training:  65%|██████▍   | 51/79 [00:27<00:14,  1.89it/s]"
     ]
    },
    {
     "name": "stdout",
     "output_type": "stream",
     "text": [
      "\n",
      "Batch 50: Loss = 0.0420\n"
     ]
    },
    {
     "name": "stderr",
     "output_type": "stream",
     "text": [
      "Training: 100%|██████████| 79/79 [00:41<00:00,  1.90it/s]\n"
     ]
    },
    {
     "name": "stdout",
     "output_type": "stream",
     "text": [
      "Epoch completed: Average Loss = 0.0424\n",
      "Loss: 0.0424 | LR: 1.00e-04\n",
      "\n",
      "EPOCH 120/200\n"
     ]
    },
    {
     "name": "stderr",
     "output_type": "stream",
     "text": [
      "Training:   1%|▏         | 1/79 [00:00<00:40,  1.90it/s]"
     ]
    },
    {
     "name": "stdout",
     "output_type": "stream",
     "text": [
      "\n",
      "Batch  0: Loss = 0.0395\n"
     ]
    },
    {
     "name": "stderr",
     "output_type": "stream",
     "text": [
      "Training:  65%|██████▍   | 51/79 [00:27<00:14,  1.89it/s]"
     ]
    },
    {
     "name": "stdout",
     "output_type": "stream",
     "text": [
      "\n",
      "Batch 50: Loss = 0.0485\n"
     ]
    },
    {
     "name": "stderr",
     "output_type": "stream",
     "text": [
      "Training: 100%|██████████| 79/79 [00:41<00:00,  1.90it/s]\n"
     ]
    },
    {
     "name": "stdout",
     "output_type": "stream",
     "text": [
      "Epoch completed: Average Loss = 0.0430\n",
      "Loss: 0.0430 | LR: 1.00e-04\n",
      "\n",
      "EPOCH 121/200\n"
     ]
    },
    {
     "name": "stderr",
     "output_type": "stream",
     "text": [
      "Training:   1%|▏         | 1/79 [00:00<00:40,  1.91it/s]"
     ]
    },
    {
     "name": "stdout",
     "output_type": "stream",
     "text": [
      "\n",
      "Batch  0: Loss = 0.0544\n"
     ]
    },
    {
     "name": "stderr",
     "output_type": "stream",
     "text": [
      "Training:  65%|██████▍   | 51/79 [00:27<00:14,  1.89it/s]"
     ]
    },
    {
     "name": "stdout",
     "output_type": "stream",
     "text": [
      "\n",
      "Batch 50: Loss = 0.0412\n"
     ]
    },
    {
     "name": "stderr",
     "output_type": "stream",
     "text": [
      "Training: 100%|██████████| 79/79 [00:41<00:00,  1.90it/s]\n"
     ]
    },
    {
     "name": "stdout",
     "output_type": "stream",
     "text": [
      "Epoch completed: Average Loss = 0.0421\n",
      "Loss: 0.0421 | LR: 1.00e-04\n",
      "\n",
      "EPOCH 122/200\n"
     ]
    },
    {
     "name": "stderr",
     "output_type": "stream",
     "text": [
      "Training:   1%|▏         | 1/79 [00:00<00:40,  1.92it/s]"
     ]
    },
    {
     "name": "stdout",
     "output_type": "stream",
     "text": [
      "\n",
      "Batch  0: Loss = 0.0405\n"
     ]
    },
    {
     "name": "stderr",
     "output_type": "stream",
     "text": [
      "Training:  65%|██████▍   | 51/79 [00:27<00:14,  1.88it/s]"
     ]
    },
    {
     "name": "stdout",
     "output_type": "stream",
     "text": [
      "\n",
      "Batch 50: Loss = 0.0417\n"
     ]
    },
    {
     "name": "stderr",
     "output_type": "stream",
     "text": [
      "Training: 100%|██████████| 79/79 [00:41<00:00,  1.90it/s]\n"
     ]
    },
    {
     "name": "stdout",
     "output_type": "stream",
     "text": [
      "Epoch completed: Average Loss = 0.0414\n",
      "Loss: 0.0414 | LR: 1.00e-04\n",
      "\n",
      "EPOCH 123/200\n"
     ]
    },
    {
     "name": "stderr",
     "output_type": "stream",
     "text": [
      "Training:   1%|▏         | 1/79 [00:00<00:40,  1.92it/s]"
     ]
    },
    {
     "name": "stdout",
     "output_type": "stream",
     "text": [
      "\n",
      "Batch  0: Loss = 0.0439\n"
     ]
    },
    {
     "name": "stderr",
     "output_type": "stream",
     "text": [
      "Training:  65%|██████▍   | 51/79 [00:27<00:14,  1.88it/s]"
     ]
    },
    {
     "name": "stdout",
     "output_type": "stream",
     "text": [
      "\n",
      "Batch 50: Loss = 0.0415\n"
     ]
    },
    {
     "name": "stderr",
     "output_type": "stream",
     "text": [
      "Training: 100%|██████████| 79/79 [00:41<00:00,  1.90it/s]\n"
     ]
    },
    {
     "name": "stdout",
     "output_type": "stream",
     "text": [
      "Epoch completed: Average Loss = 0.0422\n",
      "Loss: 0.0422 | LR: 1.00e-04\n",
      "\n",
      "EPOCH 124/200\n"
     ]
    },
    {
     "name": "stderr",
     "output_type": "stream",
     "text": [
      "Training:   1%|▏         | 1/79 [00:00<00:40,  1.91it/s]"
     ]
    },
    {
     "name": "stdout",
     "output_type": "stream",
     "text": [
      "\n",
      "Batch  0: Loss = 0.0424\n"
     ]
    },
    {
     "name": "stderr",
     "output_type": "stream",
     "text": [
      "Training:  65%|██████▍   | 51/79 [00:27<00:14,  1.88it/s]"
     ]
    },
    {
     "name": "stdout",
     "output_type": "stream",
     "text": [
      "\n",
      "Batch 50: Loss = 0.0401\n"
     ]
    },
    {
     "name": "stderr",
     "output_type": "stream",
     "text": [
      "Training: 100%|██████████| 79/79 [00:41<00:00,  1.90it/s]\n"
     ]
    },
    {
     "name": "stdout",
     "output_type": "stream",
     "text": [
      "Epoch completed: Average Loss = 0.0411\n",
      "Loss: 0.0411 | LR: 1.00e-04\n",
      "\n",
      "EPOCH 125/200\n"
     ]
    },
    {
     "name": "stderr",
     "output_type": "stream",
     "text": [
      "Training:   1%|▏         | 1/79 [00:00<00:40,  1.91it/s]"
     ]
    },
    {
     "name": "stdout",
     "output_type": "stream",
     "text": [
      "\n",
      "Batch  0: Loss = 0.0457\n"
     ]
    },
    {
     "name": "stderr",
     "output_type": "stream",
     "text": [
      "Training:  65%|██████▍   | 51/79 [00:27<00:14,  1.89it/s]"
     ]
    },
    {
     "name": "stdout",
     "output_type": "stream",
     "text": [
      "\n",
      "Batch 50: Loss = 0.0437\n"
     ]
    },
    {
     "name": "stderr",
     "output_type": "stream",
     "text": [
      "Training: 100%|██████████| 79/79 [00:41<00:00,  1.90it/s]\n"
     ]
    },
    {
     "name": "stdout",
     "output_type": "stream",
     "text": [
      "Epoch completed: Average Loss = 0.0417\n",
      "Loss: 0.0417 | LR: 1.00e-04\n",
      "\n",
      "EPOCH 126/200\n"
     ]
    },
    {
     "name": "stderr",
     "output_type": "stream",
     "text": [
      "Training:   1%|▏         | 1/79 [00:00<00:41,  1.90it/s]"
     ]
    },
    {
     "name": "stdout",
     "output_type": "stream",
     "text": [
      "\n",
      "Batch  0: Loss = 0.0414\n"
     ]
    },
    {
     "name": "stderr",
     "output_type": "stream",
     "text": [
      "Training:  65%|██████▍   | 51/79 [00:27<00:14,  1.89it/s]"
     ]
    },
    {
     "name": "stdout",
     "output_type": "stream",
     "text": [
      "\n",
      "Batch 50: Loss = 0.0454\n"
     ]
    },
    {
     "name": "stderr",
     "output_type": "stream",
     "text": [
      "Training: 100%|██████████| 79/79 [00:41<00:00,  1.90it/s]\n"
     ]
    },
    {
     "name": "stdout",
     "output_type": "stream",
     "text": [
      "Epoch completed: Average Loss = 0.0422\n",
      "Loss: 0.0422 | LR: 1.00e-04\n",
      "\n",
      "EPOCH 127/200\n"
     ]
    },
    {
     "name": "stderr",
     "output_type": "stream",
     "text": [
      "Training:   1%|▏         | 1/79 [00:00<00:40,  1.92it/s]"
     ]
    },
    {
     "name": "stdout",
     "output_type": "stream",
     "text": [
      "\n",
      "Batch  0: Loss = 0.0433\n"
     ]
    },
    {
     "name": "stderr",
     "output_type": "stream",
     "text": [
      "Training:  65%|██████▍   | 51/79 [00:27<00:14,  1.88it/s]"
     ]
    },
    {
     "name": "stdout",
     "output_type": "stream",
     "text": [
      "\n",
      "Batch 50: Loss = 0.0427\n"
     ]
    },
    {
     "name": "stderr",
     "output_type": "stream",
     "text": [
      "Training: 100%|██████████| 79/79 [00:41<00:00,  1.90it/s]\n"
     ]
    },
    {
     "name": "stdout",
     "output_type": "stream",
     "text": [
      "Epoch completed: Average Loss = 0.0413\n",
      "Loss: 0.0413 | LR: 1.00e-04\n",
      "\n",
      "EPOCH 128/200\n"
     ]
    },
    {
     "name": "stderr",
     "output_type": "stream",
     "text": [
      "Training:   1%|▏         | 1/79 [00:00<00:41,  1.90it/s]"
     ]
    },
    {
     "name": "stdout",
     "output_type": "stream",
     "text": [
      "\n",
      "Batch  0: Loss = 0.0443\n"
     ]
    },
    {
     "name": "stderr",
     "output_type": "stream",
     "text": [
      "Training:  65%|██████▍   | 51/79 [00:27<00:14,  1.88it/s]"
     ]
    },
    {
     "name": "stdout",
     "output_type": "stream",
     "text": [
      "\n",
      "Batch 50: Loss = 0.0427\n"
     ]
    },
    {
     "name": "stderr",
     "output_type": "stream",
     "text": [
      "Training: 100%|██████████| 79/79 [00:41<00:00,  1.90it/s]\n"
     ]
    },
    {
     "name": "stdout",
     "output_type": "stream",
     "text": [
      "Epoch completed: Average Loss = 0.0415\n",
      "Loss: 0.0415 | LR: 1.00e-04\n",
      "\n",
      "EPOCH 129/200\n"
     ]
    },
    {
     "name": "stderr",
     "output_type": "stream",
     "text": [
      "Training:   1%|▏         | 1/79 [00:00<00:41,  1.90it/s]"
     ]
    },
    {
     "name": "stdout",
     "output_type": "stream",
     "text": [
      "\n",
      "Batch  0: Loss = 0.0420\n"
     ]
    },
    {
     "name": "stderr",
     "output_type": "stream",
     "text": [
      "Training:  65%|██████▍   | 51/79 [00:27<00:14,  1.89it/s]"
     ]
    },
    {
     "name": "stdout",
     "output_type": "stream",
     "text": [
      "\n",
      "Batch 50: Loss = 0.0391\n"
     ]
    },
    {
     "name": "stderr",
     "output_type": "stream",
     "text": [
      "Training: 100%|██████████| 79/79 [00:41<00:00,  1.90it/s]\n"
     ]
    },
    {
     "name": "stdout",
     "output_type": "stream",
     "text": [
      "Epoch completed: Average Loss = 0.0409\n",
      "Loss: 0.0409 | LR: 1.00e-04\n",
      "\n",
      "EPOCH 130/200\n"
     ]
    },
    {
     "name": "stderr",
     "output_type": "stream",
     "text": [
      "Training:   1%|▏         | 1/79 [00:00<00:40,  1.90it/s]"
     ]
    },
    {
     "name": "stdout",
     "output_type": "stream",
     "text": [
      "\n",
      "Batch  0: Loss = 0.0415\n"
     ]
    },
    {
     "name": "stderr",
     "output_type": "stream",
     "text": [
      "Training:  65%|██████▍   | 51/79 [00:27<00:14,  1.87it/s]"
     ]
    },
    {
     "name": "stdout",
     "output_type": "stream",
     "text": [
      "\n",
      "Batch 50: Loss = 0.0408\n"
     ]
    },
    {
     "name": "stderr",
     "output_type": "stream",
     "text": [
      "Training: 100%|██████████| 79/79 [00:41<00:00,  1.90it/s]\n"
     ]
    },
    {
     "name": "stdout",
     "output_type": "stream",
     "text": [
      "Epoch completed: Average Loss = 0.0416\n",
      "Loss: 0.0416 | LR: 1.00e-04\n",
      "\n",
      "EPOCH 131/200\n"
     ]
    },
    {
     "name": "stderr",
     "output_type": "stream",
     "text": [
      "Training:   1%|▏         | 1/79 [00:00<00:40,  1.91it/s]"
     ]
    },
    {
     "name": "stdout",
     "output_type": "stream",
     "text": [
      "\n",
      "Batch  0: Loss = 0.0462\n"
     ]
    },
    {
     "name": "stderr",
     "output_type": "stream",
     "text": [
      "Training:  65%|██████▍   | 51/79 [00:27<00:14,  1.89it/s]"
     ]
    },
    {
     "name": "stdout",
     "output_type": "stream",
     "text": [
      "\n",
      "Batch 50: Loss = 0.0442\n"
     ]
    },
    {
     "name": "stderr",
     "output_type": "stream",
     "text": [
      "Training: 100%|██████████| 79/79 [00:41<00:00,  1.90it/s]\n"
     ]
    },
    {
     "name": "stdout",
     "output_type": "stream",
     "text": [
      "Epoch completed: Average Loss = 0.0410\n",
      "Loss: 0.0410 | LR: 1.00e-04\n",
      "\n",
      "EPOCH 132/200\n"
     ]
    },
    {
     "name": "stderr",
     "output_type": "stream",
     "text": [
      "Training:   1%|▏         | 1/79 [00:00<00:40,  1.92it/s]"
     ]
    },
    {
     "name": "stdout",
     "output_type": "stream",
     "text": [
      "\n",
      "Batch  0: Loss = 0.0417\n"
     ]
    },
    {
     "name": "stderr",
     "output_type": "stream",
     "text": [
      "Training:  65%|██████▍   | 51/79 [00:27<00:14,  1.88it/s]"
     ]
    },
    {
     "name": "stdout",
     "output_type": "stream",
     "text": [
      "\n",
      "Batch 50: Loss = 0.0395\n"
     ]
    },
    {
     "name": "stderr",
     "output_type": "stream",
     "text": [
      "Training: 100%|██████████| 79/79 [00:41<00:00,  1.90it/s]\n"
     ]
    },
    {
     "name": "stdout",
     "output_type": "stream",
     "text": [
      "Epoch completed: Average Loss = 0.0410\n",
      "Loss: 0.0410 | LR: 1.00e-04\n",
      "\n",
      "EPOCH 133/200\n"
     ]
    },
    {
     "name": "stderr",
     "output_type": "stream",
     "text": [
      "Training:   1%|▏         | 1/79 [00:00<00:40,  1.91it/s]"
     ]
    },
    {
     "name": "stdout",
     "output_type": "stream",
     "text": [
      "\n",
      "Batch  0: Loss = 0.0399\n"
     ]
    },
    {
     "name": "stderr",
     "output_type": "stream",
     "text": [
      "Training:  65%|██████▍   | 51/79 [00:27<00:14,  1.88it/s]"
     ]
    },
    {
     "name": "stdout",
     "output_type": "stream",
     "text": [
      "\n",
      "Batch 50: Loss = 0.0353\n"
     ]
    },
    {
     "name": "stderr",
     "output_type": "stream",
     "text": [
      "Training: 100%|██████████| 79/79 [00:41<00:00,  1.90it/s]\n"
     ]
    },
    {
     "name": "stdout",
     "output_type": "stream",
     "text": [
      "Epoch completed: Average Loss = 0.0412\n",
      "Loss: 0.0412 | LR: 1.00e-04\n",
      "\n",
      "EPOCH 134/200\n"
     ]
    },
    {
     "name": "stderr",
     "output_type": "stream",
     "text": [
      "Training:   1%|▏         | 1/79 [00:00<00:40,  1.91it/s]"
     ]
    },
    {
     "name": "stdout",
     "output_type": "stream",
     "text": [
      "\n",
      "Batch  0: Loss = 0.0397\n"
     ]
    },
    {
     "name": "stderr",
     "output_type": "stream",
     "text": [
      "Training:  65%|██████▍   | 51/79 [00:27<00:14,  1.89it/s]"
     ]
    },
    {
     "name": "stdout",
     "output_type": "stream",
     "text": [
      "\n",
      "Batch 50: Loss = 0.0365\n"
     ]
    },
    {
     "name": "stderr",
     "output_type": "stream",
     "text": [
      "Training: 100%|██████████| 79/79 [00:41<00:00,  1.90it/s]\n"
     ]
    },
    {
     "name": "stdout",
     "output_type": "stream",
     "text": [
      "Epoch completed: Average Loss = 0.0413\n",
      "Loss: 0.0413 | LR: 1.00e-04\n",
      "\n",
      "EPOCH 135/200\n"
     ]
    },
    {
     "name": "stderr",
     "output_type": "stream",
     "text": [
      "Training:   1%|▏         | 1/79 [00:00<00:40,  1.92it/s]"
     ]
    },
    {
     "name": "stdout",
     "output_type": "stream",
     "text": [
      "\n",
      "Batch  0: Loss = 0.0401\n"
     ]
    },
    {
     "name": "stderr",
     "output_type": "stream",
     "text": [
      "Training:  65%|██████▍   | 51/79 [00:27<00:14,  1.89it/s]"
     ]
    },
    {
     "name": "stdout",
     "output_type": "stream",
     "text": [
      "\n",
      "Batch 50: Loss = 0.0339\n"
     ]
    },
    {
     "name": "stderr",
     "output_type": "stream",
     "text": [
      "Training: 100%|██████████| 79/79 [00:41<00:00,  1.90it/s]\n"
     ]
    },
    {
     "name": "stdout",
     "output_type": "stream",
     "text": [
      "Epoch completed: Average Loss = 0.0407\n",
      "Loss: 0.0407 | LR: 1.00e-04\n",
      "\n",
      "EPOCH 136/200\n"
     ]
    },
    {
     "name": "stderr",
     "output_type": "stream",
     "text": [
      "Training:   1%|▏         | 1/79 [00:00<00:40,  1.92it/s]"
     ]
    },
    {
     "name": "stdout",
     "output_type": "stream",
     "text": [
      "\n",
      "Batch  0: Loss = 0.0412\n"
     ]
    },
    {
     "name": "stderr",
     "output_type": "stream",
     "text": [
      "Training:  65%|██████▍   | 51/79 [00:27<00:14,  1.89it/s]"
     ]
    },
    {
     "name": "stdout",
     "output_type": "stream",
     "text": [
      "\n",
      "Batch 50: Loss = 0.0447\n"
     ]
    },
    {
     "name": "stderr",
     "output_type": "stream",
     "text": [
      "Training: 100%|██████████| 79/79 [00:41<00:00,  1.90it/s]\n"
     ]
    },
    {
     "name": "stdout",
     "output_type": "stream",
     "text": [
      "Epoch completed: Average Loss = 0.0410\n",
      "Loss: 0.0410 | LR: 1.00e-04\n",
      "\n",
      "EPOCH 137/200\n"
     ]
    },
    {
     "name": "stderr",
     "output_type": "stream",
     "text": [
      "Training:   1%|▏         | 1/79 [00:00<00:40,  1.92it/s]"
     ]
    },
    {
     "name": "stdout",
     "output_type": "stream",
     "text": [
      "\n",
      "Batch  0: Loss = 0.0362\n"
     ]
    },
    {
     "name": "stderr",
     "output_type": "stream",
     "text": [
      "Training:  65%|██████▍   | 51/79 [00:27<00:14,  1.89it/s]"
     ]
    },
    {
     "name": "stdout",
     "output_type": "stream",
     "text": [
      "\n",
      "Batch 50: Loss = 0.0412\n"
     ]
    },
    {
     "name": "stderr",
     "output_type": "stream",
     "text": [
      "Training: 100%|██████████| 79/79 [00:41<00:00,  1.90it/s]\n"
     ]
    },
    {
     "name": "stdout",
     "output_type": "stream",
     "text": [
      "Epoch completed: Average Loss = 0.0398\n",
      "Loss: 0.0398 | LR: 1.00e-04\n",
      "\n",
      "EPOCH 138/200\n"
     ]
    },
    {
     "name": "stderr",
     "output_type": "stream",
     "text": [
      "Training:   1%|▏         | 1/79 [00:00<00:40,  1.91it/s]"
     ]
    },
    {
     "name": "stdout",
     "output_type": "stream",
     "text": [
      "\n",
      "Batch  0: Loss = 0.0398\n"
     ]
    },
    {
     "name": "stderr",
     "output_type": "stream",
     "text": [
      "Training:  65%|██████▍   | 51/79 [00:27<00:14,  1.88it/s]"
     ]
    },
    {
     "name": "stdout",
     "output_type": "stream",
     "text": [
      "\n",
      "Batch 50: Loss = 0.0396\n"
     ]
    },
    {
     "name": "stderr",
     "output_type": "stream",
     "text": [
      "Training: 100%|██████████| 79/79 [00:41<00:00,  1.90it/s]\n"
     ]
    },
    {
     "name": "stdout",
     "output_type": "stream",
     "text": [
      "Epoch completed: Average Loss = 0.0397\n",
      "Loss: 0.0397 | LR: 1.00e-04\n",
      "\n",
      "EPOCH 139/200\n"
     ]
    },
    {
     "name": "stderr",
     "output_type": "stream",
     "text": [
      "Training:   1%|▏         | 1/79 [00:00<00:40,  1.91it/s]"
     ]
    },
    {
     "name": "stdout",
     "output_type": "stream",
     "text": [
      "\n",
      "Batch  0: Loss = 0.0391\n"
     ]
    },
    {
     "name": "stderr",
     "output_type": "stream",
     "text": [
      "Training:  65%|██████▍   | 51/79 [00:27<00:14,  1.88it/s]"
     ]
    },
    {
     "name": "stdout",
     "output_type": "stream",
     "text": [
      "\n",
      "Batch 50: Loss = 0.0414\n"
     ]
    },
    {
     "name": "stderr",
     "output_type": "stream",
     "text": [
      "Training: 100%|██████████| 79/79 [00:41<00:00,  1.90it/s]\n"
     ]
    },
    {
     "name": "stdout",
     "output_type": "stream",
     "text": [
      "Epoch completed: Average Loss = 0.0418\n",
      "Loss: 0.0418 | LR: 1.00e-04\n",
      "\n",
      "EPOCH 140/200\n"
     ]
    },
    {
     "name": "stderr",
     "output_type": "stream",
     "text": [
      "Training:   1%|▏         | 1/79 [00:00<00:40,  1.91it/s]"
     ]
    },
    {
     "name": "stdout",
     "output_type": "stream",
     "text": [
      "\n",
      "Batch  0: Loss = 0.0384\n"
     ]
    },
    {
     "name": "stderr",
     "output_type": "stream",
     "text": [
      "Training:  65%|██████▍   | 51/79 [00:27<00:14,  1.88it/s]"
     ]
    },
    {
     "name": "stdout",
     "output_type": "stream",
     "text": [
      "\n",
      "Batch 50: Loss = 0.0342\n"
     ]
    },
    {
     "name": "stderr",
     "output_type": "stream",
     "text": [
      "Training: 100%|██████████| 79/79 [00:41<00:00,  1.90it/s]\n"
     ]
    },
    {
     "name": "stdout",
     "output_type": "stream",
     "text": [
      "Epoch completed: Average Loss = 0.0403\n",
      "Loss: 0.0403 | LR: 1.00e-04\n",
      "\n",
      "EPOCH 141/200\n"
     ]
    },
    {
     "name": "stderr",
     "output_type": "stream",
     "text": [
      "Training:   1%|▏         | 1/79 [00:00<00:40,  1.91it/s]"
     ]
    },
    {
     "name": "stdout",
     "output_type": "stream",
     "text": [
      "\n",
      "Batch  0: Loss = 0.0407\n"
     ]
    },
    {
     "name": "stderr",
     "output_type": "stream",
     "text": [
      "Training:  65%|██████▍   | 51/79 [00:27<00:14,  1.88it/s]"
     ]
    },
    {
     "name": "stdout",
     "output_type": "stream",
     "text": [
      "\n",
      "Batch 50: Loss = 0.0406\n"
     ]
    },
    {
     "name": "stderr",
     "output_type": "stream",
     "text": [
      "Training: 100%|██████████| 79/79 [00:41<00:00,  1.90it/s]\n"
     ]
    },
    {
     "name": "stdout",
     "output_type": "stream",
     "text": [
      "Epoch completed: Average Loss = 0.0411\n",
      "Loss: 0.0411 | LR: 1.00e-04\n",
      "\n",
      "EPOCH 142/200\n"
     ]
    },
    {
     "name": "stderr",
     "output_type": "stream",
     "text": [
      "Training:   1%|▏         | 1/79 [00:00<00:40,  1.92it/s]"
     ]
    },
    {
     "name": "stdout",
     "output_type": "stream",
     "text": [
      "\n",
      "Batch  0: Loss = 0.0373\n"
     ]
    },
    {
     "name": "stderr",
     "output_type": "stream",
     "text": [
      "Training:  65%|██████▍   | 51/79 [00:27<00:14,  1.89it/s]"
     ]
    },
    {
     "name": "stdout",
     "output_type": "stream",
     "text": [
      "\n",
      "Batch 50: Loss = 0.0398\n"
     ]
    },
    {
     "name": "stderr",
     "output_type": "stream",
     "text": [
      "Training: 100%|██████████| 79/79 [00:41<00:00,  1.90it/s]\n"
     ]
    },
    {
     "name": "stdout",
     "output_type": "stream",
     "text": [
      "Epoch completed: Average Loss = 0.0401\n",
      "Loss: 0.0401 | LR: 1.00e-04\n",
      "\n",
      "EPOCH 143/200\n"
     ]
    },
    {
     "name": "stderr",
     "output_type": "stream",
     "text": [
      "Training:   1%|▏         | 1/79 [00:00<00:40,  1.91it/s]"
     ]
    },
    {
     "name": "stdout",
     "output_type": "stream",
     "text": [
      "\n",
      "Batch  0: Loss = 0.0417\n"
     ]
    },
    {
     "name": "stderr",
     "output_type": "stream",
     "text": [
      "Training:  65%|██████▍   | 51/79 [00:27<00:14,  1.88it/s]"
     ]
    },
    {
     "name": "stdout",
     "output_type": "stream",
     "text": [
      "\n",
      "Batch 50: Loss = 0.0345\n"
     ]
    },
    {
     "name": "stderr",
     "output_type": "stream",
     "text": [
      "Training: 100%|██████████| 79/79 [00:41<00:00,  1.90it/s]\n"
     ]
    },
    {
     "name": "stdout",
     "output_type": "stream",
     "text": [
      "Epoch completed: Average Loss = 0.0404\n",
      "Loss: 0.0404 | LR: 1.00e-04\n",
      "\n",
      "EPOCH 144/200\n"
     ]
    },
    {
     "name": "stderr",
     "output_type": "stream",
     "text": [
      "Training:   1%|▏         | 1/79 [00:00<00:40,  1.91it/s]"
     ]
    },
    {
     "name": "stdout",
     "output_type": "stream",
     "text": [
      "\n",
      "Batch  0: Loss = 0.0487\n"
     ]
    },
    {
     "name": "stderr",
     "output_type": "stream",
     "text": [
      "Training:  65%|██████▍   | 51/79 [00:27<00:14,  1.88it/s]"
     ]
    },
    {
     "name": "stdout",
     "output_type": "stream",
     "text": [
      "\n",
      "Batch 50: Loss = 0.0397\n"
     ]
    },
    {
     "name": "stderr",
     "output_type": "stream",
     "text": [
      "Training: 100%|██████████| 79/79 [00:41<00:00,  1.90it/s]\n"
     ]
    },
    {
     "name": "stdout",
     "output_type": "stream",
     "text": [
      "Epoch completed: Average Loss = 0.0403\n",
      "Loss: 0.0403 | LR: 1.00e-04\n",
      "\n",
      "EPOCH 145/200\n"
     ]
    },
    {
     "name": "stderr",
     "output_type": "stream",
     "text": [
      "Training:   1%|▏         | 1/79 [00:00<00:40,  1.91it/s]"
     ]
    },
    {
     "name": "stdout",
     "output_type": "stream",
     "text": [
      "\n",
      "Batch  0: Loss = 0.0408\n"
     ]
    },
    {
     "name": "stderr",
     "output_type": "stream",
     "text": [
      "Training:  65%|██████▍   | 51/79 [00:27<00:14,  1.89it/s]"
     ]
    },
    {
     "name": "stdout",
     "output_type": "stream",
     "text": [
      "\n",
      "Batch 50: Loss = 0.0419\n"
     ]
    },
    {
     "name": "stderr",
     "output_type": "stream",
     "text": [
      "Training: 100%|██████████| 79/79 [00:41<00:00,  1.90it/s]\n"
     ]
    },
    {
     "name": "stdout",
     "output_type": "stream",
     "text": [
      "Epoch completed: Average Loss = 0.0399\n",
      "Loss: 0.0399 | LR: 1.00e-04\n",
      "\n",
      "EPOCH 146/200\n"
     ]
    },
    {
     "name": "stderr",
     "output_type": "stream",
     "text": [
      "Training:   1%|▏         | 1/79 [00:00<00:40,  1.92it/s]"
     ]
    },
    {
     "name": "stdout",
     "output_type": "stream",
     "text": [
      "\n",
      "Batch  0: Loss = 0.0454\n"
     ]
    },
    {
     "name": "stderr",
     "output_type": "stream",
     "text": [
      "Training:  65%|██████▍   | 51/79 [00:27<00:14,  1.88it/s]"
     ]
    },
    {
     "name": "stdout",
     "output_type": "stream",
     "text": [
      "\n",
      "Batch 50: Loss = 0.0406\n"
     ]
    },
    {
     "name": "stderr",
     "output_type": "stream",
     "text": [
      "Training: 100%|██████████| 79/79 [00:41<00:00,  1.90it/s]\n"
     ]
    },
    {
     "name": "stdout",
     "output_type": "stream",
     "text": [
      "Epoch completed: Average Loss = 0.0402\n",
      "Loss: 0.0402 | LR: 1.00e-04\n",
      "\n",
      "EPOCH 147/200\n"
     ]
    },
    {
     "name": "stderr",
     "output_type": "stream",
     "text": [
      "Training:   1%|▏         | 1/79 [00:00<00:40,  1.92it/s]"
     ]
    },
    {
     "name": "stdout",
     "output_type": "stream",
     "text": [
      "\n",
      "Batch  0: Loss = 0.0334\n"
     ]
    },
    {
     "name": "stderr",
     "output_type": "stream",
     "text": [
      "Training:  65%|██████▍   | 51/79 [00:27<00:14,  1.88it/s]"
     ]
    },
    {
     "name": "stdout",
     "output_type": "stream",
     "text": [
      "\n",
      "Batch 50: Loss = 0.0395\n"
     ]
    },
    {
     "name": "stderr",
     "output_type": "stream",
     "text": [
      "Training: 100%|██████████| 79/79 [00:41<00:00,  1.90it/s]\n"
     ]
    },
    {
     "name": "stdout",
     "output_type": "stream",
     "text": [
      "Epoch completed: Average Loss = 0.0401\n",
      "Loss: 0.0401 | LR: 1.00e-04\n",
      "\n",
      "EPOCH 148/200\n"
     ]
    },
    {
     "name": "stderr",
     "output_type": "stream",
     "text": [
      "Training:   1%|▏         | 1/79 [00:00<00:40,  1.91it/s]"
     ]
    },
    {
     "name": "stdout",
     "output_type": "stream",
     "text": [
      "\n",
      "Batch  0: Loss = 0.0402\n"
     ]
    },
    {
     "name": "stderr",
     "output_type": "stream",
     "text": [
      "Training:  65%|██████▍   | 51/79 [00:27<00:14,  1.89it/s]"
     ]
    },
    {
     "name": "stdout",
     "output_type": "stream",
     "text": [
      "\n",
      "Batch 50: Loss = 0.0379\n"
     ]
    },
    {
     "name": "stderr",
     "output_type": "stream",
     "text": [
      "Training: 100%|██████████| 79/79 [00:41<00:00,  1.90it/s]\n"
     ]
    },
    {
     "name": "stdout",
     "output_type": "stream",
     "text": [
      "Epoch completed: Average Loss = 0.0390\n",
      "Loss: 0.0390 | LR: 1.00e-04\n",
      "\n",
      "EPOCH 149/200\n"
     ]
    },
    {
     "name": "stderr",
     "output_type": "stream",
     "text": [
      "Training:   1%|▏         | 1/79 [00:00<00:41,  1.90it/s]"
     ]
    },
    {
     "name": "stdout",
     "output_type": "stream",
     "text": [
      "\n",
      "Batch  0: Loss = 0.0384\n"
     ]
    },
    {
     "name": "stderr",
     "output_type": "stream",
     "text": [
      "Training:  65%|██████▍   | 51/79 [00:27<00:14,  1.88it/s]"
     ]
    },
    {
     "name": "stdout",
     "output_type": "stream",
     "text": [
      "\n",
      "Batch 50: Loss = 0.0451\n"
     ]
    },
    {
     "name": "stderr",
     "output_type": "stream",
     "text": [
      "Training: 100%|██████████| 79/79 [00:41<00:00,  1.90it/s]\n"
     ]
    },
    {
     "name": "stdout",
     "output_type": "stream",
     "text": [
      "Epoch completed: Average Loss = 0.0398\n",
      "Loss: 0.0398 | LR: 1.00e-04\n",
      "\n",
      "EPOCH 150/200\n"
     ]
    },
    {
     "name": "stderr",
     "output_type": "stream",
     "text": [
      "Training:   1%|▏         | 1/79 [00:00<00:41,  1.90it/s]"
     ]
    },
    {
     "name": "stdout",
     "output_type": "stream",
     "text": [
      "\n",
      "Batch  0: Loss = 0.0389\n"
     ]
    },
    {
     "name": "stderr",
     "output_type": "stream",
     "text": [
      "Training:  65%|██████▍   | 51/79 [00:27<00:14,  1.88it/s]"
     ]
    },
    {
     "name": "stdout",
     "output_type": "stream",
     "text": [
      "\n",
      "Batch 50: Loss = 0.0387\n"
     ]
    },
    {
     "name": "stderr",
     "output_type": "stream",
     "text": [
      "Training: 100%|██████████| 79/79 [00:41<00:00,  1.90it/s]\n"
     ]
    },
    {
     "name": "stdout",
     "output_type": "stream",
     "text": [
      "Epoch completed: Average Loss = 0.0396\n",
      "Loss: 0.0396 | LR: 1.00e-04\n",
      "Checkpoint at epoch 150\n",
      "\n",
      "EPOCH 151/200\n"
     ]
    },
    {
     "name": "stderr",
     "output_type": "stream",
     "text": [
      "Training:   1%|▏         | 1/79 [00:00<00:40,  1.92it/s]"
     ]
    },
    {
     "name": "stdout",
     "output_type": "stream",
     "text": [
      "\n",
      "Batch  0: Loss = 0.0394\n"
     ]
    },
    {
     "name": "stderr",
     "output_type": "stream",
     "text": [
      "Training:  65%|██████▍   | 51/79 [00:27<00:14,  1.88it/s]"
     ]
    },
    {
     "name": "stdout",
     "output_type": "stream",
     "text": [
      "\n",
      "Batch 50: Loss = 0.0391\n"
     ]
    },
    {
     "name": "stderr",
     "output_type": "stream",
     "text": [
      "Training: 100%|██████████| 79/79 [00:41<00:00,  1.90it/s]\n"
     ]
    },
    {
     "name": "stdout",
     "output_type": "stream",
     "text": [
      "Epoch completed: Average Loss = 0.0401\n",
      "Loss: 0.0401 | LR: 1.00e-04\n",
      "\n",
      "EPOCH 152/200\n"
     ]
    },
    {
     "name": "stderr",
     "output_type": "stream",
     "text": [
      "Training:   1%|▏         | 1/79 [00:00<00:40,  1.92it/s]"
     ]
    },
    {
     "name": "stdout",
     "output_type": "stream",
     "text": [
      "\n",
      "Batch  0: Loss = 0.0399\n"
     ]
    },
    {
     "name": "stderr",
     "output_type": "stream",
     "text": [
      "Training:  65%|██████▍   | 51/79 [00:27<00:14,  1.88it/s]"
     ]
    },
    {
     "name": "stdout",
     "output_type": "stream",
     "text": [
      "\n",
      "Batch 50: Loss = 0.0381\n"
     ]
    },
    {
     "name": "stderr",
     "output_type": "stream",
     "text": [
      "Training: 100%|██████████| 79/79 [00:41<00:00,  1.90it/s]\n"
     ]
    },
    {
     "name": "stdout",
     "output_type": "stream",
     "text": [
      "Epoch completed: Average Loss = 0.0392\n",
      "Loss: 0.0392 | LR: 1.00e-04\n",
      "\n",
      "EPOCH 153/200\n"
     ]
    },
    {
     "name": "stderr",
     "output_type": "stream",
     "text": [
      "Training:   1%|▏         | 1/79 [00:00<00:41,  1.90it/s]"
     ]
    },
    {
     "name": "stdout",
     "output_type": "stream",
     "text": [
      "\n",
      "Batch  0: Loss = 0.0397\n"
     ]
    },
    {
     "name": "stderr",
     "output_type": "stream",
     "text": [
      "Training:  65%|██████▍   | 51/79 [00:27<00:14,  1.88it/s]"
     ]
    },
    {
     "name": "stdout",
     "output_type": "stream",
     "text": [
      "\n",
      "Batch 50: Loss = 0.0400\n"
     ]
    },
    {
     "name": "stderr",
     "output_type": "stream",
     "text": [
      "Training: 100%|██████████| 79/79 [00:41<00:00,  1.90it/s]\n"
     ]
    },
    {
     "name": "stdout",
     "output_type": "stream",
     "text": [
      "Epoch completed: Average Loss = 0.0399\n",
      "Loss: 0.0399 | LR: 1.00e-04\n",
      "\n",
      "EPOCH 154/200\n"
     ]
    },
    {
     "name": "stderr",
     "output_type": "stream",
     "text": [
      "Training:   1%|▏         | 1/79 [00:00<00:40,  1.91it/s]"
     ]
    },
    {
     "name": "stdout",
     "output_type": "stream",
     "text": [
      "\n",
      "Batch  0: Loss = 0.0421\n"
     ]
    },
    {
     "name": "stderr",
     "output_type": "stream",
     "text": [
      "Training:  65%|██████▍   | 51/79 [00:27<00:14,  1.88it/s]"
     ]
    },
    {
     "name": "stdout",
     "output_type": "stream",
     "text": [
      "\n",
      "Batch 50: Loss = 0.0404\n"
     ]
    },
    {
     "name": "stderr",
     "output_type": "stream",
     "text": [
      "Training: 100%|██████████| 79/79 [00:41<00:00,  1.90it/s]\n"
     ]
    },
    {
     "name": "stdout",
     "output_type": "stream",
     "text": [
      "Epoch completed: Average Loss = 0.0397\n",
      "Loss: 0.0397 | LR: 1.00e-04\n",
      "\n",
      "EPOCH 155/200\n"
     ]
    },
    {
     "name": "stderr",
     "output_type": "stream",
     "text": [
      "Training:   1%|▏         | 1/79 [00:00<00:40,  1.90it/s]"
     ]
    },
    {
     "name": "stdout",
     "output_type": "stream",
     "text": [
      "\n",
      "Batch  0: Loss = 0.0332\n"
     ]
    },
    {
     "name": "stderr",
     "output_type": "stream",
     "text": [
      "Training:  65%|██████▍   | 51/79 [00:27<00:14,  1.88it/s]"
     ]
    },
    {
     "name": "stdout",
     "output_type": "stream",
     "text": [
      "\n",
      "Batch 50: Loss = 0.0414\n"
     ]
    },
    {
     "name": "stderr",
     "output_type": "stream",
     "text": [
      "Training: 100%|██████████| 79/79 [00:41<00:00,  1.90it/s]\n"
     ]
    },
    {
     "name": "stdout",
     "output_type": "stream",
     "text": [
      "Epoch completed: Average Loss = 0.0397\n",
      "Loss: 0.0397 | LR: 1.00e-04\n",
      "\n",
      "EPOCH 156/200\n"
     ]
    },
    {
     "name": "stderr",
     "output_type": "stream",
     "text": [
      "Training:   1%|▏         | 1/79 [00:00<00:40,  1.92it/s]"
     ]
    },
    {
     "name": "stdout",
     "output_type": "stream",
     "text": [
      "\n",
      "Batch  0: Loss = 0.0351\n"
     ]
    },
    {
     "name": "stderr",
     "output_type": "stream",
     "text": [
      "Training:  65%|██████▍   | 51/79 [00:27<00:14,  1.88it/s]"
     ]
    },
    {
     "name": "stdout",
     "output_type": "stream",
     "text": [
      "\n",
      "Batch 50: Loss = 0.0408\n"
     ]
    },
    {
     "name": "stderr",
     "output_type": "stream",
     "text": [
      "Training: 100%|██████████| 79/79 [00:41<00:00,  1.90it/s]\n"
     ]
    },
    {
     "name": "stdout",
     "output_type": "stream",
     "text": [
      "Epoch completed: Average Loss = 0.0388\n",
      "Loss: 0.0388 | LR: 1.00e-04\n",
      "\n",
      "EPOCH 157/200\n"
     ]
    },
    {
     "name": "stderr",
     "output_type": "stream",
     "text": [
      "Training:   1%|▏         | 1/79 [00:00<00:40,  1.92it/s]"
     ]
    },
    {
     "name": "stdout",
     "output_type": "stream",
     "text": [
      "\n",
      "Batch  0: Loss = 0.0439\n"
     ]
    },
    {
     "name": "stderr",
     "output_type": "stream",
     "text": [
      "Training:  65%|██████▍   | 51/79 [00:27<00:14,  1.88it/s]"
     ]
    },
    {
     "name": "stdout",
     "output_type": "stream",
     "text": [
      "\n",
      "Batch 50: Loss = 0.0369\n"
     ]
    },
    {
     "name": "stderr",
     "output_type": "stream",
     "text": [
      "Training: 100%|██████████| 79/79 [00:41<00:00,  1.90it/s]\n"
     ]
    },
    {
     "name": "stdout",
     "output_type": "stream",
     "text": [
      "Epoch completed: Average Loss = 0.0384\n",
      "Loss: 0.0384 | LR: 1.00e-04\n",
      "\n",
      "EPOCH 158/200\n"
     ]
    },
    {
     "name": "stderr",
     "output_type": "stream",
     "text": [
      "Training:   1%|▏         | 1/79 [00:00<00:40,  1.91it/s]"
     ]
    },
    {
     "name": "stdout",
     "output_type": "stream",
     "text": [
      "\n",
      "Batch  0: Loss = 0.0362\n"
     ]
    },
    {
     "name": "stderr",
     "output_type": "stream",
     "text": [
      "Training:  65%|██████▍   | 51/79 [00:27<00:14,  1.88it/s]"
     ]
    },
    {
     "name": "stdout",
     "output_type": "stream",
     "text": [
      "\n",
      "Batch 50: Loss = 0.0405\n"
     ]
    },
    {
     "name": "stderr",
     "output_type": "stream",
     "text": [
      "Training: 100%|██████████| 79/79 [00:41<00:00,  1.90it/s]\n"
     ]
    },
    {
     "name": "stdout",
     "output_type": "stream",
     "text": [
      "Epoch completed: Average Loss = 0.0386\n",
      "Loss: 0.0386 | LR: 1.00e-04\n",
      "\n",
      "EPOCH 159/200\n"
     ]
    },
    {
     "name": "stderr",
     "output_type": "stream",
     "text": [
      "Training:   1%|▏         | 1/79 [00:00<00:40,  1.91it/s]"
     ]
    },
    {
     "name": "stdout",
     "output_type": "stream",
     "text": [
      "\n",
      "Batch  0: Loss = 0.0416\n"
     ]
    },
    {
     "name": "stderr",
     "output_type": "stream",
     "text": [
      "Training:  65%|██████▍   | 51/79 [00:27<00:14,  1.89it/s]"
     ]
    },
    {
     "name": "stdout",
     "output_type": "stream",
     "text": [
      "\n",
      "Batch 50: Loss = 0.0418\n"
     ]
    },
    {
     "name": "stderr",
     "output_type": "stream",
     "text": [
      "Training: 100%|██████████| 79/79 [00:41<00:00,  1.90it/s]\n"
     ]
    },
    {
     "name": "stdout",
     "output_type": "stream",
     "text": [
      "Epoch completed: Average Loss = 0.0394\n",
      "Loss: 0.0394 | LR: 1.00e-04\n",
      "\n",
      "EPOCH 160/200\n"
     ]
    },
    {
     "name": "stderr",
     "output_type": "stream",
     "text": [
      "Training:   1%|▏         | 1/79 [00:00<00:40,  1.91it/s]"
     ]
    },
    {
     "name": "stdout",
     "output_type": "stream",
     "text": [
      "\n",
      "Batch  0: Loss = 0.0442\n"
     ]
    },
    {
     "name": "stderr",
     "output_type": "stream",
     "text": [
      "Training:  65%|██████▍   | 51/79 [00:27<00:14,  1.89it/s]"
     ]
    },
    {
     "name": "stdout",
     "output_type": "stream",
     "text": [
      "\n",
      "Batch 50: Loss = 0.0449\n"
     ]
    },
    {
     "name": "stderr",
     "output_type": "stream",
     "text": [
      "Training: 100%|██████████| 79/79 [00:41<00:00,  1.90it/s]\n"
     ]
    },
    {
     "name": "stdout",
     "output_type": "stream",
     "text": [
      "Epoch completed: Average Loss = 0.0393\n",
      "Loss: 0.0393 | LR: 1.00e-04\n",
      "\n",
      "EPOCH 161/200\n"
     ]
    },
    {
     "name": "stderr",
     "output_type": "stream",
     "text": [
      "Training:   1%|▏         | 1/79 [00:00<00:40,  1.91it/s]"
     ]
    },
    {
     "name": "stdout",
     "output_type": "stream",
     "text": [
      "\n",
      "Batch  0: Loss = 0.0364\n"
     ]
    },
    {
     "name": "stderr",
     "output_type": "stream",
     "text": [
      "Training:  65%|██████▍   | 51/79 [00:27<00:14,  1.89it/s]"
     ]
    },
    {
     "name": "stdout",
     "output_type": "stream",
     "text": [
      "\n",
      "Batch 50: Loss = 0.0379\n"
     ]
    },
    {
     "name": "stderr",
     "output_type": "stream",
     "text": [
      "Training: 100%|██████████| 79/79 [00:41<00:00,  1.90it/s]\n"
     ]
    },
    {
     "name": "stdout",
     "output_type": "stream",
     "text": [
      "Epoch completed: Average Loss = 0.0383\n",
      "Loss: 0.0383 | LR: 1.00e-04\n",
      "\n",
      "EPOCH 162/200\n"
     ]
    },
    {
     "name": "stderr",
     "output_type": "stream",
     "text": [
      "Training:   1%|▏         | 1/79 [00:00<00:40,  1.92it/s]"
     ]
    },
    {
     "name": "stdout",
     "output_type": "stream",
     "text": [
      "\n",
      "Batch  0: Loss = 0.0332\n"
     ]
    },
    {
     "name": "stderr",
     "output_type": "stream",
     "text": [
      "Training:  65%|██████▍   | 51/79 [00:27<00:14,  1.89it/s]"
     ]
    },
    {
     "name": "stdout",
     "output_type": "stream",
     "text": [
      "\n",
      "Batch 50: Loss = 0.0415\n"
     ]
    },
    {
     "name": "stderr",
     "output_type": "stream",
     "text": [
      "Training: 100%|██████████| 79/79 [00:41<00:00,  1.90it/s]\n"
     ]
    },
    {
     "name": "stdout",
     "output_type": "stream",
     "text": [
      "Epoch completed: Average Loss = 0.0392\n",
      "Loss: 0.0392 | LR: 1.00e-04\n",
      "\n",
      "EPOCH 163/200\n"
     ]
    },
    {
     "name": "stderr",
     "output_type": "stream",
     "text": [
      "Training:   1%|▏         | 1/79 [00:00<00:41,  1.90it/s]"
     ]
    },
    {
     "name": "stdout",
     "output_type": "stream",
     "text": [
      "\n",
      "Batch  0: Loss = 0.0343\n"
     ]
    },
    {
     "name": "stderr",
     "output_type": "stream",
     "text": [
      "Training:  65%|██████▍   | 51/79 [00:27<00:14,  1.89it/s]"
     ]
    },
    {
     "name": "stdout",
     "output_type": "stream",
     "text": [
      "\n",
      "Batch 50: Loss = 0.0391\n"
     ]
    },
    {
     "name": "stderr",
     "output_type": "stream",
     "text": [
      "Training: 100%|██████████| 79/79 [00:41<00:00,  1.90it/s]\n"
     ]
    },
    {
     "name": "stdout",
     "output_type": "stream",
     "text": [
      "Epoch completed: Average Loss = 0.0385\n",
      "Loss: 0.0385 | LR: 1.00e-04\n",
      "\n",
      "EPOCH 164/200\n"
     ]
    },
    {
     "name": "stderr",
     "output_type": "stream",
     "text": [
      "Training:   1%|▏         | 1/79 [00:00<00:40,  1.91it/s]"
     ]
    },
    {
     "name": "stdout",
     "output_type": "stream",
     "text": [
      "\n",
      "Batch  0: Loss = 0.0436\n"
     ]
    },
    {
     "name": "stderr",
     "output_type": "stream",
     "text": [
      "Training:  65%|██████▍   | 51/79 [00:27<00:14,  1.89it/s]"
     ]
    },
    {
     "name": "stdout",
     "output_type": "stream",
     "text": [
      "\n",
      "Batch 50: Loss = 0.0402\n"
     ]
    },
    {
     "name": "stderr",
     "output_type": "stream",
     "text": [
      "Training: 100%|██████████| 79/79 [00:41<00:00,  1.90it/s]\n"
     ]
    },
    {
     "name": "stdout",
     "output_type": "stream",
     "text": [
      "Epoch completed: Average Loss = 0.0383\n",
      "Loss: 0.0383 | LR: 1.00e-04\n",
      "\n",
      "EPOCH 165/200\n"
     ]
    },
    {
     "name": "stderr",
     "output_type": "stream",
     "text": [
      "Training:   1%|▏         | 1/79 [00:00<00:40,  1.92it/s]"
     ]
    },
    {
     "name": "stdout",
     "output_type": "stream",
     "text": [
      "\n",
      "Batch  0: Loss = 0.0319\n"
     ]
    },
    {
     "name": "stderr",
     "output_type": "stream",
     "text": [
      "Training:  65%|██████▍   | 51/79 [00:27<00:14,  1.89it/s]"
     ]
    },
    {
     "name": "stdout",
     "output_type": "stream",
     "text": [
      "\n",
      "Batch 50: Loss = 0.0403\n"
     ]
    },
    {
     "name": "stderr",
     "output_type": "stream",
     "text": [
      "Training: 100%|██████████| 79/79 [00:41<00:00,  1.90it/s]\n"
     ]
    },
    {
     "name": "stdout",
     "output_type": "stream",
     "text": [
      "Epoch completed: Average Loss = 0.0380\n",
      "Loss: 0.0380 | LR: 1.00e-04\n",
      "\n",
      "EPOCH 166/200\n"
     ]
    },
    {
     "name": "stderr",
     "output_type": "stream",
     "text": [
      "Training:   1%|▏         | 1/79 [00:00<00:40,  1.91it/s]"
     ]
    },
    {
     "name": "stdout",
     "output_type": "stream",
     "text": [
      "\n",
      "Batch  0: Loss = 0.0438\n"
     ]
    },
    {
     "name": "stderr",
     "output_type": "stream",
     "text": [
      "Training:  65%|██████▍   | 51/79 [00:27<00:14,  1.89it/s]"
     ]
    },
    {
     "name": "stdout",
     "output_type": "stream",
     "text": [
      "\n",
      "Batch 50: Loss = 0.0410\n"
     ]
    },
    {
     "name": "stderr",
     "output_type": "stream",
     "text": [
      "Training: 100%|██████████| 79/79 [00:41<00:00,  1.90it/s]\n"
     ]
    },
    {
     "name": "stdout",
     "output_type": "stream",
     "text": [
      "Epoch completed: Average Loss = 0.0396\n",
      "Loss: 0.0396 | LR: 1.00e-04\n",
      "\n",
      "EPOCH 167/200\n"
     ]
    },
    {
     "name": "stderr",
     "output_type": "stream",
     "text": [
      "Training:   1%|▏         | 1/79 [00:00<00:40,  1.92it/s]"
     ]
    },
    {
     "name": "stdout",
     "output_type": "stream",
     "text": [
      "\n",
      "Batch  0: Loss = 0.0355\n"
     ]
    },
    {
     "name": "stderr",
     "output_type": "stream",
     "text": [
      "Training:  65%|██████▍   | 51/79 [00:27<00:14,  1.89it/s]"
     ]
    },
    {
     "name": "stdout",
     "output_type": "stream",
     "text": [
      "\n",
      "Batch 50: Loss = 0.0404\n"
     ]
    },
    {
     "name": "stderr",
     "output_type": "stream",
     "text": [
      "Training: 100%|██████████| 79/79 [00:41<00:00,  1.90it/s]\n"
     ]
    },
    {
     "name": "stdout",
     "output_type": "stream",
     "text": [
      "Epoch completed: Average Loss = 0.0386\n",
      "Loss: 0.0386 | LR: 1.00e-04\n",
      "\n",
      "EPOCH 168/200\n"
     ]
    },
    {
     "name": "stderr",
     "output_type": "stream",
     "text": [
      "Training:   1%|▏         | 1/79 [00:00<00:40,  1.90it/s]"
     ]
    },
    {
     "name": "stdout",
     "output_type": "stream",
     "text": [
      "\n",
      "Batch  0: Loss = 0.0361\n"
     ]
    },
    {
     "name": "stderr",
     "output_type": "stream",
     "text": [
      "Training:  65%|██████▍   | 51/79 [00:27<00:14,  1.89it/s]"
     ]
    },
    {
     "name": "stdout",
     "output_type": "stream",
     "text": [
      "\n",
      "Batch 50: Loss = 0.0394\n"
     ]
    },
    {
     "name": "stderr",
     "output_type": "stream",
     "text": [
      "Training: 100%|██████████| 79/79 [00:41<00:00,  1.90it/s]\n"
     ]
    },
    {
     "name": "stdout",
     "output_type": "stream",
     "text": [
      "Epoch completed: Average Loss = 0.0381\n",
      "Loss: 0.0381 | LR: 1.00e-04\n",
      "\n",
      "EPOCH 169/200\n"
     ]
    },
    {
     "name": "stderr",
     "output_type": "stream",
     "text": [
      "Training:   1%|▏         | 1/79 [00:00<00:41,  1.90it/s]"
     ]
    },
    {
     "name": "stdout",
     "output_type": "stream",
     "text": [
      "\n",
      "Batch  0: Loss = 0.0348\n"
     ]
    },
    {
     "name": "stderr",
     "output_type": "stream",
     "text": [
      "Training:  65%|██████▍   | 51/79 [00:27<00:14,  1.88it/s]"
     ]
    },
    {
     "name": "stdout",
     "output_type": "stream",
     "text": [
      "\n",
      "Batch 50: Loss = 0.0350\n"
     ]
    },
    {
     "name": "stderr",
     "output_type": "stream",
     "text": [
      "Training: 100%|██████████| 79/79 [00:41<00:00,  1.90it/s]\n"
     ]
    },
    {
     "name": "stdout",
     "output_type": "stream",
     "text": [
      "Epoch completed: Average Loss = 0.0383\n",
      "Loss: 0.0383 | LR: 1.00e-04\n",
      "\n",
      "EPOCH 170/200\n"
     ]
    },
    {
     "name": "stderr",
     "output_type": "stream",
     "text": [
      "Training:   1%|▏         | 1/79 [00:00<00:40,  1.90it/s]"
     ]
    },
    {
     "name": "stdout",
     "output_type": "stream",
     "text": [
      "\n",
      "Batch  0: Loss = 0.0355\n"
     ]
    },
    {
     "name": "stderr",
     "output_type": "stream",
     "text": [
      "Training:  65%|██████▍   | 51/79 [00:27<00:14,  1.89it/s]"
     ]
    },
    {
     "name": "stdout",
     "output_type": "stream",
     "text": [
      "\n",
      "Batch 50: Loss = 0.0358\n"
     ]
    },
    {
     "name": "stderr",
     "output_type": "stream",
     "text": [
      "Training: 100%|██████████| 79/79 [00:41<00:00,  1.90it/s]\n"
     ]
    },
    {
     "name": "stdout",
     "output_type": "stream",
     "text": [
      "Epoch completed: Average Loss = 0.0380\n",
      "Loss: 0.0380 | LR: 1.00e-04\n",
      "\n",
      "EPOCH 171/200\n"
     ]
    },
    {
     "name": "stderr",
     "output_type": "stream",
     "text": [
      "Training:   1%|▏         | 1/79 [00:00<00:40,  1.91it/s]"
     ]
    },
    {
     "name": "stdout",
     "output_type": "stream",
     "text": [
      "\n",
      "Batch  0: Loss = 0.0363\n"
     ]
    },
    {
     "name": "stderr",
     "output_type": "stream",
     "text": [
      "Training:  65%|██████▍   | 51/79 [00:27<00:14,  1.88it/s]"
     ]
    },
    {
     "name": "stdout",
     "output_type": "stream",
     "text": [
      "\n",
      "Batch 50: Loss = 0.0353\n"
     ]
    },
    {
     "name": "stderr",
     "output_type": "stream",
     "text": [
      "Training: 100%|██████████| 79/79 [00:41<00:00,  1.90it/s]\n"
     ]
    },
    {
     "name": "stdout",
     "output_type": "stream",
     "text": [
      "Epoch completed: Average Loss = 0.0380\n",
      "Loss: 0.0380 | LR: 1.00e-04\n",
      "\n",
      "EPOCH 172/200\n"
     ]
    },
    {
     "name": "stderr",
     "output_type": "stream",
     "text": [
      "Training:   1%|▏         | 1/79 [00:00<00:40,  1.91it/s]"
     ]
    },
    {
     "name": "stdout",
     "output_type": "stream",
     "text": [
      "\n",
      "Batch  0: Loss = 0.0406\n"
     ]
    },
    {
     "name": "stderr",
     "output_type": "stream",
     "text": [
      "Training:  65%|██████▍   | 51/79 [00:27<00:14,  1.88it/s]"
     ]
    },
    {
     "name": "stdout",
     "output_type": "stream",
     "text": [
      "\n",
      "Batch 50: Loss = 0.0397\n"
     ]
    },
    {
     "name": "stderr",
     "output_type": "stream",
     "text": [
      "Training: 100%|██████████| 79/79 [00:41<00:00,  1.90it/s]\n"
     ]
    },
    {
     "name": "stdout",
     "output_type": "stream",
     "text": [
      "Epoch completed: Average Loss = 0.0383\n",
      "Loss: 0.0383 | LR: 1.00e-04\n",
      "\n",
      "EPOCH 173/200\n"
     ]
    },
    {
     "name": "stderr",
     "output_type": "stream",
     "text": [
      "Training:   1%|▏         | 1/79 [00:00<00:41,  1.90it/s]"
     ]
    },
    {
     "name": "stdout",
     "output_type": "stream",
     "text": [
      "\n",
      "Batch  0: Loss = 0.0336\n"
     ]
    },
    {
     "name": "stderr",
     "output_type": "stream",
     "text": [
      "Training:  65%|██████▍   | 51/79 [00:27<00:14,  1.88it/s]"
     ]
    },
    {
     "name": "stdout",
     "output_type": "stream",
     "text": [
      "\n",
      "Batch 50: Loss = 0.0435\n"
     ]
    },
    {
     "name": "stderr",
     "output_type": "stream",
     "text": [
      "Training: 100%|██████████| 79/79 [00:41<00:00,  1.90it/s]\n"
     ]
    },
    {
     "name": "stdout",
     "output_type": "stream",
     "text": [
      "Epoch completed: Average Loss = 0.0374\n",
      "Loss: 0.0374 | LR: 1.00e-04\n",
      "\n",
      "EPOCH 174/200\n"
     ]
    },
    {
     "name": "stderr",
     "output_type": "stream",
     "text": [
      "Training:   1%|▏         | 1/79 [00:00<00:40,  1.91it/s]"
     ]
    },
    {
     "name": "stdout",
     "output_type": "stream",
     "text": [
      "\n",
      "Batch  0: Loss = 0.0352\n"
     ]
    },
    {
     "name": "stderr",
     "output_type": "stream",
     "text": [
      "Training:  65%|██████▍   | 51/79 [00:27<00:14,  1.89it/s]"
     ]
    },
    {
     "name": "stdout",
     "output_type": "stream",
     "text": [
      "\n",
      "Batch 50: Loss = 0.0430\n"
     ]
    },
    {
     "name": "stderr",
     "output_type": "stream",
     "text": [
      "Training: 100%|██████████| 79/79 [00:41<00:00,  1.90it/s]\n"
     ]
    },
    {
     "name": "stdout",
     "output_type": "stream",
     "text": [
      "Epoch completed: Average Loss = 0.0375\n",
      "Loss: 0.0375 | LR: 1.00e-04\n",
      "\n",
      "EPOCH 175/200\n"
     ]
    },
    {
     "name": "stderr",
     "output_type": "stream",
     "text": [
      "Training:   1%|▏         | 1/79 [00:00<00:40,  1.92it/s]"
     ]
    },
    {
     "name": "stdout",
     "output_type": "stream",
     "text": [
      "\n",
      "Batch  0: Loss = 0.0358\n"
     ]
    },
    {
     "name": "stderr",
     "output_type": "stream",
     "text": [
      "Training:  65%|██████▍   | 51/79 [00:27<00:14,  1.87it/s]"
     ]
    },
    {
     "name": "stdout",
     "output_type": "stream",
     "text": [
      "\n",
      "Batch 50: Loss = 0.0372\n"
     ]
    },
    {
     "name": "stderr",
     "output_type": "stream",
     "text": [
      "Training: 100%|██████████| 79/79 [00:41<00:00,  1.90it/s]\n"
     ]
    },
    {
     "name": "stdout",
     "output_type": "stream",
     "text": [
      "Epoch completed: Average Loss = 0.0381\n",
      "Loss: 0.0381 | LR: 1.00e-04\n",
      "\n",
      "EPOCH 176/200\n"
     ]
    },
    {
     "name": "stderr",
     "output_type": "stream",
     "text": [
      "Training:   1%|▏         | 1/79 [00:00<00:40,  1.91it/s]"
     ]
    },
    {
     "name": "stdout",
     "output_type": "stream",
     "text": [
      "\n",
      "Batch  0: Loss = 0.0346\n"
     ]
    },
    {
     "name": "stderr",
     "output_type": "stream",
     "text": [
      "Training:  65%|██████▍   | 51/79 [00:27<00:14,  1.88it/s]"
     ]
    },
    {
     "name": "stdout",
     "output_type": "stream",
     "text": [
      "\n",
      "Batch 50: Loss = 0.0384\n"
     ]
    },
    {
     "name": "stderr",
     "output_type": "stream",
     "text": [
      "Training: 100%|██████████| 79/79 [00:41<00:00,  1.90it/s]\n"
     ]
    },
    {
     "name": "stdout",
     "output_type": "stream",
     "text": [
      "Epoch completed: Average Loss = 0.0381\n",
      "Loss: 0.0381 | LR: 1.00e-04\n",
      "\n",
      "EPOCH 177/200\n"
     ]
    },
    {
     "name": "stderr",
     "output_type": "stream",
     "text": [
      "Training:   1%|▏         | 1/79 [00:00<00:40,  1.92it/s]"
     ]
    },
    {
     "name": "stdout",
     "output_type": "stream",
     "text": [
      "\n",
      "Batch  0: Loss = 0.0376\n"
     ]
    },
    {
     "name": "stderr",
     "output_type": "stream",
     "text": [
      "Training:  65%|██████▍   | 51/79 [00:27<00:14,  1.88it/s]"
     ]
    },
    {
     "name": "stdout",
     "output_type": "stream",
     "text": [
      "\n",
      "Batch 50: Loss = 0.0341\n"
     ]
    },
    {
     "name": "stderr",
     "output_type": "stream",
     "text": [
      "Training: 100%|██████████| 79/79 [00:41<00:00,  1.90it/s]\n"
     ]
    },
    {
     "name": "stdout",
     "output_type": "stream",
     "text": [
      "Epoch completed: Average Loss = 0.0377\n",
      "Loss: 0.0377 | LR: 1.00e-04\n",
      "\n",
      "EPOCH 178/200\n"
     ]
    },
    {
     "name": "stderr",
     "output_type": "stream",
     "text": [
      "Training:   1%|▏         | 1/79 [00:00<00:40,  1.91it/s]"
     ]
    },
    {
     "name": "stdout",
     "output_type": "stream",
     "text": [
      "\n",
      "Batch  0: Loss = 0.0533\n"
     ]
    },
    {
     "name": "stderr",
     "output_type": "stream",
     "text": [
      "Training:  65%|██████▍   | 51/79 [00:27<00:14,  1.88it/s]"
     ]
    },
    {
     "name": "stdout",
     "output_type": "stream",
     "text": [
      "\n",
      "Batch 50: Loss = 0.0367\n"
     ]
    },
    {
     "name": "stderr",
     "output_type": "stream",
     "text": [
      "Training: 100%|██████████| 79/79 [00:41<00:00,  1.90it/s]\n"
     ]
    },
    {
     "name": "stdout",
     "output_type": "stream",
     "text": [
      "Epoch completed: Average Loss = 0.0380\n",
      "Loss: 0.0380 | LR: 1.00e-04\n",
      "\n",
      "EPOCH 179/200\n"
     ]
    },
    {
     "name": "stderr",
     "output_type": "stream",
     "text": [
      "Training:   1%|▏         | 1/79 [00:00<00:41,  1.90it/s]"
     ]
    },
    {
     "name": "stdout",
     "output_type": "stream",
     "text": [
      "\n",
      "Batch  0: Loss = 0.0325\n"
     ]
    },
    {
     "name": "stderr",
     "output_type": "stream",
     "text": [
      "Training:  65%|██████▍   | 51/79 [00:27<00:14,  1.88it/s]"
     ]
    },
    {
     "name": "stdout",
     "output_type": "stream",
     "text": [
      "\n",
      "Batch 50: Loss = 0.0397\n"
     ]
    },
    {
     "name": "stderr",
     "output_type": "stream",
     "text": [
      "Training: 100%|██████████| 79/79 [00:41<00:00,  1.90it/s]\n"
     ]
    },
    {
     "name": "stdout",
     "output_type": "stream",
     "text": [
      "Epoch completed: Average Loss = 0.0378\n",
      "Loss: 0.0378 | LR: 1.00e-04\n",
      "\n",
      "EPOCH 180/200\n"
     ]
    },
    {
     "name": "stderr",
     "output_type": "stream",
     "text": [
      "Training:   1%|▏         | 1/79 [00:00<00:40,  1.91it/s]"
     ]
    },
    {
     "name": "stdout",
     "output_type": "stream",
     "text": [
      "\n",
      "Batch  0: Loss = 0.0357\n"
     ]
    },
    {
     "name": "stderr",
     "output_type": "stream",
     "text": [
      "Training:  65%|██████▍   | 51/79 [00:27<00:14,  1.88it/s]"
     ]
    },
    {
     "name": "stdout",
     "output_type": "stream",
     "text": [
      "\n",
      "Batch 50: Loss = 0.0354\n"
     ]
    },
    {
     "name": "stderr",
     "output_type": "stream",
     "text": [
      "Training: 100%|██████████| 79/79 [00:41<00:00,  1.90it/s]\n"
     ]
    },
    {
     "name": "stdout",
     "output_type": "stream",
     "text": [
      "Epoch completed: Average Loss = 0.0375\n",
      "Loss: 0.0375 | LR: 1.00e-04\n",
      "\n",
      "EPOCH 181/200\n"
     ]
    },
    {
     "name": "stderr",
     "output_type": "stream",
     "text": [
      "Training:   1%|▏         | 1/79 [00:00<00:40,  1.91it/s]"
     ]
    },
    {
     "name": "stdout",
     "output_type": "stream",
     "text": [
      "\n",
      "Batch  0: Loss = 0.0383\n"
     ]
    },
    {
     "name": "stderr",
     "output_type": "stream",
     "text": [
      "Training:  65%|██████▍   | 51/79 [00:27<00:14,  1.88it/s]"
     ]
    },
    {
     "name": "stdout",
     "output_type": "stream",
     "text": [
      "\n",
      "Batch 50: Loss = 0.0440\n"
     ]
    },
    {
     "name": "stderr",
     "output_type": "stream",
     "text": [
      "Training: 100%|██████████| 79/79 [00:41<00:00,  1.90it/s]\n"
     ]
    },
    {
     "name": "stdout",
     "output_type": "stream",
     "text": [
      "Epoch completed: Average Loss = 0.0378\n",
      "Loss: 0.0378 | LR: 1.00e-04\n",
      "\n",
      "EPOCH 182/200\n"
     ]
    },
    {
     "name": "stderr",
     "output_type": "stream",
     "text": [
      "Training:   1%|▏         | 1/79 [00:00<00:40,  1.92it/s]"
     ]
    },
    {
     "name": "stdout",
     "output_type": "stream",
     "text": [
      "\n",
      "Batch  0: Loss = 0.0430\n"
     ]
    },
    {
     "name": "stderr",
     "output_type": "stream",
     "text": [
      "Training:  65%|██████▍   | 51/79 [00:27<00:14,  1.88it/s]"
     ]
    },
    {
     "name": "stdout",
     "output_type": "stream",
     "text": [
      "\n",
      "Batch 50: Loss = 0.0418\n"
     ]
    },
    {
     "name": "stderr",
     "output_type": "stream",
     "text": [
      "Training: 100%|██████████| 79/79 [00:41<00:00,  1.90it/s]\n"
     ]
    },
    {
     "name": "stdout",
     "output_type": "stream",
     "text": [
      "Epoch completed: Average Loss = 0.0379\n",
      "Loss: 0.0379 | LR: 1.00e-04\n",
      "\n",
      "EPOCH 183/200\n"
     ]
    },
    {
     "name": "stderr",
     "output_type": "stream",
     "text": [
      "Training:   1%|▏         | 1/79 [00:00<00:41,  1.90it/s]"
     ]
    },
    {
     "name": "stdout",
     "output_type": "stream",
     "text": [
      "\n",
      "Batch  0: Loss = 0.0417\n"
     ]
    },
    {
     "name": "stderr",
     "output_type": "stream",
     "text": [
      "Training:  65%|██████▍   | 51/79 [00:27<00:14,  1.88it/s]"
     ]
    },
    {
     "name": "stdout",
     "output_type": "stream",
     "text": [
      "\n",
      "Batch 50: Loss = 0.0357\n"
     ]
    },
    {
     "name": "stderr",
     "output_type": "stream",
     "text": [
      "Training: 100%|██████████| 79/79 [00:41<00:00,  1.90it/s]\n"
     ]
    },
    {
     "name": "stdout",
     "output_type": "stream",
     "text": [
      "Epoch completed: Average Loss = 0.0368\n",
      "Loss: 0.0368 | LR: 1.00e-04\n",
      "\n",
      "EPOCH 184/200\n"
     ]
    },
    {
     "name": "stderr",
     "output_type": "stream",
     "text": [
      "Training:   1%|▏         | 1/79 [00:00<00:40,  1.90it/s]"
     ]
    },
    {
     "name": "stdout",
     "output_type": "stream",
     "text": [
      "\n",
      "Batch  0: Loss = 0.0407\n"
     ]
    },
    {
     "name": "stderr",
     "output_type": "stream",
     "text": [
      "Training:  65%|██████▍   | 51/79 [00:27<00:14,  1.89it/s]"
     ]
    },
    {
     "name": "stdout",
     "output_type": "stream",
     "text": [
      "\n",
      "Batch 50: Loss = 0.0365\n"
     ]
    },
    {
     "name": "stderr",
     "output_type": "stream",
     "text": [
      "Training: 100%|██████████| 79/79 [00:41<00:00,  1.90it/s]\n"
     ]
    },
    {
     "name": "stdout",
     "output_type": "stream",
     "text": [
      "Epoch completed: Average Loss = 0.0377\n",
      "Loss: 0.0377 | LR: 1.00e-04\n",
      "\n",
      "EPOCH 185/200\n"
     ]
    },
    {
     "name": "stderr",
     "output_type": "stream",
     "text": [
      "Training:   1%|▏         | 1/79 [00:00<00:40,  1.91it/s]"
     ]
    },
    {
     "name": "stdout",
     "output_type": "stream",
     "text": [
      "\n",
      "Batch  0: Loss = 0.0360\n"
     ]
    },
    {
     "name": "stderr",
     "output_type": "stream",
     "text": [
      "Training:  65%|██████▍   | 51/79 [00:27<00:14,  1.88it/s]"
     ]
    },
    {
     "name": "stdout",
     "output_type": "stream",
     "text": [
      "\n",
      "Batch 50: Loss = 0.0393\n"
     ]
    },
    {
     "name": "stderr",
     "output_type": "stream",
     "text": [
      "Training: 100%|██████████| 79/79 [00:41<00:00,  1.90it/s]\n"
     ]
    },
    {
     "name": "stdout",
     "output_type": "stream",
     "text": [
      "Epoch completed: Average Loss = 0.0375\n",
      "Loss: 0.0375 | LR: 1.00e-04\n",
      "\n",
      "EPOCH 186/200\n"
     ]
    },
    {
     "name": "stderr",
     "output_type": "stream",
     "text": [
      "Training:   1%|▏         | 1/79 [00:00<00:40,  1.91it/s]"
     ]
    },
    {
     "name": "stdout",
     "output_type": "stream",
     "text": [
      "\n",
      "Batch  0: Loss = 0.0408\n"
     ]
    },
    {
     "name": "stderr",
     "output_type": "stream",
     "text": [
      "Training:  65%|██████▍   | 51/79 [00:27<00:14,  1.89it/s]"
     ]
    },
    {
     "name": "stdout",
     "output_type": "stream",
     "text": [
      "\n",
      "Batch 50: Loss = 0.0414\n"
     ]
    },
    {
     "name": "stderr",
     "output_type": "stream",
     "text": [
      "Training: 100%|██████████| 79/79 [00:41<00:00,  1.90it/s]\n"
     ]
    },
    {
     "name": "stdout",
     "output_type": "stream",
     "text": [
      "Epoch completed: Average Loss = 0.0370\n",
      "Loss: 0.0370 | LR: 1.00e-04\n",
      "\n",
      "EPOCH 187/200\n"
     ]
    },
    {
     "name": "stderr",
     "output_type": "stream",
     "text": [
      "Training:   1%|▏         | 1/79 [00:00<00:40,  1.91it/s]"
     ]
    },
    {
     "name": "stdout",
     "output_type": "stream",
     "text": [
      "\n",
      "Batch  0: Loss = 0.0346\n"
     ]
    },
    {
     "name": "stderr",
     "output_type": "stream",
     "text": [
      "Training:  65%|██████▍   | 51/79 [00:27<00:14,  1.88it/s]"
     ]
    },
    {
     "name": "stdout",
     "output_type": "stream",
     "text": [
      "\n",
      "Batch 50: Loss = 0.0414\n"
     ]
    },
    {
     "name": "stderr",
     "output_type": "stream",
     "text": [
      "Training: 100%|██████████| 79/79 [00:41<00:00,  1.90it/s]\n"
     ]
    },
    {
     "name": "stdout",
     "output_type": "stream",
     "text": [
      "Epoch completed: Average Loss = 0.0373\n",
      "Loss: 0.0373 | LR: 1.00e-04\n",
      "\n",
      "EPOCH 188/200\n"
     ]
    },
    {
     "name": "stderr",
     "output_type": "stream",
     "text": [
      "Training:   1%|▏         | 1/79 [00:00<00:40,  1.91it/s]"
     ]
    },
    {
     "name": "stdout",
     "output_type": "stream",
     "text": [
      "\n",
      "Batch  0: Loss = 0.0387\n"
     ]
    },
    {
     "name": "stderr",
     "output_type": "stream",
     "text": [
      "Training:  65%|██████▍   | 51/79 [00:27<00:14,  1.88it/s]"
     ]
    },
    {
     "name": "stdout",
     "output_type": "stream",
     "text": [
      "\n",
      "Batch 50: Loss = 0.0378\n"
     ]
    },
    {
     "name": "stderr",
     "output_type": "stream",
     "text": [
      "Training: 100%|██████████| 79/79 [00:41<00:00,  1.90it/s]\n"
     ]
    },
    {
     "name": "stdout",
     "output_type": "stream",
     "text": [
      "Epoch completed: Average Loss = 0.0376\n",
      "Loss: 0.0376 | LR: 1.00e-04\n",
      "\n",
      "EPOCH 189/200\n"
     ]
    },
    {
     "name": "stderr",
     "output_type": "stream",
     "text": [
      "Training:   1%|▏         | 1/79 [00:00<00:41,  1.89it/s]"
     ]
    },
    {
     "name": "stdout",
     "output_type": "stream",
     "text": [
      "\n",
      "Batch  0: Loss = 0.0360\n"
     ]
    },
    {
     "name": "stderr",
     "output_type": "stream",
     "text": [
      "Training:  65%|██████▍   | 51/79 [00:27<00:14,  1.88it/s]"
     ]
    },
    {
     "name": "stdout",
     "output_type": "stream",
     "text": [
      "\n",
      "Batch 50: Loss = 0.0424\n"
     ]
    },
    {
     "name": "stderr",
     "output_type": "stream",
     "text": [
      "Training: 100%|██████████| 79/79 [00:41<00:00,  1.90it/s]\n"
     ]
    },
    {
     "name": "stdout",
     "output_type": "stream",
     "text": [
      "Epoch completed: Average Loss = 0.0368\n",
      "Loss: 0.0368 | LR: 1.00e-04\n",
      "\n",
      "EPOCH 190/200\n"
     ]
    },
    {
     "name": "stderr",
     "output_type": "stream",
     "text": [
      "Training:   1%|▏         | 1/79 [00:00<00:40,  1.91it/s]"
     ]
    },
    {
     "name": "stdout",
     "output_type": "stream",
     "text": [
      "\n",
      "Batch  0: Loss = 0.0379\n"
     ]
    },
    {
     "name": "stderr",
     "output_type": "stream",
     "text": [
      "Training:  65%|██████▍   | 51/79 [00:27<00:14,  1.89it/s]"
     ]
    },
    {
     "name": "stdout",
     "output_type": "stream",
     "text": [
      "\n",
      "Batch 50: Loss = 0.0325\n"
     ]
    },
    {
     "name": "stderr",
     "output_type": "stream",
     "text": [
      "Training: 100%|██████████| 79/79 [00:41<00:00,  1.90it/s]\n"
     ]
    },
    {
     "name": "stdout",
     "output_type": "stream",
     "text": [
      "Epoch completed: Average Loss = 0.0376\n",
      "Loss: 0.0376 | LR: 1.00e-04\n",
      "\n",
      "EPOCH 191/200\n"
     ]
    },
    {
     "name": "stderr",
     "output_type": "stream",
     "text": [
      "Training:   1%|▏         | 1/79 [00:00<00:40,  1.92it/s]"
     ]
    },
    {
     "name": "stdout",
     "output_type": "stream",
     "text": [
      "\n",
      "Batch  0: Loss = 0.0411\n"
     ]
    },
    {
     "name": "stderr",
     "output_type": "stream",
     "text": [
      "Training:  65%|██████▍   | 51/79 [00:27<00:14,  1.88it/s]"
     ]
    },
    {
     "name": "stdout",
     "output_type": "stream",
     "text": [
      "\n",
      "Batch 50: Loss = 0.0402\n"
     ]
    },
    {
     "name": "stderr",
     "output_type": "stream",
     "text": [
      "Training: 100%|██████████| 79/79 [00:41<00:00,  1.90it/s]\n"
     ]
    },
    {
     "name": "stdout",
     "output_type": "stream",
     "text": [
      "Epoch completed: Average Loss = 0.0373\n",
      "Loss: 0.0373 | LR: 1.00e-04\n",
      "\n",
      "EPOCH 192/200\n"
     ]
    },
    {
     "name": "stderr",
     "output_type": "stream",
     "text": [
      "Training:   1%|▏         | 1/79 [00:00<00:40,  1.92it/s]"
     ]
    },
    {
     "name": "stdout",
     "output_type": "stream",
     "text": [
      "\n",
      "Batch  0: Loss = 0.0361\n"
     ]
    },
    {
     "name": "stderr",
     "output_type": "stream",
     "text": [
      "Training:  65%|██████▍   | 51/79 [00:27<00:14,  1.89it/s]"
     ]
    },
    {
     "name": "stdout",
     "output_type": "stream",
     "text": [
      "\n",
      "Batch 50: Loss = 0.0345\n"
     ]
    },
    {
     "name": "stderr",
     "output_type": "stream",
     "text": [
      "Training: 100%|██████████| 79/79 [00:41<00:00,  1.90it/s]\n"
     ]
    },
    {
     "name": "stdout",
     "output_type": "stream",
     "text": [
      "Epoch completed: Average Loss = 0.0367\n",
      "Loss: 0.0367 | LR: 1.00e-04\n",
      "\n",
      "EPOCH 193/200\n"
     ]
    },
    {
     "name": "stderr",
     "output_type": "stream",
     "text": [
      "Training:   1%|▏         | 1/79 [00:00<00:40,  1.91it/s]"
     ]
    },
    {
     "name": "stdout",
     "output_type": "stream",
     "text": [
      "\n",
      "Batch  0: Loss = 0.0330\n"
     ]
    },
    {
     "name": "stderr",
     "output_type": "stream",
     "text": [
      "Training:  65%|██████▍   | 51/79 [00:27<00:14,  1.88it/s]"
     ]
    },
    {
     "name": "stdout",
     "output_type": "stream",
     "text": [
      "\n",
      "Batch 50: Loss = 0.0388\n"
     ]
    },
    {
     "name": "stderr",
     "output_type": "stream",
     "text": [
      "Training: 100%|██████████| 79/79 [00:41<00:00,  1.90it/s]\n"
     ]
    },
    {
     "name": "stdout",
     "output_type": "stream",
     "text": [
      "Epoch completed: Average Loss = 0.0363\n",
      "Loss: 0.0363 | LR: 1.00e-04\n",
      "\n",
      "EPOCH 194/200\n"
     ]
    },
    {
     "name": "stderr",
     "output_type": "stream",
     "text": [
      "Training:   1%|▏         | 1/79 [00:00<00:40,  1.90it/s]"
     ]
    },
    {
     "name": "stdout",
     "output_type": "stream",
     "text": [
      "\n",
      "Batch  0: Loss = 0.0391\n"
     ]
    },
    {
     "name": "stderr",
     "output_type": "stream",
     "text": [
      "Training:  65%|██████▍   | 51/79 [00:27<00:14,  1.88it/s]"
     ]
    },
    {
     "name": "stdout",
     "output_type": "stream",
     "text": [
      "\n",
      "Batch 50: Loss = 0.0379\n"
     ]
    },
    {
     "name": "stderr",
     "output_type": "stream",
     "text": [
      "Training: 100%|██████████| 79/79 [00:41<00:00,  1.90it/s]\n"
     ]
    },
    {
     "name": "stdout",
     "output_type": "stream",
     "text": [
      "Epoch completed: Average Loss = 0.0369\n",
      "Loss: 0.0369 | LR: 1.00e-04\n",
      "\n",
      "EPOCH 195/200\n"
     ]
    },
    {
     "name": "stderr",
     "output_type": "stream",
     "text": [
      "Training:   1%|▏         | 1/79 [00:00<00:40,  1.91it/s]"
     ]
    },
    {
     "name": "stdout",
     "output_type": "stream",
     "text": [
      "\n",
      "Batch  0: Loss = 0.0354\n"
     ]
    },
    {
     "name": "stderr",
     "output_type": "stream",
     "text": [
      "Training:  65%|██████▍   | 51/79 [00:27<00:14,  1.88it/s]"
     ]
    },
    {
     "name": "stdout",
     "output_type": "stream",
     "text": [
      "\n",
      "Batch 50: Loss = 0.0377\n"
     ]
    },
    {
     "name": "stderr",
     "output_type": "stream",
     "text": [
      "Training: 100%|██████████| 79/79 [00:41<00:00,  1.90it/s]\n"
     ]
    },
    {
     "name": "stdout",
     "output_type": "stream",
     "text": [
      "Epoch completed: Average Loss = 0.0366\n",
      "Loss: 0.0366 | LR: 1.00e-04\n",
      "\n",
      "EPOCH 196/200\n"
     ]
    },
    {
     "name": "stderr",
     "output_type": "stream",
     "text": [
      "Training:   1%|▏         | 1/79 [00:00<00:40,  1.91it/s]"
     ]
    },
    {
     "name": "stdout",
     "output_type": "stream",
     "text": [
      "\n",
      "Batch  0: Loss = 0.0355\n"
     ]
    },
    {
     "name": "stderr",
     "output_type": "stream",
     "text": [
      "Training:  65%|██████▍   | 51/79 [00:27<00:14,  1.87it/s]"
     ]
    },
    {
     "name": "stdout",
     "output_type": "stream",
     "text": [
      "\n",
      "Batch 50: Loss = 0.0329\n"
     ]
    },
    {
     "name": "stderr",
     "output_type": "stream",
     "text": [
      "Training: 100%|██████████| 79/79 [00:41<00:00,  1.90it/s]\n"
     ]
    },
    {
     "name": "stdout",
     "output_type": "stream",
     "text": [
      "Epoch completed: Average Loss = 0.0365\n",
      "Loss: 0.0365 | LR: 1.00e-04\n",
      "\n",
      "EPOCH 197/200\n"
     ]
    },
    {
     "name": "stderr",
     "output_type": "stream",
     "text": [
      "Training:   1%|▏         | 1/79 [00:00<00:40,  1.91it/s]"
     ]
    },
    {
     "name": "stdout",
     "output_type": "stream",
     "text": [
      "\n",
      "Batch  0: Loss = 0.0406\n"
     ]
    },
    {
     "name": "stderr",
     "output_type": "stream",
     "text": [
      "Training:  65%|██████▍   | 51/79 [00:27<00:14,  1.89it/s]"
     ]
    },
    {
     "name": "stdout",
     "output_type": "stream",
     "text": [
      "\n",
      "Batch 50: Loss = 0.0399\n"
     ]
    },
    {
     "name": "stderr",
     "output_type": "stream",
     "text": [
      "Training: 100%|██████████| 79/79 [00:41<00:00,  1.90it/s]\n"
     ]
    },
    {
     "name": "stdout",
     "output_type": "stream",
     "text": [
      "Epoch completed: Average Loss = 0.0369\n",
      "Loss: 0.0369 | LR: 1.00e-04\n",
      "\n",
      "EPOCH 198/200\n"
     ]
    },
    {
     "name": "stderr",
     "output_type": "stream",
     "text": [
      "Training:   1%|▏         | 1/79 [00:00<00:40,  1.90it/s]"
     ]
    },
    {
     "name": "stdout",
     "output_type": "stream",
     "text": [
      "\n",
      "Batch  0: Loss = 0.0418\n"
     ]
    },
    {
     "name": "stderr",
     "output_type": "stream",
     "text": [
      "Training:  65%|██████▍   | 51/79 [00:27<00:14,  1.89it/s]"
     ]
    },
    {
     "name": "stdout",
     "output_type": "stream",
     "text": [
      "\n",
      "Batch 50: Loss = 0.0371\n"
     ]
    },
    {
     "name": "stderr",
     "output_type": "stream",
     "text": [
      "Training: 100%|██████████| 79/79 [00:41<00:00,  1.90it/s]\n"
     ]
    },
    {
     "name": "stdout",
     "output_type": "stream",
     "text": [
      "Epoch completed: Average Loss = 0.0369\n",
      "Loss: 0.0369 | LR: 1.00e-04\n",
      "\n",
      "EPOCH 199/200\n"
     ]
    },
    {
     "name": "stderr",
     "output_type": "stream",
     "text": [
      "Training:   1%|▏         | 1/79 [00:00<00:40,  1.90it/s]"
     ]
    },
    {
     "name": "stdout",
     "output_type": "stream",
     "text": [
      "\n",
      "Batch  0: Loss = 0.0377\n"
     ]
    },
    {
     "name": "stderr",
     "output_type": "stream",
     "text": [
      "Training:  65%|██████▍   | 51/79 [00:27<00:14,  1.88it/s]"
     ]
    },
    {
     "name": "stdout",
     "output_type": "stream",
     "text": [
      "\n",
      "Batch 50: Loss = 0.0352\n"
     ]
    },
    {
     "name": "stderr",
     "output_type": "stream",
     "text": [
      "Training: 100%|██████████| 79/79 [00:41<00:00,  1.90it/s]\n"
     ]
    },
    {
     "name": "stdout",
     "output_type": "stream",
     "text": [
      "Epoch completed: Average Loss = 0.0367\n",
      "Loss: 0.0367 | LR: 1.00e-04\n",
      "\n",
      "EPOCH 200/200\n"
     ]
    },
    {
     "name": "stderr",
     "output_type": "stream",
     "text": [
      "Training:   1%|▏         | 1/79 [00:00<00:41,  1.90it/s]"
     ]
    },
    {
     "name": "stdout",
     "output_type": "stream",
     "text": [
      "\n",
      "Batch  0: Loss = 0.0312\n"
     ]
    },
    {
     "name": "stderr",
     "output_type": "stream",
     "text": [
      "Training:  65%|██████▍   | 51/79 [00:27<00:14,  1.89it/s]"
     ]
    },
    {
     "name": "stdout",
     "output_type": "stream",
     "text": [
      "\n",
      "Batch 50: Loss = 0.0340\n"
     ]
    },
    {
     "name": "stderr",
     "output_type": "stream",
     "text": [
      "Training: 100%|██████████| 79/79 [00:41<00:00,  1.90it/s]\n"
     ]
    },
    {
     "name": "stdout",
     "output_type": "stream",
     "text": [
      "Epoch completed: Average Loss = 0.0361\n",
      "Loss: 0.0361 | LR: 1.00e-04\n",
      "Checkpoint at epoch 200\n",
      "Detected Kaggle environment - saving to /kaggle/working/models\n",
      "Complete model saved to: /kaggle/working/models/sketch_diffusion_rabbit_20250807_084937.pth\n",
      "Final loss: 0.0361\n",
      "Best loss: 0.0361\n",
      "Category: rabbit\n",
      "Model saved to: /kaggle/working/models/sketch_diffusion_rabbit_20250807_084937.pth\n",
      "Final loss: 0.0361\n",
      "Best loss: 0.0361\n",
      "Category: rabbit\n"
     ]
    }
   ],
   "source": [
    "trained_model, loss_history, model_path = train_model(\n",
    "        model_components=model_components,\n",
    "        dataloader=rabbit_train_loader,\n",
    "        num_epochs=200,\n",
    "        learning_rate=1e-4)"
   ]
  },
  {
   "cell_type": "code",
   "execution_count": 30,
   "id": "e9ec00e0",
   "metadata": {
    "colab": {
     "base_uri": "https://localhost:8080/",
     "height": 728
    },
    "execution": {
     "iopub.execute_input": "2025-08-07T08:49:38.021754Z",
     "iopub.status.busy": "2025-08-07T08:49:38.021461Z",
     "iopub.status.idle": "2025-08-07T08:49:39.039587Z",
     "shell.execute_reply": "2025-08-07T08:49:39.038902Z",
     "shell.execute_reply.started": "2025-08-07T08:49:38.021730Z"
    },
    "executionInfo": {
     "elapsed": 202,
     "status": "ok",
     "timestamp": 1754345668942,
     "user": {
      "displayName": "ÖZGÜR NAZIM ŞAHIN",
      "userId": "05319994504941481505"
     },
     "user_tz": -180
    },
    "id": "e9ec00e0",
    "outputId": "a5bf27e5-d31c-44bf-f9c0-877e4ddd3ae1",
    "trusted": true
   },
   "outputs": [
    {
     "name": "stdout",
     "output_type": "stream",
     "text": [
      "\n",
      "PLOTTING TRAINING LOSS\n"
     ]
    },
    {
     "data": {
      "image/png": "[encoded data removed]",
      "text/plain": [
       "<Figure size 1000x600 with 1 Axes>"
      ]
     },
     "metadata": {},
     "output_type": "display_data"
    },
    {
     "name": "stdout",
     "output_type": "stream",
     "text": [
      "Training Summary:\n",
      "Total epochs: 200\n",
      "Final loss: 0.0361\n",
      "Best loss: 0.0361 (Epoch 200)\n",
      "Loss improvement: 96.4%\n"
     ]
    }
   ],
   "source": [
    "plot_training_loss(loss_history)"
   ]
  },
  {
   "cell_type": "code",
   "execution_count": null,
   "id": "PBAcjP7bPv8-",
   "metadata": {
    "execution": {
     "iopub.execute_input": "2025-08-07T08:49:39.040796Z",
     "iopub.status.busy": "2025-08-07T08:49:39.040517Z",
     "iopub.status.idle": "2025-08-07T08:49:39.045769Z",
     "shell.execute_reply": "2025-08-07T08:49:39.045218Z",
     "shell.execute_reply.started": "2025-08-07T08:49:39.040771Z"
    },
    "executionInfo": {
     "elapsed": 40,
     "status": "ok",
     "timestamp": 1754383232023,
     "user": {
      "displayName": "ÖZGÜR NAZIM ŞAHIN",
      "userId": "05319994504941481505"
     },
     "user_tz": -180
    },
    "id": "PBAcjP7bPv8-",
    "trusted": true
   },
   "outputs": [],
   "source": [
    "def load_model(model_path, device):\n",
    "    checkpoint = torch.load(model_path, map_location=device, weights_only=False)\n",
    "    \n",
    "    model_components = checkpoint['model_components']\n",
    "    noise_schedule = checkpoint['noise_schedule']\n",
    "    training_info = checkpoint['training_info']\n",
    "    \n",
    "    for _, component in model_components.items():\n",
    "        component.to(device)\n",
    "        component.eval()\n",
    "\n",
    "    print(f\"Model loaded: {training_info['category']}, Loss: {training_info['final_loss']:.4f}\")\n",
    "\n",
    "    # Return in format expected by generate_simple_sketch\n",
    "    loaded_model = {\n",
    "        'model_components': model_components,\n",
    "        'noise_schedule': noise_schedule,\n",
    "        'training_info': training_info\n",
    "    }\n",
    "\n",
    "    return loaded_model"
   ]
  },
  {
   "cell_type": "code",
   "execution_count": null,
   "id": "f30758a1",
   "metadata": {
    "execution": {
     "iopub.execute_input": "2025-08-07T08:49:39.047363Z",
     "iopub.status.busy": "2025-08-07T08:49:39.047160Z",
     "iopub.status.idle": "2025-08-07T08:49:39.060623Z",
     "shell.execute_reply": "2025-08-07T08:49:39.059970Z",
     "shell.execute_reply.started": "2025-08-07T08:49:39.047345Z"
    },
    "executionInfo": {
     "elapsed": 74,
     "status": "ok",
     "timestamp": 1754383964857,
     "user": {
      "displayName": "ÖZGÜR NAZIM ŞAHIN",
      "userId": "05319994504941481505"
     },
     "user_tz": -180
    },
    "id": "f30758a1",
    "trusted": true
   },
   "outputs": [],
   "source": [
    "def generate_simple_sketch(trained_model, category_id, seq_len, num_steps=500):\n",
    "    device = setup_device()\n",
    "\n",
    "    model_components = trained_model['model_components']\n",
    "    noise_schedule = trained_model['noise_schedule']\n",
    "\n",
    "    for component in model_components.values():\n",
    "        component.eval()\n",
    "\n",
    "    with torch.no_grad():\n",
    "        # Start with random noise\n",
    "        sketch = torch.randn(1, seq_len, 3, device=device)\n",
    "        # Let the model generate pen states through diffusion!\n",
    "\n",
    "        category = torch.tensor([category_id], device=device)\n",
    "\n",
    "        # Denoising loop\n",
    "        for step in range(num_steps):\n",
    "            t = torch.tensor([num_steps - step - 1], device=device)\n",
    "\n",
    "            if t >= len(noise_schedule['alphas']):\n",
    "                t = torch.tensor([len(noise_schedule['alphas']) - 1], device=device)\n",
    "\n",
    "            predicted_noise = model_forward_training(sketch, model_components, category, t)\n",
    "\n",
    "            if step < num_steps - 1:\n",
    "                alpha_t = noise_schedule['alphas'][t]\n",
    "                beta_t = noise_schedule['betas'][t]\n",
    "                alpha_cumprod_t = noise_schedule['alphas_cumprod'][t]\n",
    "                noise = torch.randn_like(sketch)\n",
    "\n",
    "                coeff1 = 1 / torch.sqrt(alpha_t)\n",
    "                coeff2 = beta_t / torch.sqrt(1 - alpha_cumprod_t)\n",
    "\n",
    "                # Denoise coordinates\n",
    "                sketch[:, :, :2] = coeff1 * (sketch[:, :, :2] - coeff2 * predicted_noise[:, :, :2]) + torch.sqrt(beta_t) * noise[:, :, :2]\n",
    "                pen_noise_scale = torch.sqrt(beta_t) * 0.1\n",
    "                sketch[:, :, 2] = coeff1 * (sketch[:, :, 2] - coeff2 * predicted_noise[:, :, 2]) + pen_noise_scale * noise[:, :, 2]\n",
    "\n",
    "            # Round and clamp pen states\n",
    "            pen_states_raw = sketch[:, :, 2]\n",
    "            pen_states_rounded = torch.round(pen_states_raw)\n",
    "            pen_states_clamped = torch.clamp(pen_states_rounded, -1, 3)\n",
    "            sketch[:, :, 2] = pen_states_clamped\n",
    "\n",
    "        final_sketch = sketch[0].cpu().numpy()\n",
    "        final_sketch[:, :2] = np.clip(final_sketch[:, :2], -1.0, 1.0)\n",
    "        final_sketch[:, 2] = np.clip(np.round(final_sketch[:, 2]), -1, 3)\n",
    "\n",
    "    return final_sketch"
   ]
  },
  {
   "cell_type": "code",
   "execution_count": 33,
   "id": "17cb8b28",
   "metadata": {
    "execution": {
     "iopub.execute_input": "2025-08-07T08:49:39.061680Z",
     "iopub.status.busy": "2025-08-07T08:49:39.061364Z",
     "iopub.status.idle": "2025-08-07T08:49:39.075750Z",
     "shell.execute_reply": "2025-08-07T08:49:39.075109Z",
     "shell.execute_reply.started": "2025-08-07T08:49:39.061662Z"
    },
    "executionInfo": {
     "elapsed": 13,
     "status": "ok",
     "timestamp": 1754384262824,
     "user": {
      "displayName": "ÖZGÜR NAZIM ŞAHIN",
      "userId": "05319994504941481505"
     },
     "user_tz": -180
    },
    "id": "17cb8b28",
    "trusted": true
   },
   "outputs": [],
   "source": [
    "# Helper function to sketch the output\n",
    "def plot_sketch(sketch, title):\n",
    "    fig, ax = plt.subplots(1, 1, figsize=(8, 8))\n",
    "    \n",
    "    # IMPROVED: Handle all pen states properly\n",
    "    current_stroke = []\n",
    "    strokes = []\n",
    "    \n",
    "    for i, (x, y, pen_state) in enumerate(sketch):\n",
    "        if pen_state == -1:  # Padding - skip\n",
    "            continue\n",
    "        elif pen_state == 1:  # Start stroke\n",
    "            if current_stroke:  # Finish previous stroke\n",
    "                strokes.append(np.array(current_stroke))\n",
    "            current_stroke = [(x, y)]\n",
    "        elif pen_state == 2:  # Continue stroke\n",
    "            current_stroke.append((x, y))\n",
    "        elif pen_state == 0:  # End stroke\n",
    "            current_stroke.append((x, y))\n",
    "            strokes.append(np.array(current_stroke))\n",
    "            current_stroke = []\n",
    "        elif pen_state == 3:  # End of drawing\n",
    "            if current_stroke:\n",
    "                strokes.append(np.array(current_stroke))\n",
    "            break\n",
    "    \n",
    "    # Add any remaining stroke\n",
    "    if current_stroke:\n",
    "        strokes.append(np.array(current_stroke))\n",
    "    \n",
    "    # Plot all strokes\n",
    "    colors = ['blue', 'red', 'green', 'purple', 'orange', 'brown', 'pink', 'gray']\n",
    "    \n",
    "    for i, stroke in enumerate(strokes):\n",
    "        if len(stroke) > 1:\n",
    "            color = colors[i % len(colors)]\n",
    "            ax.plot(stroke[:, 0], stroke[:, 1], color=color, linewidth=2.5, alpha=0.8)\n",
    "            \n",
    "            # Mark stroke start\n",
    "            ax.scatter(stroke[0, 0], stroke[0, 1], c=color, s=50, marker='o', \n",
    "                      edgecolor='black', linewidth=1, zorder=5)\n",
    "            \n",
    "            # Mark stroke end  \n",
    "            ax.scatter(stroke[-1, 0], stroke[-1, 1], c=color, s=50, marker='s', \n",
    "                      edgecolor='black', linewidth=1, zorder=5)\n",
    "    \n",
    "    ax.set_xlim(-1.2, 1.2)\n",
    "    ax.set_ylim(-1.2, 1.2)\n",
    "    ax.set_aspect('equal')\n",
    "    ax.grid(True, alpha=0.3)\n",
    "    ax.set_title(title, fontsize=14, fontweight='bold')\n",
    "    ax.set_xlabel('X Coordinate')\n",
    "    ax.set_ylabel('Y Coordinate')\n",
    "    \n",
    "    # Add legend\n",
    "    from matplotlib.lines import Line2D\n",
    "    legend_elements = [\n",
    "        Line2D([0], [0], marker='o', color='w', markerfacecolor='black', markersize=8, label='Stroke Start'),\n",
    "        Line2D([0], [0], marker='s', color='w', markerfacecolor='black', markersize=8, label='Stroke End'),\n",
    "    ]\n",
    "    ax.legend(handles=legend_elements, loc='upper right')\n",
    "    \n",
    "    plt.tight_layout()\n",
    "    plt.show()"
   ]
  },
  {
   "cell_type": "code",
   "execution_count": 34,
   "id": "-67mqyZ8rNiX",
   "metadata": {
    "execution": {
     "iopub.execute_input": "2025-08-07T08:49:39.076622Z",
     "iopub.status.busy": "2025-08-07T08:49:39.076434Z",
     "iopub.status.idle": "2025-08-07T08:49:39.090941Z",
     "shell.execute_reply": "2025-08-07T08:49:39.090287Z",
     "shell.execute_reply.started": "2025-08-07T08:49:39.076607Z"
    },
    "executionInfo": {
     "elapsed": 42,
     "status": "ok",
     "timestamp": 1754383328166,
     "user": {
      "displayName": "ÖZGÜR NAZIM ŞAHIN",
      "userId": "05319994504941481505"
     },
     "user_tz": -180
    },
    "id": "-67mqyZ8rNiX",
    "trusted": true
   },
   "outputs": [],
   "source": [
    "device = setup_device()"
   ]
  },
  {
   "cell_type": "code",
   "execution_count": 35,
   "id": "8e373356",
   "metadata": {
    "execution": {
     "iopub.execute_input": "2025-08-07T08:49:39.091909Z",
     "iopub.status.busy": "2025-08-07T08:49:39.091726Z",
     "iopub.status.idle": "2025-08-07T08:49:39.103049Z",
     "shell.execute_reply": "2025-08-07T08:49:39.102404Z",
     "shell.execute_reply.started": "2025-08-07T08:49:39.091895Z"
    },
    "executionInfo": {
     "elapsed": 61,
     "status": "ok",
     "timestamp": 1754384021120,
     "user": {
      "displayName": "ÖZGÜR NAZIM ŞAHIN",
      "userId": "05319994504941481505"
     },
     "user_tz": -180
    },
    "id": "8e373356",
    "trusted": true
   },
   "outputs": [],
   "source": [
    "def quick_generate_bus(trained_model, seq_len=571):\n",
    "    sketch = generate_simple_sketch(trained_model, 0, seq_len)\n",
    "    plot_sketch(sketch, \"Generated Bus\")"
   ]
  },
  {
   "cell_type": "code",
   "execution_count": null,
   "id": "0385516a",
   "metadata": {
    "executionInfo": {
     "elapsed": 58330,
     "status": "aborted",
     "timestamp": 1754333713608,
     "user": {
      "displayName": "ÖZGÜR NAZIM ŞAHIN",
      "userId": "05319994504941481505"
     },
     "user_tz": -180
    },
    "id": "0385516a"
   },
   "outputs": [],
   "source": []
  }
 ],
 "metadata": {
  "colab": {
   "provenance": [
    {
     "file_id": "https://github.com/ozgurnsahin/diffusion_model/blob/main/diffusion_model.ipynb",
     "timestamp": 1754173290578
    }
   ]
  },
  "kaggle": {
   "accelerator": "gpu",
   "dataSources": [
    {
     "datasetId": 8012915,
     "sourceId": 12679782,
     "sourceType": "datasetVersion"
    },
    {
     "modelId": 420993,
     "modelInstanceId": 403058,
     "sourceId": 507889,
     "sourceType": "modelInstanceVersion"
    }
   ],
   "dockerImageVersionId": 31089,
   "isGpuEnabled": true,
   "isInternetEnabled": true,
   "language": "python",
   "sourceType": "notebook"
  },
  "kernelspec": {
   "display_name": ".venv",
   "language": "python",
   "name": "python3"
  },
  "language_info": {
   "codemirror_mode": {
    "name": "ipython",
    "version": 3
   },
   "file_extension": ".py",
   "mimetype": "text/x-python",
   "name": "python",
   "nbconvert_exporter": "python",
   "pygments_lexer": "ipython3",
   "version": "3.10.12"
  }
 },
 "nbformat": 4,
 "nbformat_minor": 5
}
