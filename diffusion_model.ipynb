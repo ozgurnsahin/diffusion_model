{
 "cells": [
  {
   "cell_type": "code",
   "execution_count": 181,
   "id": "82987727",
   "metadata": {},
   "outputs": [],
   "source": [
    "import torch\n",
    "import torch.nn as nn\n",
    "import torch.nn.functional as F\n",
    "import numpy as np\n",
    "import matplotlib.pyplot as plt\n",
    "from tqdm import tqdm"
   ]
  },
  {
   "cell_type": "code",
   "execution_count": 182,
   "id": "cf0db8eb",
   "metadata": {},
   "outputs": [],
   "source": [
    "# Function to create a base diffusion model\n",
    "def diffusion_model(input_dim=3, embedding_dim=128, hidden_dim=256, num_categories=3, num_layers=2, dropout=0.1):\n",
    "    # Stroke embedder: [x, y, pen_state] -> embedding\n",
    "    stroke_embedder = nn.Linear(input_dim, embedding_dim)\n",
    "    \n",
    "    # Category embedder: category_id -> embedding  \n",
    "    category_embedder = nn.Embedding(num_categories, embedding_dim)\n",
    "    \n",
    "    # Temporal encoder: LSTM for sequence modeling\n",
    "    temporal_encoder = nn.LSTM(\n",
    "        input_size=embedding_dim,\n",
    "        hidden_size=hidden_dim,\n",
    "        num_layers=num_layers,\n",
    "        batch_first=True,\n",
    "        dropout=dropout if num_layers > 1 else 0\n",
    "    )\n",
    "    \n",
    "    # Noise predictor: hidden_states -> predicted_noise\n",
    "    noise_predictor = nn.Linear(hidden_dim, input_dim)\n",
    "    \n",
    "    model_components = {\n",
    "        'stroke_embedder': stroke_embedder,\n",
    "        'category_embedder': category_embedder, \n",
    "        'temporal_encoder': temporal_encoder,\n",
    "        'noise_predictor': noise_predictor\n",
    "    }\n",
    "    \n",
    "    return model_components"
   ]
  },
  {
   "cell_type": "code",
   "execution_count": null,
   "id": "02545f1f",
   "metadata": {},
   "outputs": [],
   "source": []
  }
 ],
 "metadata": {
  "language_info": {
   "name": "python"
  }
 },
 "nbformat": 4,
 "nbformat_minor": 5
}
