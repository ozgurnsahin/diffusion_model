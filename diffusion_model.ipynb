{
 "cells": [
  {
   "cell_type": "code",
   "execution_count": 204,
   "id": "82987727",
   "metadata": {},
   "outputs": [],
   "source": [
    "import torch\n",
    "import torch.nn as nn\n",
    "import torch.nn.functional as F\n",
    "from torch.utils.data import Dataset, DataLoader, TensorDataset\n",
    "import numpy as np\n",
    "import matplotlib.pyplot as plt\n",
    "from tqdm import tqdm\n",
    "import pickle"
   ]
  },
  {
   "cell_type": "code",
   "execution_count": 186,
   "id": "7a0fe4f3",
   "metadata": {},
   "outputs": [],
   "source": [
    "with open(\"processed_datasets.pkl\", \"rb\") as file: # save file as pickle to use in other notebooks\n",
    "    prcessed_datasets = pickle.load(file)"
   ]
  },
  {
   "cell_type": "code",
   "execution_count": 187,
   "id": "2d4f662c",
   "metadata": {},
   "outputs": [
    {
     "data": {
      "text/plain": [
       "dict_keys(['cat', 'rabbit', 'bus'])"
      ]
     },
     "execution_count": 187,
     "metadata": {},
     "output_type": "execute_result"
    }
   ],
   "source": [
    "prcessed_datasets.keys()"
   ]
  },
  {
   "cell_type": "code",
   "execution_count": null,
   "id": "cf0db8eb",
   "metadata": {},
   "outputs": [],
   "source": [
    "# Function to create a base diffusion model\n",
    "def diffusion_model(input_dim=3, embedding_dim=256, hidden_dim=256, num_categories=3, num_layers=2, dropout=0.1):\n",
    "    # Stroke embedder: [x, y, pen_state] -> embedding\n",
    "    stroke_embedder = nn.Linear(input_dim, embedding_dim)\n",
    "    \n",
    "    # Category embedder: category_id -> embedding  \n",
    "    category_embedder = nn.Embedding(num_categories, embedding_dim)\n",
    "    \n",
    "    # Temporal encoder: LSTM for sequence modeling\n",
    "    temporal_encoder = nn.LSTM(\n",
    "        input_size=embedding_dim,\n",
    "        hidden_size=hidden_dim,\n",
    "        num_layers=num_layers,\n",
    "        batch_first=True,\n",
    "        dropout=dropout if num_layers > 1 else 0\n",
    "    )\n",
    "    \n",
    "    # Noise predictor: hidden_states -> predicted_noise\n",
    "    noise_predictor = nn.Linear(hidden_dim, input_dim)\n",
    "    \n",
    "    model_components = {\n",
    "        'stroke_embedder': stroke_embedder,\n",
    "        'category_embedder': category_embedder, \n",
    "        'temporal_encoder': temporal_encoder,\n",
    "        'noise_predictor': noise_predictor\n",
    "    }\n",
    "    \n",
    "    return model_components"
   ]
  },
  {
   "cell_type": "code",
   "execution_count": 199,
   "id": "e94c2f14",
   "metadata": {},
   "outputs": [
    {
     "data": {
      "text/plain": [
       "(10000, 451, 3)"
      ]
     },
     "execution_count": 199,
     "metadata": {},
     "output_type": "execute_result"
    }
   ],
   "source": [
    "prcessed_datasets['bus']['train_data'].shape"
   ]
  },
  {
   "cell_type": "code",
   "execution_count": 200,
   "id": "02545f1f",
   "metadata": {},
   "outputs": [],
   "source": [
    "def model_forward_training(sequences, model_components, categories, timesteps):\n",
    "    # Get components\n",
    "    stroke_embedder = model_components['stroke_embedder']\n",
    "    category_embedder = model_components['category_embedder']\n",
    "    temporal_encoder = model_components['temporal_encoder']\n",
    "    noise_predictor = model_components['noise_predictor']\n",
    "    \n",
    "    batch_size, seq_len, _ = sequences.shape\n",
    "    \n",
    "    # Embded stroke sequences\n",
    "    stroke_embeddings = stroke_embedder(sequences) # [batch, seq_len, embedding_dim]\n",
    "    \n",
    "    # Embed categories and inject into sequence\n",
    "    category_embeddings = category_embedder(categories)  # [batch, embedding_dim]\n",
    "    category_expanded = category_embeddings.unsqueeze(1).expand(-1, seq_len, -1)\n",
    "    \n",
    "    # Combine stroke and category embeddings\n",
    "    conditioned_embeddings = stroke_embeddings + category_expanded\n",
    "    \n",
    "    # Process through LSTM\n",
    "    lstm_output, _ = temporal_encoder(conditioned_embeddings)  # [batch, seq_len, hidden_dim]\n",
    "    \n",
    "    # Predict noise\n",
    "    predicted_noise = noise_predictor(lstm_output)\n",
    "    \n",
    "    return predicted_noise"
   ]
  },
  {
   "cell_type": "code",
   "execution_count": 201,
   "id": "ebbd6889",
   "metadata": {},
   "outputs": [],
   "source": [
    "# Create progressive noise schedule for diffusion\n",
    "def create_noise_schedule(timesteps=400, beta_start=0.0001, beta_end=0.02):\n",
    "    # Linear schedule\n",
    "    betas = torch.linspace(beta_start, beta_end, timesteps)\n",
    "    \n",
    "    # Calculate alphas and cumulative alphas\n",
    "    alphas = 1.0 - betas\n",
    "    alphas_cumprod = torch.cumprod(alphas, dim=0)\n",
    "    \n",
    "    return {\n",
    "        'betas': betas,\n",
    "        'alphas': alphas,\n",
    "        'alphas_cumprod': alphas_cumprod,\n",
    "        'timesteps': timesteps\n",
    "    }"
   ]
  },
  {
   "cell_type": "code",
   "execution_count": 202,
   "id": "b1fc255b",
   "metadata": {},
   "outputs": [],
   "source": [
    "def noise_addition(sequences, noise, timesteps, noise_schedule):\n",
    "    alphas_cumprod = noise_schedule['alphas_cumprod']\n",
    "    \n",
    "    # Get alpha values for each timestep in batch\n",
    "    alpha_t = alphas_cumprod[timesteps].view(-1, 1, 1)  # [batch, 1, 1]\n",
    "    \n",
    "    # Only add noise to coordinates [x, y], keep pen_state [2] unchanged\n",
    "    noisy_sequences = sequences.clone()\n",
    "    \n",
    "    # Add noise to x and y coordinates\n",
    "    noisy_sequences[:, :, :2] = torch.sqrt(alpha_t) * sequences[:, :, :2] + torch.sqrt(1 - alpha_t) * noise[:, :, :2] # Keep pen_state unchanged (no noise on pen_state) noisy_sequences[:, :, 2] remains the same\n",
    "    \n",
    "    return noisy_sequences"
   ]
  },
  {
   "cell_type": "code",
   "execution_count": 203,
   "id": "a7787ded",
   "metadata": {},
   "outputs": [],
   "source": [
    "# Compute weighted loss for diffusion traning\n",
    "def compute_weigthed_loss(predicted_noise, target_noise, sequences):\n",
    "    # Basic MSE loss\n",
    "    mse_loss = F.mse_loss(predicted_noise, target_noise, reduction='none')\n",
    "    \n",
    "    # Create weights based on stroke changes\n",
    "    pen_states = sequences[:, :, 2]  # [batch, seq_len]\n",
    "    \n",
    "    # Higher weight for stroke boundaries\n",
    "    pen_change_weight = torch.ones_like(pen_states)\n",
    "    \n",
    "    # Find stroke changes\n",
    "    pen_changes = torch.abs(pen_states[:, 1:] - pen_states[:, :-1]) > 0.5\n",
    "    pen_change_weight[:, 1:][pen_changes] = 2.0 \n",
    "    \n",
    "    # Apply weights to coordinates only\n",
    "    weights = torch.ones_like(mse_loss)\n",
    "    weights[:, :, :2] = pen_change_weight.unsqueeze(-1).expand(-1, -1, 2)\n",
    "    \n",
    "    # Weighted loss calculation\n",
    "    weighted_loss = (mse_loss * weights).mean()\n",
    "    \n",
    "    return weighted_loss"
   ]
  },
  {
   "cell_type": "code",
   "execution_count": 207,
   "id": "6ca594f0",
   "metadata": {},
   "outputs": [],
   "source": [
    "def create_dataloader(dataset, batch_size=8):\n",
    "    category_mapping = {\n",
    "    'cat': 0,\n",
    "    'bus': 1, \n",
    "    'rabbit': 2\n",
    "    }\n",
    "    \n",
    "    category_name = dataset['category']\n",
    "    category_id = category_mapping[category_name]\n",
    "    \n",
    "    # Get data\n",
    "    train_data = dataset['train_data']\n",
    "    test_data = dataset['test_data']\n",
    "    \n",
    "    # Convert train data to torch\n",
    "    train_sequences = torch.FloatTensor(train_data)\n",
    "    train_categories = torch.full((len(train_data),), category_id, dtype=torch.long)\n",
    "    \n",
    "    # Convert test data to torch\n",
    "    test_sequences = torch.FloatTensor(test_data)\n",
    "    test_categories = torch.full((len(test_data),), category_id, dtype=torch.long)\n",
    "    \n",
    "    # Create datasets\n",
    "    train_dataset = TensorDataset(train_sequences, train_categories)\n",
    "    test_dataset = TensorDataset(test_sequences, test_categories)\n",
    "    \n",
    "    # Create DataLoaders\n",
    "    train_loader = DataLoader(train_dataset, batch_size=batch_size, shuffle=True)\n",
    "    test_loader = DataLoader(test_dataset, batch_size=batch_size, shuffle=False)\n",
    "    \n",
    "    print(f\"Train: {len(train_dataset)} samples, {len(train_loader)} batches\")\n",
    "    print(f\"Test: {len(test_dataset)} samples, {len(test_loader)} batches\")\n",
    "    \n",
    "    return train_loader, test_loader"
   ]
  },
  {
   "cell_type": "code",
   "execution_count": 208,
   "id": "dc018fe5",
   "metadata": {},
   "outputs": [
    {
     "name": "stdout",
     "output_type": "stream",
     "text": [
      "Train: 10000 samples, 1250 batches\n",
      "Test: 2000 samples, 250 batches\n"
     ]
    }
   ],
   "source": [
    "train_loader, test_loader = create_dataloader(prcessed_datasets['bus'])"
   ]
  },
  {
   "cell_type": "code",
   "execution_count": null,
   "id": "f4749716",
   "metadata": {},
   "outputs": [],
   "source": [
    "# Setup device\n",
    "def setup_device():\n",
    "    device = torch.device('cuda' if torch.cuda.is_available() else 'cpu')\n",
    "    return device"
   ]
  },
  {
   "cell_type": "code",
   "execution_count": 218,
   "id": "2fc5e417",
   "metadata": {},
   "outputs": [],
   "source": [
    "# Setup adam optimizer\n",
    "def initialize_optimizer(model_components, learning_rate=1e-4):\n",
    "    # Collect all parameters from all components\n",
    "    all_params = []\n",
    "    total_params = 0\n",
    "    \n",
    "    for _, component in model_components.items():\n",
    "        component_params = list(component.parameters())\n",
    "        all_params.extend(component_params)\n",
    "        num_params = sum(p.numel() for p in component_params)\n",
    "        total_params += num_params\n",
    "    \n",
    "    # Create optimizer\n",
    "    optimizer = torch.optim.Adam(all_params, lr=learning_rate)\n",
    "    \n",
    "    print(f\"Total parameters: {total_params:,}\")\n",
    "    print(f\"Learning rate: {learning_rate}\")\n",
    "    \n",
    "    return optimizer"
   ]
  },
  {
   "cell_type": "code",
   "execution_count": null,
   "id": "eddbaaaf",
   "metadata": {},
   "outputs": [],
   "source": [
    "# Helper function to train the model one epochs\n",
    "def train_one_epoch(model_components, dataloader, noise_schedule, optimizer, device):\n",
    "    # Set parameters\n",
    "    total_loss = 0\n",
    "    num_batches = 0\n",
    "    \n",
    "    # Set models to training mode\n",
    "    for component in model_components.values():\n",
    "        component.train()\n",
    "    \n",
    "    for batch_idx, (sequences, categories) in enumerate(tqdm(dataloader, desc=\"Training\")):\n",
    "        \n",
    "        # Move data to device\n",
    "        sequences = sequences.to(device)\n",
    "        categories = categories.to(device)\n",
    "        batch_size = sequences.shape[0]\n",
    "        \n",
    "        # Sample random timesteps for diffusion\n",
    "        timesteps = torch.randint(0, noise_schedule['timesteps'], (batch_size,), device=device)\n",
    "        \n",
    "        # Generate noise (only for coordinates, not pen_state)\n",
    "        noise = torch.randn_like(sequences, device=device)\n",
    "        noise[:, :, 2] = 0  # No noise on pen_state\n",
    "        \n",
    "        # Add progressive noise to sequences\n",
    "        alphas_cumprod = noise_schedule['alphas_cumprod']\n",
    "        alpha_t = alphas_cumprod[timesteps].view(-1, 1, 1)\n",
    "        noisy_sequences = sequences.clone()\n",
    "        noisy_sequences[:, :, :2] = torch.sqrt(alpha_t) * sequences[:, :, :2] + torch.sqrt(1 - alpha_t) * noise[:, :, :2]\n",
    "        \n",
    "        # Forward pass through model\n",
    "        stroke_embedder = model_components['stroke_embedder']\n",
    "        category_embedder = model_components['category_embedder']\n",
    "        temporal_encoder = model_components['temporal_encoder']\n",
    "        noise_predictor = model_components['noise_predictor']\n",
    "        \n",
    "        seq_len = sequences.shape[1]\n",
    "        stroke_embeddings = stroke_embedder(noisy_sequences)\n",
    "        category_embeddings = category_embedder(categories)\n",
    "        category_expanded = category_embeddings.unsqueeze(1).expand(-1, seq_len, -1)\n",
    "        conditioned_embeddings = stroke_embeddings + category_expanded\n",
    "        lstm_output, _ = temporal_encoder(conditioned_embeddings)\n",
    "        predicted_noise = noise_predictor(lstm_output)\n",
    "        \n",
    "        # Compute weighted loss\n",
    "        mse_loss = F.mse_loss(predicted_noise, noise, reduction='none')\n",
    "        pen_states = sequences[:, :, 2]\n",
    "        pen_change_weight = torch.ones_like(pen_states)\n",
    "        pen_changes = torch.abs(pen_states[:, 1:] - pen_states[:, :-1]) > 0.5\n",
    "        pen_change_weight[:, 1:][pen_changes] = 2.0\n",
    "        weights = torch.ones_like(mse_loss)\n",
    "        weights[:, :, :2] = pen_change_weight.unsqueeze(-1).expand(-1, -1, 2)\n",
    "        loss = (mse_loss * weights).mean()\n",
    "        \n",
    "        # Backward pass\n",
    "        optimizer.zero_grad()\n",
    "        loss.backward()\n",
    "        \n",
    "        # Gradient clipping\n",
    "        all_params = [p for component in model_components.values() for p in component.parameters()]\n",
    "        torch.nn.utils.clip_grad_norm_(all_params, max_norm=1.0)\n",
    "        \n",
    "        optimizer.step()\n",
    "        \n",
    "        # Track loss\n",
    "        total_loss += loss.item()\n",
    "        num_batches += 1\n",
    "        \n",
    "        # Print progress every 20 batches\n",
    "        if batch_idx % 20 == 0:\n",
    "            print(f\"   Batch {batch_idx:3d}: Loss = {loss.item():.4f}\")\n",
    "    \n",
    "    # Calculate average loss\n",
    "    avg_loss = total_loss / num_batches if num_batches > 0 else 0"
   ]
  },
  {
   "cell_type": "code",
   "execution_count": null,
   "id": "62aad5c0",
   "metadata": {},
   "outputs": [],
   "source": []
  },
  {
   "cell_type": "code",
   "execution_count": null,
   "id": "ef399ac0",
   "metadata": {},
   "outputs": [],
   "source": []
  },
  {
   "cell_type": "code",
   "execution_count": null,
   "id": "dcdf01a3",
   "metadata": {},
   "outputs": [],
   "source": []
  }
 ],
 "metadata": {
  "language_info": {
   "name": "python"
  }
 },
 "nbformat": 4,
 "nbformat_minor": 5
}
