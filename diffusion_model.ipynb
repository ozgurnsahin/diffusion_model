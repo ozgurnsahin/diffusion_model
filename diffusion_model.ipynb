{
 "cells": [
  {
   "cell_type": "markdown",
   "id": "f70abc34",
   "metadata": {},
   "source": [
    "Importing necesseary libraries like ndjson numpy torch etc."
   ]
  },
  {
   "cell_type": "code",
   "execution_count": 152,
   "id": "74ec4831",
   "metadata": {},
   "outputs": [],
   "source": [
    "# Import neceserray libraries\n",
    "import json\n",
    "import ndjson\n",
    "import numpy as np\n",
    "import matplotlib.pyplot as plt\n",
    "import seaborn as sns\n",
    "from pathlib import Path\n",
    "import pandas as pd\n",
    "import torch\n",
    "import torch.nn as nn\n",
    "from collections import defaultdict\n",
    "from typing import List"
   ]
  },
  {
   "cell_type": "code",
   "execution_count": 4,
   "id": "948d1979",
   "metadata": {},
   "outputs": [
    {
     "name": "stdout",
     "output_type": "stream",
     "text": [
      "🔧 PyTorch version: 2.7.1+cu126\n",
      "🔧 CUDA available: False\n"
     ]
    }
   ],
   "source": [
    "print(f\"🔧 PyTorch version: {torch.__version__}\")\n",
    "print(f\"🔧 CUDA available: {torch.cuda.is_available()}\")"
   ]
  },
  {
   "cell_type": "code",
   "execution_count": null,
   "id": "66c47da1",
   "metadata": {},
   "outputs": [],
   "source": [
    "# Deterministic seeding for ensure same randomizing \n",
    "np.random.seed(42)\n",
    "torch.manual_seed(42)\n",
    "if torch.cuda.is_available():\n",
    "    torch.cuda.manual_seed(42)"
   ]
  },
  {
   "cell_type": "code",
   "execution_count": null,
   "id": "1f756374",
   "metadata": {},
   "outputs": [],
   "source": [
    "# A helper function to open indices jsons\n",
    "def load_json_indices(category: str):\n",
    "    path = f\"./subset/{category}/indices.json\"\n",
    "    file_path = Path(path)\n",
    "    \n",
    "    if not file_path.exists():\n",
    "        print(f\"Data file not found category maybe wrong: {category}\")\n",
    "        return None\n",
    "    \n",
    "    with open(file_path, 'r') as f:\n",
    "        indices = json.load(f)\n",
    "    \n",
    "    train_indices = indices['train']\n",
    "    test_indices = indices['test']\n",
    "    \n",
    "    print(f\"{category.upper()} - Train: {len(train_indices)}, Test: {len(test_indices)}\")\n",
    "    return train_indices, test_indices\n",
    "    "
   ]
  },
  {
   "cell_type": "code",
   "execution_count": null,
   "id": "cafca0d5",
   "metadata": {},
   "outputs": [
    {
     "name": "stdout",
     "output_type": "stream",
     "text": [
      "BUS - Train: 10000, Test: 2000\n"
     ]
    }
   ],
   "source": [
    "bus_train_data, bus_test_data = load_json_indices(\"bus\")"
   ]
  },
  {
   "cell_type": "code",
   "execution_count": null,
   "id": "efe73eb9",
   "metadata": {},
   "outputs": [],
   "source": [
    "# A helper function to open skethes as ndjsons\n",
    "def load_sketches(category: str):\n",
    "    path = f\"./data/{category}.ndjson\"\n",
    "    file_path = Path(path)\n",
    "    \n",
    "    if not file_path.exists():\n",
    "        print(f\"Data file not found ndjson category maybe wrong: {category}\")\n",
    "        return None\n",
    "    \n",
    "    sketches = []\n",
    "    with open(file_path, 'r') as f:\n",
    "        for line_num, line in enumerate(f):\n",
    "            try:\n",
    "                sketch = json.loads(line.strip())\n",
    "                sketches.append(sketch)\n",
    "                \n",
    "            except json.JSONDecodeError as e:\n",
    "                print(f\"JSON decode error at line {line_num}: {e}\")\n",
    "                continue\n",
    "    \n",
    "    print(f\"Loaded {len(sketches)} sketches for {category}\")\n",
    "    return sketches"
   ]
  },
  {
   "cell_type": "code",
   "execution_count": null,
   "id": "b4968d57",
   "metadata": {},
   "outputs": [
    {
     "name": "stdout",
     "output_type": "stream",
     "text": [
      "Loaded 166208 sketches for bus\n"
     ]
    }
   ],
   "source": [
    "bus_sketches = load_sketches(\"bus\")"
   ]
  },
  {
   "cell_type": "code",
   "execution_count": 69,
   "id": "f46389a0",
   "metadata": {},
   "outputs": [],
   "source": [
    "# Filter drawings according to category indices\n",
    "def filter_drawings(sketches, train_indices, test_indices):\n",
    "    total_drawings = len(sketches)\n",
    "    \n",
    "    print(f\"Total drawings available: {total_drawings}\")\n",
    "    print(f\"Train indices requested: {len(train_indices)}\")\n",
    "    print(f\"Test indices requested: {len(test_indices)}\")\n",
    "    \n",
    "    # Extract actual drawings using valid indices\n",
    "    train_drawings = []\n",
    "    test_drawings = []\n",
    "    \n",
    "    for idx in train_indices:\n",
    "        train_drawings.append(sketches[idx])\n",
    "    \n",
    "    for idx in test_indices:\n",
    "        test_drawings.append(sketches[idx])\n",
    "        \n",
    "    print(f\"Train samples: {len(train_drawings)}\")\n",
    "    print(f\"Test samples: {len(test_drawings)}\")\n",
    "    \n",
    "    return train_drawings, test_drawings"
   ]
  },
  {
   "cell_type": "code",
   "execution_count": 79,
   "id": "fe0d1d19",
   "metadata": {},
   "outputs": [
    {
     "name": "stdout",
     "output_type": "stream",
     "text": [
      "Total drawings available: 166208\n",
      "Train indices requested: 10000\n",
      "Test indices requested: 2000\n",
      "Train samples: 10000\n",
      "Test samples: 2000\n"
     ]
    }
   ],
   "source": [
    "bus_train_drawings, bus_test_drawings = filter_drawings(bus_sketches, bus_train_data, bus_test_data)"
   ]
  },
  {
   "cell_type": "code",
   "execution_count": 80,
   "id": "effa00b9",
   "metadata": {},
   "outputs": [],
   "source": [
    "# Label stroke squences and format them as (X, Y, SEQ) \n",
    "def label_stroke_seq(sketches):\n",
    "    sequences = []\n",
    "    sequence_lengths = []\n",
    "    stroke_counts = []\n",
    "    \n",
    "    # Iterating over drawings \n",
    "    for sketche_idx, sketche_data in enumerate(sketches):\n",
    "        if 'drawing' not in sketche_data:\n",
    "            continue\n",
    "        \n",
    "        sketch = sketche_data['drawing'] # Getting drawing vectors\n",
    "        sequence = [] # List for stroke sequence label\n",
    "        \n",
    "        # Process strokes\n",
    "        for stroke_idx, stroke in enumerate(sketch):\n",
    "            if len(stroke) < 2:  # Skip invalid strokes\n",
    "                continue\n",
    "                \n",
    "            x_coords = stroke[0]\n",
    "            y_coords = stroke[1]\n",
    "            \n",
    "            for point_idx, (x, y) in enumerate(zip(x_coords, y_coords)):\n",
    "                if point_idx == 0:\n",
    "                    pen_state = 1 # start stroke\n",
    "                else:\n",
    "                    pen_state = 2 # continue stroke\n",
    "                \n",
    "                # Appending sequence x,y coordinate with pen state as squence\n",
    "                sequence.append([x, y, pen_state])\n",
    "            \n",
    "            if stroke_idx < len(sketch) - 1:\n",
    "                sequence.append([x_coords[-1], y_coords[-1], 0])  # end stroke\n",
    "            \n",
    "        if sequence:\n",
    "            sequence.append([0, 0, 3])  # end of drawing\n",
    "            sequences.append(sequence)\n",
    "            sequence_lengths.append(len(sequence))\n",
    "            stroke_counts.append(len(sketch))\n",
    "    \n",
    "    print(f\"Processed drawings: {len(sequences)}\")\n",
    "    print(f\"Avg sequence length: {np.mean(sequence_lengths):.1f}\")\n",
    "    print(f\"Avg stroke count: {np.mean(stroke_counts):.1f}\")\n",
    "    print(f\"Max sequence length: {np.max(sequence_lengths)}\")\n",
    "    print(f\"Min sequence length: {np.min(sequence_lengths)}\")\n",
    "    \n",
    "    return sequences, sequence_lengths, stroke_counts"
   ]
  },
  {
   "cell_type": "code",
   "execution_count": 82,
   "id": "99b3979e",
   "metadata": {},
   "outputs": [
    {
     "name": "stdout",
     "output_type": "stream",
     "text": [
      "Processed drawings: 10000\n",
      "Avg sequence length: 67.7\n",
      "Avg stroke count: 7.3\n",
      "Max sequence length: 451\n",
      "Min sequence length: 4\n",
      "\n",
      "Processed drawings: 2000\n",
      "Avg sequence length: 66.9\n",
      "Avg stroke count: 7.3\n",
      "Max sequence length: 292\n",
      "Min sequence length: 4\n"
     ]
    }
   ],
   "source": [
    "bus_train_sequences, bus_train_sequence_lengths, bust_train_stroke_counts =  label_stroke_seq(bus_train_drawings)\n",
    "print()\n",
    "bus_test_sequences, bus_test_sequence_lengths, bust_test_stroke_counts =  label_stroke_seq(bus_test_drawings)"
   ]
  },
  {
   "cell_type": "code",
   "execution_count": 91,
   "id": "1c17aa85",
   "metadata": {},
   "outputs": [],
   "source": [
    "# Normalizing the x,y corrdinates to ensure scaling\n",
    "def normalize_coordinates(sequences):\n",
    "    # Establish normalization thresholds\n",
    "    old_min, old_max = 0, 255\n",
    "    new_min, new_max = -1, 1\n",
    "    scale = (new_max - new_min) / (old_max - old_min)\n",
    "    \n",
    "    normalized_sequences = []\n",
    "    \n",
    "    for seq in sequences:\n",
    "        normalized_sequence = []\n",
    "        for point in seq:\n",
    "            x, y, pen_state = point\n",
    "            \n",
    "            # Normalize coordinates\n",
    "            norm_x = new_min + (x - old_min) * scale\n",
    "            norm_y = new_min + (y - old_min) * scale\n",
    "            \n",
    "            # Add normalized points to the sequence list\n",
    "            normalized_sequence.append([norm_x, norm_y, pen_state])\n",
    "\n",
    "        # Add normalized sequene to sequences list\n",
    "        normalized_sequences.append(normalized_sequence)\n",
    "        \n",
    "    print(f\"Sequences normalized: {len(normalized_sequences)}\")\n",
    "    \n",
    "    return normalized_sequences\n",
    "    "
   ]
  },
  {
   "cell_type": "code",
   "execution_count": 101,
   "id": "9b56bb07",
   "metadata": {},
   "outputs": [
    {
     "data": {
      "text/plain": [
       "[0, 4, 1]"
      ]
     },
     "execution_count": 101,
     "metadata": {},
     "output_type": "execute_result"
    }
   ],
   "source": [
    "bus_test_sequences[0][0]"
   ]
  },
  {
   "cell_type": "code",
   "execution_count": 98,
   "id": "29ef7eae",
   "metadata": {},
   "outputs": [
    {
     "name": "stdout",
     "output_type": "stream",
     "text": [
      "Sequences normalized: 10000\n",
      "\n",
      "Sequences normalized: 2000\n"
     ]
    }
   ],
   "source": [
    "normalized_bus_train_sequences = normalize_coordinates(bus_train_sequences)\n",
    "print()\n",
    "normalized_bus_test_sequences = normalize_coordinates(bus_test_sequences)"
   ]
  },
  {
   "cell_type": "code",
   "execution_count": null,
   "id": "e23c3969",
   "metadata": {},
   "outputs": [],
   "source": [
    "# Calculate the max length for padding operations \n",
    "def calculate_max_length(train_sequences, test_sequences):\n",
    "    # Get all sequence lengths\n",
    "    train_lengths = [len(seq) for seq in train_sequences]\n",
    "    test_lengths = [len(seq) for seq in test_sequences]\n",
    "    all_lengths = train_lengths + test_lengths\n",
    "    \n",
    "    # Return maximum length\n",
    "    max_length = max(all_lengths)\n",
    "    \n",
    "    print(f\"Max sequence length: {max_length} (train_max: {max(train_lengths)}, test_max: {max(test_lengths)})\")\n",
    "    \n",
    "    return max_length"
   ]
  },
  {
   "cell_type": "code",
   "execution_count": null,
   "id": "a15d3ddb",
   "metadata": {},
   "outputs": [
    {
     "name": "stdout",
     "output_type": "stream",
     "text": [
      "Max sequence length: 451 (train_max: 451, test_max: 292)\n"
     ]
    }
   ],
   "source": [
    "max_length = calculate_max_length(normalized_bus_train_sequences, normalized_bus_test_sequences)"
   ]
  },
  {
   "cell_type": "code",
   "execution_count": 124,
   "id": "79bf2f1e",
   "metadata": {},
   "outputs": [],
   "source": [
    "# Padding the sequences to ensure every sequence is same length\n",
    "def pad_sequences(sequences, max_length, pad_value = [0, 0, -1]):\n",
    "    padded_sequences = []\n",
    "    actual_lengths = []\n",
    "    \n",
    "    for sequence in sequences:\n",
    "        seq_len = len(sequence)\n",
    "        actual_lengths.append(min(seq_len, max_length))\n",
    "        \n",
    "        if seq_len >= max_length:\n",
    "            # Truncate long sequences\n",
    "            padded_seq = sequence[:max_length]\n",
    "        else:\n",
    "            # Pad short sequences\n",
    "            padded_seq = sequence + [pad_value] * (max_length - seq_len)\n",
    "        \n",
    "        padded_sequences.append(padded_seq)\n",
    "        \n",
    "    print(f\"Final sequence length: {max_length}\")\n",
    "    print(f\"Padded sequences: {len(padded_sequences)}\")\n",
    "    \n",
    "    return padded_sequences, actual_lengths"
   ]
  },
  {
   "cell_type": "code",
   "execution_count": 125,
   "id": "b23abb75",
   "metadata": {},
   "outputs": [
    {
     "name": "stdout",
     "output_type": "stream",
     "text": [
      "Final sequence length: 451\n",
      "Padded sequences: 10000\n",
      "\n",
      "Final sequence length: 451\n",
      "Padded sequences: 2000\n"
     ]
    }
   ],
   "source": [
    "bus_train_padded_sequences, bus_train_data_actual_lengths = pad_sequences(normalized_bus_train_sequences, max_length)\n",
    "print()\n",
    "bus_test_padded_sequences, bus_test_data_actual_lengths = pad_sequences(normalized_bus_test_sequences, max_length)"
   ]
  },
  {
   "cell_type": "code",
   "execution_count": 137,
   "id": "94742e2c",
   "metadata": {},
   "outputs": [],
   "source": [
    "bus_train_data_processed = np.array(bus_train_padded_sequences, dtype=np.float32)\n",
    "bus_test_data_processed = np.array(bus_test_padded_sequences, dtype=np.float32)\n",
    "bus_train_data_actual_array = np.array(bus_train_data_actual_lengths, dtype=np.int32)\n",
    "bus_test_data_actual_array = np.array(bus_test_data_actual_lengths, dtype=np.int32)"
   ]
  },
  {
   "cell_type": "code",
   "execution_count": 138,
   "id": "b4cce270",
   "metadata": {},
   "outputs": [],
   "source": [
    "dataset = {\n",
    "    'train_data': bus_train_data_processed,\n",
    "    'test_data': bus_test_data_processed,\n",
    "    'train_lengths': bus_train_data_actual_array,\n",
    "    'test_lengths': bus_test_data_actual_array,\n",
    "    'max_sequence_length': max_length,\n",
    "    'category': \"bus\",\n",
    "    'train_size': len(bus_train_data_processed),\n",
    "    'test_size': len(bus_test_data_processed)\n",
    "}"
   ]
  },
  {
   "cell_type": "code",
   "execution_count": 144,
   "id": "bab0c151",
   "metadata": {},
   "outputs": [],
   "source": [
    "# Creating a full traning process funtion to streamline preprocess\n",
    "def create_traning_dataset(category):\n",
    "    train_indices, test_indices = load_json_indices(category) # Load indices\n",
    "    sketches = load_sketches(category) # Load sketches\n",
    "    train_drawings, test_drawings = filter_drawings(sketches, train_indices, test_indices) # Filter out the drawings according to indices\n",
    "    \n",
    "    train_sequences, train_sequence_lengths, train_stroke_counts = label_stroke_seq(train_drawings) # Labeling stroke sequences\n",
    "    test_sequences, test_sequence_lengths, test_stroke_counts = label_stroke_seq(test_drawings)\n",
    "    \n",
    "    train_normalized_sequences = normalize_coordinates(train_sequences) # Normalizing sequence coordinates\n",
    "    test_normalized_sequences = normalize_coordinates(test_sequences)\n",
    "    \n",
    "    max_length = calculate_max_length(train_normalized_sequences, test_normalized_sequences) # Calculating max_lenghts for paddings\n",
    "    \n",
    "    train_padded_sequences, train_data_actual_lengths = pad_sequences(train_normalized_sequences, max_length) # Pad normalized sequences \n",
    "    test_padded_sequences, test_data_actual_lengths = pad_sequences(test_normalized_sequences, max_length)\n",
    "    \n",
    "    train_data_processed = np.array(train_padded_sequences, dtype=np.float32) # Convert to numpy array\n",
    "    test_data_processed = np.array(test_padded_sequences, dtype=np.float32)\n",
    "    train_data_actual_array = np.array(train_data_actual_lengths, dtype=np.int32)\n",
    "    test_data_actual_array = np.array(test_data_actual_lengths, dtype=np.int32)\n",
    "    \n",
    "    dataset = {\n",
    "        'train_data': train_data_processed,\n",
    "        'test_data': test_data_processed,\n",
    "        'train_lengths': train_data_actual_array,\n",
    "        'test_lengths': test_data_actual_array,\n",
    "        'max_sequence_length': max_length,\n",
    "        'category': \"bus\",\n",
    "        'train_size': len(train_data_processed),\n",
    "        'test_size': len(test_data_processed)\n",
    "    }\n",
    "    \n",
    "    return dataset "
   ]
  },
  {
   "cell_type": "code",
   "execution_count": null,
   "id": "96ed4998",
   "metadata": {},
   "outputs": [],
   "source": [
    "# Visualize the processed data\n",
    "def visualize_data(dataset, category, num_samples=5):\n",
    "    train_data = dataset['train_data']\n",
    "    train_lengths = dataset['train_lengths']\n",
    "    \n",
    "    fig, axes = plt.subplots(1, num_samples, figsize=(12, 5))\n",
    "    if num_samples == 1:\n",
    "        axes = [axes]\n",
    "    \n",
    "    for i in range(num_samples):\n",
    "        ax = axes[i]\n",
    "        \n",
    "        # Get sequence and actual length\n",
    "        sequence = train_data[i]\n",
    "        actual_length = train_lengths[i]\n",
    "        \n",
    "        # Extract coordinates (ignore padding)\n",
    "        coords = sequence[:actual_length]\n",
    "        \n",
    "        # Plot drawing\n",
    "        current_stroke = []\n",
    "        stroke_num = 0\n",
    "        colors = plt.cm.Set3(np.linspace(0, 1, 10))\n",
    "        \n",
    "        for point in coords:\n",
    "            x, y, pen_state = point\n",
    "            \n",
    "            if pen_state == 1:  # Start stroke\n",
    "                if current_stroke:  # Plot previous stroke\n",
    "                    stroke_x, stroke_y = zip(*current_stroke)\n",
    "                    ax.plot(stroke_x, stroke_y, color=colors[stroke_num % 10], linewidth=2, marker='o', markersize=1)\n",
    "                    stroke_num += 1\n",
    "                current_stroke = [(x, y)]\n",
    "            elif pen_state == 2:  # continue stroke\n",
    "                current_stroke.append((x, y))\n",
    "            elif pen_state == 0:  # stop stroke\n",
    "                if current_stroke:\n",
    "                    current_stroke.append((x, y))\n",
    "                    stroke_x, stroke_y = zip(*current_stroke)\n",
    "                    ax.plot(stroke_x, stroke_y, color=colors[stroke_num % 10], linewidth=2, marker='o', markersize=1)\n",
    "                    stroke_num += 1\n",
    "                    current_stroke = []\n",
    "            elif pen_state == 3:  # end of drowing\n",
    "                break\n",
    "        \n",
    "        # Plot final stroke if exists\n",
    "        if current_stroke:\n",
    "            stroke_x, stroke_y = zip(*current_stroke)\n",
    "            ax.plot(stroke_x, stroke_y, color=colors[stroke_num % 10], linewidth=2, marker='o', markersize=1)\n",
    "        \n",
    "        ax.set_title(f'{category.capitalize()} Sample {i+1}\\nLength: {actual_length}')\n",
    "        ax.set_aspect('equal')\n",
    "        ax.grid(True, alpha=0.3)\n",
    "        ax.set_xlim(-1.2, 1.2) \n",
    "        ax.set_ylim(-1.2, 1.2)\n",
    "        ax.invert_yaxis()\n",
    "    \n",
    "    plt.tight_layout()\n",
    "    plt.show()"
   ]
  },
  {
   "cell_type": "code",
   "execution_count": 149,
   "id": "f88d959b",
   "metadata": {},
   "outputs": [
    {
     "data": {
      "image/png": "[encoded data removed]",
      "text/plain": [
       "<Figure size 1200x500 with 5 Axes>"
      ]
     },
     "metadata": {},
     "output_type": "display_data"
    }
   ],
   "source": [
    "visualize_data(dataset, dataset['category'])"
   ]
  },
  {
   "cell_type": "code",
   "execution_count": 154,
   "id": "bf11ada7",
   "metadata": {},
   "outputs": [],
   "source": [
    "# Complete function to process all categories\n",
    "def process_categories(categories:List[str]):\n",
    "    processed_datasets = {}\n",
    "    \n",
    "    for category, data in categories.items():\n",
    "        print(f\"PROCESSING CATEGORY: {category.upper()}\")\n",
    "        \n",
    "        dataset = create_traning_dataset(\n",
    "            drawings=data['drawings'],\n",
    "            train_indices=data['train_indices'],\n",
    "            test_indices=data['test_indices'],\n",
    "            category=category\n",
    "        )\n",
    "        \n",
    "        processed_datasets[category] = dataset\n",
    "        \n",
    "        visualize_data(dataset, category)\n",
    "        \n",
    "    for category, dataset in processed_datasets.items():\n",
    "        print(f\"{category.upper()}: {dataset['train_size']} train, {dataset['test_size']} test, seq_len={dataset['max_sequence_length']}\")\n",
    "    \n",
    "    return processed_datasets"
   ]
  },
  {
   "cell_type": "code",
   "execution_count": null,
   "id": "5a78636b",
   "metadata": {},
   "outputs": [],
   "source": []
  },
  {
   "cell_type": "code",
   "execution_count": null,
   "id": "966a931f",
   "metadata": {},
   "outputs": [],
   "source": []
  },
  {
   "cell_type": "code",
   "execution_count": null,
   "id": "c2db761d",
   "metadata": {},
   "outputs": [],
   "source": []
  },
  {
   "cell_type": "code",
   "execution_count": null,
   "id": "357f370b",
   "metadata": {},
   "outputs": [],
   "source": []
  },
  {
   "cell_type": "code",
   "execution_count": null,
   "id": "ddc25fc5",
   "metadata": {},
   "outputs": [],
   "source": []
  }
 ],
 "metadata": {
  "kernelspec": {
   "display_name": ".venv",
   "language": "python",
   "name": "python3"
  },
  "language_info": {
   "codemirror_mode": {
    "name": "ipython",
    "version": 3
   },
   "file_extension": ".py",
   "mimetype": "text/x-python",
   "name": "python",
   "nbconvert_exporter": "python",
   "pygments_lexer": "ipython3",
   "version": "3.10.12"
  }
 },
 "nbformat": 4,
 "nbformat_minor": 5
}
